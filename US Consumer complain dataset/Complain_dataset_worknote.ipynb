{
 "cells": [
  {
   "cell_type": "markdown",
   "metadata": {
    "id": "ZlSHUGX3Ttfr"
   },
   "source": [
    "# Dataset Description\n",
    "- This is a dataset of consumer complaints to the U.S Consumer Financial Protection Bureau. This contains a list of complaints made to the Financial Protection Bureau.\n",
    "\n",
    "# Problem Statement\n",
    "- Using this dataset create a text classification model that can predict the \"Product\" column using the \"Consumer complaint narrative\" data as input.The model should take a line of text as input and predict the \"Product\" the complaint is about.\n"
   ]
  },
  {
   "cell_type": "markdown",
   "metadata": {
    "id": "l-eR40njU30F"
   },
   "source": [
    "# IMPORTING THE REQUIRED LIBRARIES"
   ]
  },
  {
   "cell_type": "code",
   "execution_count": 1,
   "metadata": {
    "colab": {
     "base_uri": "https://localhost:8080/"
    },
    "id": "GU3qr9xXLOtA",
    "outputId": "20f87d92-84da-4736-9fa1-2ebc176fb00e"
   },
   "outputs": [
    {
     "name": "stderr",
     "output_type": "stream",
     "text": [
      "[nltk_data] Downloading package stopwords to /root/nltk_data...\n",
      "[nltk_data]   Package stopwords is already up-to-date!\n"
     ]
    }
   ],
   "source": [
    "import numpy as np #library used for numerical computing.\n",
    "import pandas as pd #library used for data manipulation and analysis.\n",
    "from plotly.offline import iplot #Part of Ploty library, used for interactive and exploratory data visualization\n",
    "import matplotlib.pyplot as plt #widely used plotting histograms, barplot etc.\n",
    "import seaborn as sns #It is a data visualization library built on top of matplotlib, provides a high-level interface for creating attractive and informative statistical graphics.\n",
    "from tensorflow import keras #used to import keras module form tensorflow package.\n",
    "from tensorflow.keras.preprocessing.text import Tokenizer #This is a class from the Keras API of TensorFlow used for text preprocessing. It helps tokenize text data into sequences of integers.\n",
    "from tensorflow.keras.preprocessing.sequence import pad_sequences #This function from Keras is used to pad sequences to a fixed length. It is commonly used to make all sequences of the same length in a dataset.\n",
    "from tensorflow.keras.models import Sequential #It is a linear stack of layers in Keras, used for building deep learning models.\n",
    "from tensorflow.keras.layers import Dense, Embedding, LSTM, SpatialDropout1D #These are various types of layers used in constructing neural networks in Keras, such as Dense (fully connected), Embedding, LSTM, etc.\n",
    "from sklearn.model_selection import train_test_split # This function from scikit-learn is used to split the dataset into training and testing sets.\n",
    "from keras.utils.np_utils import to_categorical #This function from Keras is used to one-hot encode categorical labels (target variables)\n",
    "from tensorflow.keras.callbacks import EarlyStopping #This is a callback in Keras that stops training the model when a monitored metric has stopped improving.\n",
    "from tensorflow.keras.layers import Dropout #the Dropout layer is a regularization technique used to prevent overfitting in neural networks.\n",
    "import re #built-in module in Python that stands for \"regular expression.\" It provides support for regular expressions, which are powerful and flexible patterns used to match and manipulate strings.\n",
    "import nltk #It is the Natural Language Toolkit library, which provides tools for working with human language data, including text processing, tokenization, and stopword removal.\n",
    "nltk.download('stopwords') #downloading stopwards from nltk.\n",
    "from nltk.corpus import stopwords #This is a collection of stopwords in different languages provided by the NLTK library. Stopwords are common words (e.g.,\"the,\" \"and,\" \"is\") that are usually removed from text data as they don't carry much meaning.\n",
    "from nltk import word_tokenize # is a function from the Natural Language Toolkit (NLTK) library in Python. It is used to split a sentence or a piece of text into individual words, which is known as tokenization.\n",
    "STOPWORDS = set(stopwords.words('english')) #is a line of code that creates a set containing common stopwords in the English language using the NLTK library."
   ]
  },
  {
   "cell_type": "markdown",
   "metadata": {
    "id": "PyuJgtzYL2GW"
   },
   "source": [
    "# NLTK (Natural Language Toolkit)\n",
    "- NLTK (Natural Language Toolkit) is the go-to API for NLP (Natural Language Processing) with Python. It is a really powerful tool to preprocess text **data1** for further analysis like with ML models for instance. It helps convert text into numbers, which the model can then easily work with.\n",
    "- NLTK is a Python library that provides a rich set of modules and resources for NLP, such as tokenizers, parsers, stemmers, taggers, corpora, and models."
   ]
  },
  {
   "cell_type": "markdown",
   "metadata": {
    "id": "7lmW5cMTBCRc"
   },
   "source": [
    "# MOUNT GOOGLE DRIVE"
   ]
  },
  {
   "cell_type": "code",
   "execution_count": 2,
   "metadata": {
    "colab": {
     "base_uri": "https://localhost:8080/"
    },
    "id": "5bcgAJW4L8yh",
    "outputId": "c46c98c0-aec2-4772-9357-193c8670692d"
   },
   "outputs": [
    {
     "name": "stdout",
     "output_type": "stream",
     "text": [
      "Drive already mounted at /content/drive; to attempt to forcibly remount, call drive.mount(\"/content/drive\", force_remount=True).\n"
     ]
    }
   ],
   "source": [
    "from google.colab import drive\n",
    "drive.mount('/content/drive')"
   ]
  },
  {
   "cell_type": "markdown",
   "metadata": {
    "id": "Cbmbd9WYBFHz"
   },
   "source": [
    "# LOADING THE DATA"
   ]
  },
  {
   "cell_type": "code",
   "execution_count": 3,
   "metadata": {
    "id": "tWPpsNYpMOQ5"
   },
   "outputs": [],
   "source": [
    "data = pd.read_csv('/content/complaints-2021-09-08_07_12.csv')"
   ]
  },
  {
   "cell_type": "code",
   "execution_count": 4,
   "metadata": {
    "colab": {
     "base_uri": "https://localhost:8080/",
     "height": 1000
    },
    "id": "9uy71b6tOoQY",
    "outputId": "e55cb6ad-6bf4-46cc-e5d4-63cf7734772f"
   },
   "outputs": [
    {
     "data": {
      "text/html": [
       "\n",
       "\n",
       "  <div id=\"df-dbdcb1a6-bd82-4b66-bf2d-aa45ab48e279\">\n",
       "    <div class=\"colab-df-container\">\n",
       "      <div>\n",
       "<style scoped>\n",
       "    .dataframe tbody tr th:only-of-type {\n",
       "        vertical-align: middle;\n",
       "    }\n",
       "\n",
       "    .dataframe tbody tr th {\n",
       "        vertical-align: top;\n",
       "    }\n",
       "\n",
       "    .dataframe thead th {\n",
       "        text-align: right;\n",
       "    }\n",
       "</style>\n",
       "<table border=\"1\" class=\"dataframe\">\n",
       "  <thead>\n",
       "    <tr style=\"text-align: right;\">\n",
       "      <th></th>\n",
       "      <th>Date received</th>\n",
       "      <th>Product</th>\n",
       "      <th>Sub-product</th>\n",
       "      <th>Issue</th>\n",
       "      <th>Sub-issue</th>\n",
       "      <th>Consumer complaint narrative</th>\n",
       "      <th>Company public response</th>\n",
       "      <th>Company</th>\n",
       "      <th>State</th>\n",
       "      <th>ZIP code</th>\n",
       "      <th>Tags</th>\n",
       "      <th>Consumer consent provided?</th>\n",
       "      <th>Submitted via</th>\n",
       "      <th>Date sent to company</th>\n",
       "      <th>Company response to consumer</th>\n",
       "      <th>Timely response?</th>\n",
       "      <th>Consumer disputed?</th>\n",
       "      <th>Complaint ID</th>\n",
       "    </tr>\n",
       "  </thead>\n",
       "  <tbody>\n",
       "    <tr>\n",
       "      <th>0</th>\n",
       "      <td>08/27/21</td>\n",
       "      <td>Debt collection</td>\n",
       "      <td>Credit card debt</td>\n",
       "      <td>Attempts to collect debt not owed</td>\n",
       "      <td>Debt was result of identity theft</td>\n",
       "      <td>NaN</td>\n",
       "      <td>None</td>\n",
       "      <td>Bonneville Billing and Collections</td>\n",
       "      <td>FL</td>\n",
       "      <td>33256</td>\n",
       "      <td>None</td>\n",
       "      <td>None</td>\n",
       "      <td>Web</td>\n",
       "      <td>08/27/21</td>\n",
       "      <td>Closed with explanation</td>\n",
       "      <td>Yes</td>\n",
       "      <td>NaN</td>\n",
       "      <td>4669189</td>\n",
       "    </tr>\n",
       "    <tr>\n",
       "      <th>1</th>\n",
       "      <td>08/08/21</td>\n",
       "      <td>Credit reporting, credit repair services, or o...</td>\n",
       "      <td>Credit reporting</td>\n",
       "      <td>Incorrect information on your report</td>\n",
       "      <td>Account status incorrect</td>\n",
       "      <td>NaN</td>\n",
       "      <td>None</td>\n",
       "      <td>BOEING EMPLOYEES CREDIT UNION</td>\n",
       "      <td>WA</td>\n",
       "      <td>None</td>\n",
       "      <td>None</td>\n",
       "      <td>None</td>\n",
       "      <td>Web</td>\n",
       "      <td>08/08/21</td>\n",
       "      <td>Closed with explanation</td>\n",
       "      <td>Yes</td>\n",
       "      <td>NaN</td>\n",
       "      <td>4612302</td>\n",
       "    </tr>\n",
       "    <tr>\n",
       "      <th>2</th>\n",
       "      <td>08/14/21</td>\n",
       "      <td>Credit reporting, credit repair services, or o...</td>\n",
       "      <td>Credit reporting</td>\n",
       "      <td>Incorrect information on your report</td>\n",
       "      <td>Information belongs to someone else</td>\n",
       "      <td>NaN</td>\n",
       "      <td>None</td>\n",
       "      <td>Frontline Asset Strategies, LLC</td>\n",
       "      <td>GA</td>\n",
       "      <td>300XX</td>\n",
       "      <td>None</td>\n",
       "      <td>None</td>\n",
       "      <td>Web</td>\n",
       "      <td>08/14/21</td>\n",
       "      <td>Closed with explanation</td>\n",
       "      <td>Yes</td>\n",
       "      <td>NaN</td>\n",
       "      <td>4632146</td>\n",
       "    </tr>\n",
       "    <tr>\n",
       "      <th>3</th>\n",
       "      <td>08/27/21</td>\n",
       "      <td>Credit reporting, credit repair services, or o...</td>\n",
       "      <td>Credit reporting</td>\n",
       "      <td>Problem with a credit reporting company's inve...</td>\n",
       "      <td>Investigation took more than 30 days</td>\n",
       "      <td>NaN</td>\n",
       "      <td>None</td>\n",
       "      <td>Credence Resource Management, LLC</td>\n",
       "      <td>OH</td>\n",
       "      <td>43213</td>\n",
       "      <td>None</td>\n",
       "      <td>None</td>\n",
       "      <td>Web</td>\n",
       "      <td>08/27/21</td>\n",
       "      <td>In progress</td>\n",
       "      <td>Yes</td>\n",
       "      <td>NaN</td>\n",
       "      <td>4668465</td>\n",
       "    </tr>\n",
       "    <tr>\n",
       "      <th>4</th>\n",
       "      <td>08/25/21</td>\n",
       "      <td>Debt collection</td>\n",
       "      <td>Other debt</td>\n",
       "      <td>Attempts to collect debt not owed</td>\n",
       "      <td>Debt was paid</td>\n",
       "      <td>NaN</td>\n",
       "      <td>Company has responded to the consumer and the ...</td>\n",
       "      <td>I.C. System, Inc.</td>\n",
       "      <td>FL</td>\n",
       "      <td>32839</td>\n",
       "      <td>None</td>\n",
       "      <td>Consent not provided</td>\n",
       "      <td>Web</td>\n",
       "      <td>08/25/21</td>\n",
       "      <td>Closed with explanation</td>\n",
       "      <td>Yes</td>\n",
       "      <td>NaN</td>\n",
       "      <td>4658212</td>\n",
       "    </tr>\n",
       "    <tr>\n",
       "      <th>...</th>\n",
       "      <td>...</td>\n",
       "      <td>...</td>\n",
       "      <td>...</td>\n",
       "      <td>...</td>\n",
       "      <td>...</td>\n",
       "      <td>...</td>\n",
       "      <td>...</td>\n",
       "      <td>...</td>\n",
       "      <td>...</td>\n",
       "      <td>...</td>\n",
       "      <td>...</td>\n",
       "      <td>...</td>\n",
       "      <td>...</td>\n",
       "      <td>...</td>\n",
       "      <td>...</td>\n",
       "      <td>...</td>\n",
       "      <td>...</td>\n",
       "      <td>...</td>\n",
       "    </tr>\n",
       "    <tr>\n",
       "      <th>49821</th>\n",
       "      <td>08/12/21</td>\n",
       "      <td>Credit card or prepaid card</td>\n",
       "      <td>Gift card</td>\n",
       "      <td>Unexpected or other fees</td>\n",
       "      <td>None</td>\n",
       "      <td>NaN</td>\n",
       "      <td>None</td>\n",
       "      <td>BANK OF AMERICA, NATIONAL ASSOCIATION</td>\n",
       "      <td>CA</td>\n",
       "      <td>920XX</td>\n",
       "      <td>None</td>\n",
       "      <td>None</td>\n",
       "      <td>Web</td>\n",
       "      <td>08/12/21</td>\n",
       "      <td>In progress</td>\n",
       "      <td>Yes</td>\n",
       "      <td>NaN</td>\n",
       "      <td>4626212</td>\n",
       "    </tr>\n",
       "    <tr>\n",
       "      <th>49822</th>\n",
       "      <td>08/26/21</td>\n",
       "      <td>Debt collection</td>\n",
       "      <td>I do not know</td>\n",
       "      <td>Took or threatened to take negative or legal a...</td>\n",
       "      <td>Threatened or suggested your credit would be d...</td>\n",
       "      <td>NaN</td>\n",
       "      <td>None</td>\n",
       "      <td>Consumer Adjustment Company Incorporated</td>\n",
       "      <td>NJ</td>\n",
       "      <td>085XX</td>\n",
       "      <td>None</td>\n",
       "      <td>None</td>\n",
       "      <td>Web</td>\n",
       "      <td>08/26/21</td>\n",
       "      <td>Closed with explanation</td>\n",
       "      <td>Yes</td>\n",
       "      <td>NaN</td>\n",
       "      <td>4665563</td>\n",
       "    </tr>\n",
       "    <tr>\n",
       "      <th>49823</th>\n",
       "      <td>08/17/21</td>\n",
       "      <td>Credit reporting, credit repair services, or o...</td>\n",
       "      <td>Credit reporting</td>\n",
       "      <td>Problem with a credit reporting company's inve...</td>\n",
       "      <td>Investigation took more than 30 days</td>\n",
       "      <td>NaN</td>\n",
       "      <td>None</td>\n",
       "      <td>OneMain Finance Corporation</td>\n",
       "      <td>PA</td>\n",
       "      <td>19121</td>\n",
       "      <td>None</td>\n",
       "      <td>None</td>\n",
       "      <td>Web</td>\n",
       "      <td>08/17/21</td>\n",
       "      <td>Closed with explanation</td>\n",
       "      <td>Yes</td>\n",
       "      <td>NaN</td>\n",
       "      <td>4637059</td>\n",
       "    </tr>\n",
       "    <tr>\n",
       "      <th>49824</th>\n",
       "      <td>08/26/21</td>\n",
       "      <td>Debt collection</td>\n",
       "      <td>I do not know</td>\n",
       "      <td>Attempts to collect debt not owed</td>\n",
       "      <td>Debt was result of identity theft</td>\n",
       "      <td>NaN</td>\n",
       "      <td>None</td>\n",
       "      <td>ERC</td>\n",
       "      <td>MS</td>\n",
       "      <td>39501</td>\n",
       "      <td>None</td>\n",
       "      <td>None</td>\n",
       "      <td>Web</td>\n",
       "      <td>08/26/21</td>\n",
       "      <td>Closed with explanation</td>\n",
       "      <td>Yes</td>\n",
       "      <td>NaN</td>\n",
       "      <td>4666537</td>\n",
       "    </tr>\n",
       "    <tr>\n",
       "      <th>49825</th>\n",
       "      <td>08/13/21</td>\n",
       "      <td>Debt collection</td>\n",
       "      <td>Credit card debt</td>\n",
       "      <td>Attempts to collect debt not owed</td>\n",
       "      <td>Debt was result of identity theft</td>\n",
       "      <td>NaN</td>\n",
       "      <td>Company has responded to the consumer and the ...</td>\n",
       "      <td>TRANSUNION INTERMEDIATE HOLDINGS, INC.</td>\n",
       "      <td>FL</td>\n",
       "      <td>33138</td>\n",
       "      <td>None</td>\n",
       "      <td>Consent not provided</td>\n",
       "      <td>Web</td>\n",
       "      <td>08/13/21</td>\n",
       "      <td>Closed with explanation</td>\n",
       "      <td>Yes</td>\n",
       "      <td>NaN</td>\n",
       "      <td>4628175</td>\n",
       "    </tr>\n",
       "  </tbody>\n",
       "</table>\n",
       "<p>49826 rows × 18 columns</p>\n",
       "</div>\n",
       "      <button class=\"colab-df-convert\" onclick=\"convertToInteractive('df-dbdcb1a6-bd82-4b66-bf2d-aa45ab48e279')\"\n",
       "              title=\"Convert this dataframe to an interactive table.\"\n",
       "              style=\"display:none;\">\n",
       "\n",
       "  <svg xmlns=\"http://www.w3.org/2000/svg\" height=\"24px\"viewBox=\"0 0 24 24\"\n",
       "       width=\"24px\">\n",
       "    <path d=\"M0 0h24v24H0V0z\" fill=\"none\"/>\n",
       "    <path d=\"M18.56 5.44l.94 2.06.94-2.06 2.06-.94-2.06-.94-.94-2.06-.94 2.06-2.06.94zm-11 1L8.5 8.5l.94-2.06 2.06-.94-2.06-.94L8.5 2.5l-.94 2.06-2.06.94zm10 10l.94 2.06.94-2.06 2.06-.94-2.06-.94-.94-2.06-.94 2.06-2.06.94z\"/><path d=\"M17.41 7.96l-1.37-1.37c-.4-.4-.92-.59-1.43-.59-.52 0-1.04.2-1.43.59L10.3 9.45l-7.72 7.72c-.78.78-.78 2.05 0 2.83L4 21.41c.39.39.9.59 1.41.59.51 0 1.02-.2 1.41-.59l7.78-7.78 2.81-2.81c.8-.78.8-2.07 0-2.86zM5.41 20L4 18.59l7.72-7.72 1.47 1.35L5.41 20z\"/>\n",
       "  </svg>\n",
       "      </button>\n",
       "\n",
       "\n",
       "\n",
       "    <div id=\"df-3bc2d1aa-cb91-4120-9bcf-91bd9723d8b7\">\n",
       "      <button class=\"colab-df-quickchart\" onclick=\"quickchart('df-3bc2d1aa-cb91-4120-9bcf-91bd9723d8b7')\"\n",
       "              title=\"Suggest charts.\"\n",
       "              style=\"display:none;\">\n",
       "\n",
       "<svg xmlns=\"http://www.w3.org/2000/svg\" height=\"24px\"viewBox=\"0 0 24 24\"\n",
       "     width=\"24px\">\n",
       "    <g>\n",
       "        <path d=\"M19 3H5c-1.1 0-2 .9-2 2v14c0 1.1.9 2 2 2h14c1.1 0 2-.9 2-2V5c0-1.1-.9-2-2-2zM9 17H7v-7h2v7zm4 0h-2V7h2v10zm4 0h-2v-4h2v4z\"/>\n",
       "    </g>\n",
       "</svg>\n",
       "      </button>\n",
       "    </div>\n",
       "\n",
       "<style>\n",
       "  .colab-df-quickchart {\n",
       "    background-color: #E8F0FE;\n",
       "    border: none;\n",
       "    border-radius: 50%;\n",
       "    cursor: pointer;\n",
       "    display: none;\n",
       "    fill: #1967D2;\n",
       "    height: 32px;\n",
       "    padding: 0 0 0 0;\n",
       "    width: 32px;\n",
       "  }\n",
       "\n",
       "  .colab-df-quickchart:hover {\n",
       "    background-color: #E2EBFA;\n",
       "    box-shadow: 0px 1px 2px rgba(60, 64, 67, 0.3), 0px 1px 3px 1px rgba(60, 64, 67, 0.15);\n",
       "    fill: #174EA6;\n",
       "  }\n",
       "\n",
       "  [theme=dark] .colab-df-quickchart {\n",
       "    background-color: #3B4455;\n",
       "    fill: #D2E3FC;\n",
       "  }\n",
       "\n",
       "  [theme=dark] .colab-df-quickchart:hover {\n",
       "    background-color: #434B5C;\n",
       "    box-shadow: 0px 1px 3px 1px rgba(0, 0, 0, 0.15);\n",
       "    filter: drop-shadow(0px 1px 2px rgba(0, 0, 0, 0.3));\n",
       "    fill: #FFFFFF;\n",
       "  }\n",
       "</style>\n",
       "\n",
       "    <script>\n",
       "      async function quickchart(key) {\n",
       "        const containerElement = document.querySelector('#' + key);\n",
       "        const charts = await google.colab.kernel.invokeFunction(\n",
       "            'suggestCharts', [key], {});\n",
       "      }\n",
       "    </script>\n",
       "\n",
       "      <script>\n",
       "\n",
       "function displayQuickchartButton(domScope) {\n",
       "  let quickchartButtonEl =\n",
       "    domScope.querySelector('#df-3bc2d1aa-cb91-4120-9bcf-91bd9723d8b7 button.colab-df-quickchart');\n",
       "  quickchartButtonEl.style.display =\n",
       "    google.colab.kernel.accessAllowed ? 'block' : 'none';\n",
       "}\n",
       "\n",
       "        displayQuickchartButton(document);\n",
       "      </script>\n",
       "      <style>\n",
       "    .colab-df-container {\n",
       "      display:flex;\n",
       "      flex-wrap:wrap;\n",
       "      gap: 12px;\n",
       "    }\n",
       "\n",
       "    .colab-df-convert {\n",
       "      background-color: #E8F0FE;\n",
       "      border: none;\n",
       "      border-radius: 50%;\n",
       "      cursor: pointer;\n",
       "      display: none;\n",
       "      fill: #1967D2;\n",
       "      height: 32px;\n",
       "      padding: 0 0 0 0;\n",
       "      width: 32px;\n",
       "    }\n",
       "\n",
       "    .colab-df-convert:hover {\n",
       "      background-color: #E2EBFA;\n",
       "      box-shadow: 0px 1px 2px rgba(60, 64, 67, 0.3), 0px 1px 3px 1px rgba(60, 64, 67, 0.15);\n",
       "      fill: #174EA6;\n",
       "    }\n",
       "\n",
       "    [theme=dark] .colab-df-convert {\n",
       "      background-color: #3B4455;\n",
       "      fill: #D2E3FC;\n",
       "    }\n",
       "\n",
       "    [theme=dark] .colab-df-convert:hover {\n",
       "      background-color: #434B5C;\n",
       "      box-shadow: 0px 1px 3px 1px rgba(0, 0, 0, 0.15);\n",
       "      filter: drop-shadow(0px 1px 2px rgba(0, 0, 0, 0.3));\n",
       "      fill: #FFFFFF;\n",
       "    }\n",
       "  </style>\n",
       "\n",
       "      <script>\n",
       "        const buttonEl =\n",
       "          document.querySelector('#df-dbdcb1a6-bd82-4b66-bf2d-aa45ab48e279 button.colab-df-convert');\n",
       "        buttonEl.style.display =\n",
       "          google.colab.kernel.accessAllowed ? 'block' : 'none';\n",
       "\n",
       "        async function convertToInteractive(key) {\n",
       "          const element = document.querySelector('#df-dbdcb1a6-bd82-4b66-bf2d-aa45ab48e279');\n",
       "          const dataTable =\n",
       "            await google.colab.kernel.invokeFunction('convertToInteractive',\n",
       "                                                     [key], {});\n",
       "          if (!dataTable) return;\n",
       "\n",
       "          const docLinkHtml = 'Like what you see? Visit the ' +\n",
       "            '<a target=\"_blank\" href=https://colab.research.google.com/notebooks/data_table.ipynb>data table notebook</a>'\n",
       "            + ' to learn more about interactive tables.';\n",
       "          element.innerHTML = '';\n",
       "          dataTable['output_type'] = 'display_data';\n",
       "          await google.colab.output.renderOutput(dataTable, element);\n",
       "          const docLink = document.createElement('div');\n",
       "          docLink.innerHTML = docLinkHtml;\n",
       "          element.appendChild(docLink);\n",
       "        }\n",
       "      </script>\n",
       "    </div>\n",
       "  </div>\n"
      ],
      "text/plain": [
       "      Date received                                            Product  \\\n",
       "0          08/27/21                                    Debt collection   \n",
       "1          08/08/21  Credit reporting, credit repair services, or o...   \n",
       "2          08/14/21  Credit reporting, credit repair services, or o...   \n",
       "3          08/27/21  Credit reporting, credit repair services, or o...   \n",
       "4          08/25/21                                    Debt collection   \n",
       "...             ...                                                ...   \n",
       "49821      08/12/21                        Credit card or prepaid card   \n",
       "49822      08/26/21                                    Debt collection   \n",
       "49823      08/17/21  Credit reporting, credit repair services, or o...   \n",
       "49824      08/26/21                                    Debt collection   \n",
       "49825      08/13/21                                    Debt collection   \n",
       "\n",
       "            Sub-product                                              Issue  \\\n",
       "0      Credit card debt                  Attempts to collect debt not owed   \n",
       "1      Credit reporting               Incorrect information on your report   \n",
       "2      Credit reporting               Incorrect information on your report   \n",
       "3      Credit reporting  Problem with a credit reporting company's inve...   \n",
       "4            Other debt                  Attempts to collect debt not owed   \n",
       "...                 ...                                                ...   \n",
       "49821         Gift card                           Unexpected or other fees   \n",
       "49822     I do not know  Took or threatened to take negative or legal a...   \n",
       "49823  Credit reporting  Problem with a credit reporting company's inve...   \n",
       "49824     I do not know                  Attempts to collect debt not owed   \n",
       "49825  Credit card debt                  Attempts to collect debt not owed   \n",
       "\n",
       "                                               Sub-issue  \\\n",
       "0                      Debt was result of identity theft   \n",
       "1                               Account status incorrect   \n",
       "2                    Information belongs to someone else   \n",
       "3                   Investigation took more than 30 days   \n",
       "4                                          Debt was paid   \n",
       "...                                                  ...   \n",
       "49821                                               None   \n",
       "49822  Threatened or suggested your credit would be d...   \n",
       "49823               Investigation took more than 30 days   \n",
       "49824                  Debt was result of identity theft   \n",
       "49825                  Debt was result of identity theft   \n",
       "\n",
       "      Consumer complaint narrative  \\\n",
       "0                              NaN   \n",
       "1                              NaN   \n",
       "2                              NaN   \n",
       "3                              NaN   \n",
       "4                              NaN   \n",
       "...                            ...   \n",
       "49821                          NaN   \n",
       "49822                          NaN   \n",
       "49823                          NaN   \n",
       "49824                          NaN   \n",
       "49825                          NaN   \n",
       "\n",
       "                                 Company public response  \\\n",
       "0                                                   None   \n",
       "1                                                   None   \n",
       "2                                                   None   \n",
       "3                                                   None   \n",
       "4      Company has responded to the consumer and the ...   \n",
       "...                                                  ...   \n",
       "49821                                               None   \n",
       "49822                                               None   \n",
       "49823                                               None   \n",
       "49824                                               None   \n",
       "49825  Company has responded to the consumer and the ...   \n",
       "\n",
       "                                        Company State ZIP code  Tags  \\\n",
       "0            Bonneville Billing and Collections    FL    33256  None   \n",
       "1                 BOEING EMPLOYEES CREDIT UNION    WA     None  None   \n",
       "2               Frontline Asset Strategies, LLC    GA    300XX  None   \n",
       "3             Credence Resource Management, LLC    OH    43213  None   \n",
       "4                             I.C. System, Inc.    FL    32839  None   \n",
       "...                                         ...   ...      ...   ...   \n",
       "49821     BANK OF AMERICA, NATIONAL ASSOCIATION    CA    920XX  None   \n",
       "49822  Consumer Adjustment Company Incorporated    NJ    085XX  None   \n",
       "49823               OneMain Finance Corporation    PA    19121  None   \n",
       "49824                                       ERC    MS    39501  None   \n",
       "49825    TRANSUNION INTERMEDIATE HOLDINGS, INC.    FL    33138  None   \n",
       "\n",
       "      Consumer consent provided? Submitted via Date sent to company  \\\n",
       "0                           None           Web             08/27/21   \n",
       "1                           None           Web             08/08/21   \n",
       "2                           None           Web             08/14/21   \n",
       "3                           None           Web             08/27/21   \n",
       "4           Consent not provided           Web             08/25/21   \n",
       "...                          ...           ...                  ...   \n",
       "49821                       None           Web             08/12/21   \n",
       "49822                       None           Web             08/26/21   \n",
       "49823                       None           Web             08/17/21   \n",
       "49824                       None           Web             08/26/21   \n",
       "49825       Consent not provided           Web             08/13/21   \n",
       "\n",
       "      Company response to consumer Timely response?  Consumer disputed?  \\\n",
       "0          Closed with explanation              Yes                 NaN   \n",
       "1          Closed with explanation              Yes                 NaN   \n",
       "2          Closed with explanation              Yes                 NaN   \n",
       "3                      In progress              Yes                 NaN   \n",
       "4          Closed with explanation              Yes                 NaN   \n",
       "...                            ...              ...                 ...   \n",
       "49821                  In progress              Yes                 NaN   \n",
       "49822      Closed with explanation              Yes                 NaN   \n",
       "49823      Closed with explanation              Yes                 NaN   \n",
       "49824      Closed with explanation              Yes                 NaN   \n",
       "49825      Closed with explanation              Yes                 NaN   \n",
       "\n",
       "       Complaint ID  \n",
       "0           4669189  \n",
       "1           4612302  \n",
       "2           4632146  \n",
       "3           4668465  \n",
       "4           4658212  \n",
       "...             ...  \n",
       "49821       4626212  \n",
       "49822       4665563  \n",
       "49823       4637059  \n",
       "49824       4666537  \n",
       "49825       4628175  \n",
       "\n",
       "[49826 rows x 18 columns]"
      ]
     },
     "execution_count": 4,
     "metadata": {},
     "output_type": "execute_result"
    }
   ],
   "source": [
    "data"
   ]
  },
  {
   "cell_type": "markdown",
   "metadata": {
    "id": "9NyiMNvGyXiH"
   },
   "source": [
    "# Domain Analysis\n",
    "- **Date received**:- The date when the complaint was received.\n",
    "- **Product**:- The main category of the product or service associated with the complaint.\n",
    "- **Sub-product**:- A more specific sub-category of the product or service.\n",
    "- **Issue**:- The main issue or problem raised in the complaint.\n",
    "- **Sub-issue**: A more specific sub-issue related to the main issue.\n",
    "- **Consumer complaint narrative**: The detailed text description of the consumer's complaint.\n",
    "- **Company public response**: The public response provided by the company, if any.\n",
    "- **Company**: The name of the company being complained about.\n",
    "- **State**: The state where the consumer is located.\n",
    "- **ZIP code**: The ZIP code of the consumer.\n",
    "- **Tags**: Any additional tags or labels associated with the complaint.\n",
    "- **Consumer consent provided?**: Indicates whether the consumer provided consent for sharing the complaint.\n",
    "- **Submitted via**: The method through which the complaint was submitted (e.g., web, phone, mail).\n",
    "- **Date sent to company**: The date when the complaint was sent to the company.\n",
    "- **Company response to consumer**: The response provided by the company to the consumer's complaint.\n",
    "- **Timely response?**: Indicates whether the company's response was timely.\n",
    "- **Consumer disputed**?: Indicates whether the consumer disputed the company's response.\n",
    "- **Complaint ID**: A unique identifier for each complaint.\n"
   ]
  },
  {
   "cell_type": "markdown",
   "metadata": {
    "id": "jqLN5g1mQdOJ"
   },
   "source": [
    "# Basic Checks"
   ]
  },
  {
   "cell_type": "code",
   "execution_count": 5,
   "metadata": {
    "colab": {
     "base_uri": "https://localhost:8080/",
     "height": 528
    },
    "id": "LQ0fUtYDQnM4",
    "outputId": "13ca65a0-789a-4f1c-a462-ff9e0e22d1c3"
   },
   "outputs": [
    {
     "data": {
      "text/html": [
       "\n",
       "\n",
       "  <div id=\"df-0b45dbbf-9769-4e68-9aea-e4fb59550473\">\n",
       "    <div class=\"colab-df-container\">\n",
       "      <div>\n",
       "<style scoped>\n",
       "    .dataframe tbody tr th:only-of-type {\n",
       "        vertical-align: middle;\n",
       "    }\n",
       "\n",
       "    .dataframe tbody tr th {\n",
       "        vertical-align: top;\n",
       "    }\n",
       "\n",
       "    .dataframe thead th {\n",
       "        text-align: right;\n",
       "    }\n",
       "</style>\n",
       "<table border=\"1\" class=\"dataframe\">\n",
       "  <thead>\n",
       "    <tr style=\"text-align: right;\">\n",
       "      <th></th>\n",
       "      <th>Date received</th>\n",
       "      <th>Product</th>\n",
       "      <th>Sub-product</th>\n",
       "      <th>Issue</th>\n",
       "      <th>Sub-issue</th>\n",
       "      <th>Consumer complaint narrative</th>\n",
       "      <th>Company public response</th>\n",
       "      <th>Company</th>\n",
       "      <th>State</th>\n",
       "      <th>ZIP code</th>\n",
       "      <th>Tags</th>\n",
       "      <th>Consumer consent provided?</th>\n",
       "      <th>Submitted via</th>\n",
       "      <th>Date sent to company</th>\n",
       "      <th>Company response to consumer</th>\n",
       "      <th>Timely response?</th>\n",
       "      <th>Consumer disputed?</th>\n",
       "      <th>Complaint ID</th>\n",
       "    </tr>\n",
       "  </thead>\n",
       "  <tbody>\n",
       "    <tr>\n",
       "      <th>0</th>\n",
       "      <td>08/27/21</td>\n",
       "      <td>Debt collection</td>\n",
       "      <td>Credit card debt</td>\n",
       "      <td>Attempts to collect debt not owed</td>\n",
       "      <td>Debt was result of identity theft</td>\n",
       "      <td>NaN</td>\n",
       "      <td>None</td>\n",
       "      <td>Bonneville Billing and Collections</td>\n",
       "      <td>FL</td>\n",
       "      <td>33256</td>\n",
       "      <td>None</td>\n",
       "      <td>None</td>\n",
       "      <td>Web</td>\n",
       "      <td>08/27/21</td>\n",
       "      <td>Closed with explanation</td>\n",
       "      <td>Yes</td>\n",
       "      <td>NaN</td>\n",
       "      <td>4669189</td>\n",
       "    </tr>\n",
       "    <tr>\n",
       "      <th>1</th>\n",
       "      <td>08/08/21</td>\n",
       "      <td>Credit reporting, credit repair services, or o...</td>\n",
       "      <td>Credit reporting</td>\n",
       "      <td>Incorrect information on your report</td>\n",
       "      <td>Account status incorrect</td>\n",
       "      <td>NaN</td>\n",
       "      <td>None</td>\n",
       "      <td>BOEING EMPLOYEES CREDIT UNION</td>\n",
       "      <td>WA</td>\n",
       "      <td>None</td>\n",
       "      <td>None</td>\n",
       "      <td>None</td>\n",
       "      <td>Web</td>\n",
       "      <td>08/08/21</td>\n",
       "      <td>Closed with explanation</td>\n",
       "      <td>Yes</td>\n",
       "      <td>NaN</td>\n",
       "      <td>4612302</td>\n",
       "    </tr>\n",
       "    <tr>\n",
       "      <th>2</th>\n",
       "      <td>08/14/21</td>\n",
       "      <td>Credit reporting, credit repair services, or o...</td>\n",
       "      <td>Credit reporting</td>\n",
       "      <td>Incorrect information on your report</td>\n",
       "      <td>Information belongs to someone else</td>\n",
       "      <td>NaN</td>\n",
       "      <td>None</td>\n",
       "      <td>Frontline Asset Strategies, LLC</td>\n",
       "      <td>GA</td>\n",
       "      <td>300XX</td>\n",
       "      <td>None</td>\n",
       "      <td>None</td>\n",
       "      <td>Web</td>\n",
       "      <td>08/14/21</td>\n",
       "      <td>Closed with explanation</td>\n",
       "      <td>Yes</td>\n",
       "      <td>NaN</td>\n",
       "      <td>4632146</td>\n",
       "    </tr>\n",
       "    <tr>\n",
       "      <th>3</th>\n",
       "      <td>08/27/21</td>\n",
       "      <td>Credit reporting, credit repair services, or o...</td>\n",
       "      <td>Credit reporting</td>\n",
       "      <td>Problem with a credit reporting company's inve...</td>\n",
       "      <td>Investigation took more than 30 days</td>\n",
       "      <td>NaN</td>\n",
       "      <td>None</td>\n",
       "      <td>Credence Resource Management, LLC</td>\n",
       "      <td>OH</td>\n",
       "      <td>43213</td>\n",
       "      <td>None</td>\n",
       "      <td>None</td>\n",
       "      <td>Web</td>\n",
       "      <td>08/27/21</td>\n",
       "      <td>In progress</td>\n",
       "      <td>Yes</td>\n",
       "      <td>NaN</td>\n",
       "      <td>4668465</td>\n",
       "    </tr>\n",
       "    <tr>\n",
       "      <th>4</th>\n",
       "      <td>08/25/21</td>\n",
       "      <td>Debt collection</td>\n",
       "      <td>Other debt</td>\n",
       "      <td>Attempts to collect debt not owed</td>\n",
       "      <td>Debt was paid</td>\n",
       "      <td>NaN</td>\n",
       "      <td>Company has responded to the consumer and the ...</td>\n",
       "      <td>I.C. System, Inc.</td>\n",
       "      <td>FL</td>\n",
       "      <td>32839</td>\n",
       "      <td>None</td>\n",
       "      <td>Consent not provided</td>\n",
       "      <td>Web</td>\n",
       "      <td>08/25/21</td>\n",
       "      <td>Closed with explanation</td>\n",
       "      <td>Yes</td>\n",
       "      <td>NaN</td>\n",
       "      <td>4658212</td>\n",
       "    </tr>\n",
       "  </tbody>\n",
       "</table>\n",
       "</div>\n",
       "      <button class=\"colab-df-convert\" onclick=\"convertToInteractive('df-0b45dbbf-9769-4e68-9aea-e4fb59550473')\"\n",
       "              title=\"Convert this dataframe to an interactive table.\"\n",
       "              style=\"display:none;\">\n",
       "\n",
       "  <svg xmlns=\"http://www.w3.org/2000/svg\" height=\"24px\"viewBox=\"0 0 24 24\"\n",
       "       width=\"24px\">\n",
       "    <path d=\"M0 0h24v24H0V0z\" fill=\"none\"/>\n",
       "    <path d=\"M18.56 5.44l.94 2.06.94-2.06 2.06-.94-2.06-.94-.94-2.06-.94 2.06-2.06.94zm-11 1L8.5 8.5l.94-2.06 2.06-.94-2.06-.94L8.5 2.5l-.94 2.06-2.06.94zm10 10l.94 2.06.94-2.06 2.06-.94-2.06-.94-.94-2.06-.94 2.06-2.06.94z\"/><path d=\"M17.41 7.96l-1.37-1.37c-.4-.4-.92-.59-1.43-.59-.52 0-1.04.2-1.43.59L10.3 9.45l-7.72 7.72c-.78.78-.78 2.05 0 2.83L4 21.41c.39.39.9.59 1.41.59.51 0 1.02-.2 1.41-.59l7.78-7.78 2.81-2.81c.8-.78.8-2.07 0-2.86zM5.41 20L4 18.59l7.72-7.72 1.47 1.35L5.41 20z\"/>\n",
       "  </svg>\n",
       "      </button>\n",
       "\n",
       "\n",
       "\n",
       "    <div id=\"df-c500e82f-8d0b-40e3-a616-f952519ff17a\">\n",
       "      <button class=\"colab-df-quickchart\" onclick=\"quickchart('df-c500e82f-8d0b-40e3-a616-f952519ff17a')\"\n",
       "              title=\"Suggest charts.\"\n",
       "              style=\"display:none;\">\n",
       "\n",
       "<svg xmlns=\"http://www.w3.org/2000/svg\" height=\"24px\"viewBox=\"0 0 24 24\"\n",
       "     width=\"24px\">\n",
       "    <g>\n",
       "        <path d=\"M19 3H5c-1.1 0-2 .9-2 2v14c0 1.1.9 2 2 2h14c1.1 0 2-.9 2-2V5c0-1.1-.9-2-2-2zM9 17H7v-7h2v7zm4 0h-2V7h2v10zm4 0h-2v-4h2v4z\"/>\n",
       "    </g>\n",
       "</svg>\n",
       "      </button>\n",
       "    </div>\n",
       "\n",
       "<style>\n",
       "  .colab-df-quickchart {\n",
       "    background-color: #E8F0FE;\n",
       "    border: none;\n",
       "    border-radius: 50%;\n",
       "    cursor: pointer;\n",
       "    display: none;\n",
       "    fill: #1967D2;\n",
       "    height: 32px;\n",
       "    padding: 0 0 0 0;\n",
       "    width: 32px;\n",
       "  }\n",
       "\n",
       "  .colab-df-quickchart:hover {\n",
       "    background-color: #E2EBFA;\n",
       "    box-shadow: 0px 1px 2px rgba(60, 64, 67, 0.3), 0px 1px 3px 1px rgba(60, 64, 67, 0.15);\n",
       "    fill: #174EA6;\n",
       "  }\n",
       "\n",
       "  [theme=dark] .colab-df-quickchart {\n",
       "    background-color: #3B4455;\n",
       "    fill: #D2E3FC;\n",
       "  }\n",
       "\n",
       "  [theme=dark] .colab-df-quickchart:hover {\n",
       "    background-color: #434B5C;\n",
       "    box-shadow: 0px 1px 3px 1px rgba(0, 0, 0, 0.15);\n",
       "    filter: drop-shadow(0px 1px 2px rgba(0, 0, 0, 0.3));\n",
       "    fill: #FFFFFF;\n",
       "  }\n",
       "</style>\n",
       "\n",
       "    <script>\n",
       "      async function quickchart(key) {\n",
       "        const containerElement = document.querySelector('#' + key);\n",
       "        const charts = await google.colab.kernel.invokeFunction(\n",
       "            'suggestCharts', [key], {});\n",
       "      }\n",
       "    </script>\n",
       "\n",
       "      <script>\n",
       "\n",
       "function displayQuickchartButton(domScope) {\n",
       "  let quickchartButtonEl =\n",
       "    domScope.querySelector('#df-c500e82f-8d0b-40e3-a616-f952519ff17a button.colab-df-quickchart');\n",
       "  quickchartButtonEl.style.display =\n",
       "    google.colab.kernel.accessAllowed ? 'block' : 'none';\n",
       "}\n",
       "\n",
       "        displayQuickchartButton(document);\n",
       "      </script>\n",
       "      <style>\n",
       "    .colab-df-container {\n",
       "      display:flex;\n",
       "      flex-wrap:wrap;\n",
       "      gap: 12px;\n",
       "    }\n",
       "\n",
       "    .colab-df-convert {\n",
       "      background-color: #E8F0FE;\n",
       "      border: none;\n",
       "      border-radius: 50%;\n",
       "      cursor: pointer;\n",
       "      display: none;\n",
       "      fill: #1967D2;\n",
       "      height: 32px;\n",
       "      padding: 0 0 0 0;\n",
       "      width: 32px;\n",
       "    }\n",
       "\n",
       "    .colab-df-convert:hover {\n",
       "      background-color: #E2EBFA;\n",
       "      box-shadow: 0px 1px 2px rgba(60, 64, 67, 0.3), 0px 1px 3px 1px rgba(60, 64, 67, 0.15);\n",
       "      fill: #174EA6;\n",
       "    }\n",
       "\n",
       "    [theme=dark] .colab-df-convert {\n",
       "      background-color: #3B4455;\n",
       "      fill: #D2E3FC;\n",
       "    }\n",
       "\n",
       "    [theme=dark] .colab-df-convert:hover {\n",
       "      background-color: #434B5C;\n",
       "      box-shadow: 0px 1px 3px 1px rgba(0, 0, 0, 0.15);\n",
       "      filter: drop-shadow(0px 1px 2px rgba(0, 0, 0, 0.3));\n",
       "      fill: #FFFFFF;\n",
       "    }\n",
       "  </style>\n",
       "\n",
       "      <script>\n",
       "        const buttonEl =\n",
       "          document.querySelector('#df-0b45dbbf-9769-4e68-9aea-e4fb59550473 button.colab-df-convert');\n",
       "        buttonEl.style.display =\n",
       "          google.colab.kernel.accessAllowed ? 'block' : 'none';\n",
       "\n",
       "        async function convertToInteractive(key) {\n",
       "          const element = document.querySelector('#df-0b45dbbf-9769-4e68-9aea-e4fb59550473');\n",
       "          const dataTable =\n",
       "            await google.colab.kernel.invokeFunction('convertToInteractive',\n",
       "                                                     [key], {});\n",
       "          if (!dataTable) return;\n",
       "\n",
       "          const docLinkHtml = 'Like what you see? Visit the ' +\n",
       "            '<a target=\"_blank\" href=https://colab.research.google.com/notebooks/data_table.ipynb>data table notebook</a>'\n",
       "            + ' to learn more about interactive tables.';\n",
       "          element.innerHTML = '';\n",
       "          dataTable['output_type'] = 'display_data';\n",
       "          await google.colab.output.renderOutput(dataTable, element);\n",
       "          const docLink = document.createElement('div');\n",
       "          docLink.innerHTML = docLinkHtml;\n",
       "          element.appendChild(docLink);\n",
       "        }\n",
       "      </script>\n",
       "    </div>\n",
       "  </div>\n"
      ],
      "text/plain": [
       "  Date received                                            Product  \\\n",
       "0      08/27/21                                    Debt collection   \n",
       "1      08/08/21  Credit reporting, credit repair services, or o...   \n",
       "2      08/14/21  Credit reporting, credit repair services, or o...   \n",
       "3      08/27/21  Credit reporting, credit repair services, or o...   \n",
       "4      08/25/21                                    Debt collection   \n",
       "\n",
       "        Sub-product                                              Issue  \\\n",
       "0  Credit card debt                  Attempts to collect debt not owed   \n",
       "1  Credit reporting               Incorrect information on your report   \n",
       "2  Credit reporting               Incorrect information on your report   \n",
       "3  Credit reporting  Problem with a credit reporting company's inve...   \n",
       "4        Other debt                  Attempts to collect debt not owed   \n",
       "\n",
       "                              Sub-issue Consumer complaint narrative  \\\n",
       "0     Debt was result of identity theft                          NaN   \n",
       "1              Account status incorrect                          NaN   \n",
       "2   Information belongs to someone else                          NaN   \n",
       "3  Investigation took more than 30 days                          NaN   \n",
       "4                         Debt was paid                          NaN   \n",
       "\n",
       "                             Company public response  \\\n",
       "0                                               None   \n",
       "1                                               None   \n",
       "2                                               None   \n",
       "3                                               None   \n",
       "4  Company has responded to the consumer and the ...   \n",
       "\n",
       "                              Company State ZIP code  Tags  \\\n",
       "0  Bonneville Billing and Collections    FL    33256  None   \n",
       "1       BOEING EMPLOYEES CREDIT UNION    WA     None  None   \n",
       "2     Frontline Asset Strategies, LLC    GA    300XX  None   \n",
       "3   Credence Resource Management, LLC    OH    43213  None   \n",
       "4                   I.C. System, Inc.    FL    32839  None   \n",
       "\n",
       "  Consumer consent provided? Submitted via Date sent to company  \\\n",
       "0                       None           Web             08/27/21   \n",
       "1                       None           Web             08/08/21   \n",
       "2                       None           Web             08/14/21   \n",
       "3                       None           Web             08/27/21   \n",
       "4       Consent not provided           Web             08/25/21   \n",
       "\n",
       "  Company response to consumer Timely response?  Consumer disputed?  \\\n",
       "0      Closed with explanation              Yes                 NaN   \n",
       "1      Closed with explanation              Yes                 NaN   \n",
       "2      Closed with explanation              Yes                 NaN   \n",
       "3                  In progress              Yes                 NaN   \n",
       "4      Closed with explanation              Yes                 NaN   \n",
       "\n",
       "   Complaint ID  \n",
       "0       4669189  \n",
       "1       4612302  \n",
       "2       4632146  \n",
       "3       4668465  \n",
       "4       4658212  "
      ]
     },
     "execution_count": 5,
     "metadata": {},
     "output_type": "execute_result"
    }
   ],
   "source": [
    "#viewing first five rows\n",
    "data.head()"
   ]
  },
  {
   "cell_type": "code",
   "execution_count": 6,
   "metadata": {
    "colab": {
     "base_uri": "https://localhost:8080/",
     "height": 528
    },
    "id": "YVbZ7vWhQoZ5",
    "outputId": "4627e75e-ac06-4614-8205-812e59f40cb5"
   },
   "outputs": [
    {
     "data": {
      "text/html": [
       "\n",
       "\n",
       "  <div id=\"df-52c43e1a-feb3-4f0e-9cd7-e1647c4d5e91\">\n",
       "    <div class=\"colab-df-container\">\n",
       "      <div>\n",
       "<style scoped>\n",
       "    .dataframe tbody tr th:only-of-type {\n",
       "        vertical-align: middle;\n",
       "    }\n",
       "\n",
       "    .dataframe tbody tr th {\n",
       "        vertical-align: top;\n",
       "    }\n",
       "\n",
       "    .dataframe thead th {\n",
       "        text-align: right;\n",
       "    }\n",
       "</style>\n",
       "<table border=\"1\" class=\"dataframe\">\n",
       "  <thead>\n",
       "    <tr style=\"text-align: right;\">\n",
       "      <th></th>\n",
       "      <th>Date received</th>\n",
       "      <th>Product</th>\n",
       "      <th>Sub-product</th>\n",
       "      <th>Issue</th>\n",
       "      <th>Sub-issue</th>\n",
       "      <th>Consumer complaint narrative</th>\n",
       "      <th>Company public response</th>\n",
       "      <th>Company</th>\n",
       "      <th>State</th>\n",
       "      <th>ZIP code</th>\n",
       "      <th>Tags</th>\n",
       "      <th>Consumer consent provided?</th>\n",
       "      <th>Submitted via</th>\n",
       "      <th>Date sent to company</th>\n",
       "      <th>Company response to consumer</th>\n",
       "      <th>Timely response?</th>\n",
       "      <th>Consumer disputed?</th>\n",
       "      <th>Complaint ID</th>\n",
       "    </tr>\n",
       "  </thead>\n",
       "  <tbody>\n",
       "    <tr>\n",
       "      <th>49821</th>\n",
       "      <td>08/12/21</td>\n",
       "      <td>Credit card or prepaid card</td>\n",
       "      <td>Gift card</td>\n",
       "      <td>Unexpected or other fees</td>\n",
       "      <td>None</td>\n",
       "      <td>NaN</td>\n",
       "      <td>None</td>\n",
       "      <td>BANK OF AMERICA, NATIONAL ASSOCIATION</td>\n",
       "      <td>CA</td>\n",
       "      <td>920XX</td>\n",
       "      <td>None</td>\n",
       "      <td>None</td>\n",
       "      <td>Web</td>\n",
       "      <td>08/12/21</td>\n",
       "      <td>In progress</td>\n",
       "      <td>Yes</td>\n",
       "      <td>NaN</td>\n",
       "      <td>4626212</td>\n",
       "    </tr>\n",
       "    <tr>\n",
       "      <th>49822</th>\n",
       "      <td>08/26/21</td>\n",
       "      <td>Debt collection</td>\n",
       "      <td>I do not know</td>\n",
       "      <td>Took or threatened to take negative or legal a...</td>\n",
       "      <td>Threatened or suggested your credit would be d...</td>\n",
       "      <td>NaN</td>\n",
       "      <td>None</td>\n",
       "      <td>Consumer Adjustment Company Incorporated</td>\n",
       "      <td>NJ</td>\n",
       "      <td>085XX</td>\n",
       "      <td>None</td>\n",
       "      <td>None</td>\n",
       "      <td>Web</td>\n",
       "      <td>08/26/21</td>\n",
       "      <td>Closed with explanation</td>\n",
       "      <td>Yes</td>\n",
       "      <td>NaN</td>\n",
       "      <td>4665563</td>\n",
       "    </tr>\n",
       "    <tr>\n",
       "      <th>49823</th>\n",
       "      <td>08/17/21</td>\n",
       "      <td>Credit reporting, credit repair services, or o...</td>\n",
       "      <td>Credit reporting</td>\n",
       "      <td>Problem with a credit reporting company's inve...</td>\n",
       "      <td>Investigation took more than 30 days</td>\n",
       "      <td>NaN</td>\n",
       "      <td>None</td>\n",
       "      <td>OneMain Finance Corporation</td>\n",
       "      <td>PA</td>\n",
       "      <td>19121</td>\n",
       "      <td>None</td>\n",
       "      <td>None</td>\n",
       "      <td>Web</td>\n",
       "      <td>08/17/21</td>\n",
       "      <td>Closed with explanation</td>\n",
       "      <td>Yes</td>\n",
       "      <td>NaN</td>\n",
       "      <td>4637059</td>\n",
       "    </tr>\n",
       "    <tr>\n",
       "      <th>49824</th>\n",
       "      <td>08/26/21</td>\n",
       "      <td>Debt collection</td>\n",
       "      <td>I do not know</td>\n",
       "      <td>Attempts to collect debt not owed</td>\n",
       "      <td>Debt was result of identity theft</td>\n",
       "      <td>NaN</td>\n",
       "      <td>None</td>\n",
       "      <td>ERC</td>\n",
       "      <td>MS</td>\n",
       "      <td>39501</td>\n",
       "      <td>None</td>\n",
       "      <td>None</td>\n",
       "      <td>Web</td>\n",
       "      <td>08/26/21</td>\n",
       "      <td>Closed with explanation</td>\n",
       "      <td>Yes</td>\n",
       "      <td>NaN</td>\n",
       "      <td>4666537</td>\n",
       "    </tr>\n",
       "    <tr>\n",
       "      <th>49825</th>\n",
       "      <td>08/13/21</td>\n",
       "      <td>Debt collection</td>\n",
       "      <td>Credit card debt</td>\n",
       "      <td>Attempts to collect debt not owed</td>\n",
       "      <td>Debt was result of identity theft</td>\n",
       "      <td>NaN</td>\n",
       "      <td>Company has responded to the consumer and the ...</td>\n",
       "      <td>TRANSUNION INTERMEDIATE HOLDINGS, INC.</td>\n",
       "      <td>FL</td>\n",
       "      <td>33138</td>\n",
       "      <td>None</td>\n",
       "      <td>Consent not provided</td>\n",
       "      <td>Web</td>\n",
       "      <td>08/13/21</td>\n",
       "      <td>Closed with explanation</td>\n",
       "      <td>Yes</td>\n",
       "      <td>NaN</td>\n",
       "      <td>4628175</td>\n",
       "    </tr>\n",
       "  </tbody>\n",
       "</table>\n",
       "</div>\n",
       "      <button class=\"colab-df-convert\" onclick=\"convertToInteractive('df-52c43e1a-feb3-4f0e-9cd7-e1647c4d5e91')\"\n",
       "              title=\"Convert this dataframe to an interactive table.\"\n",
       "              style=\"display:none;\">\n",
       "\n",
       "  <svg xmlns=\"http://www.w3.org/2000/svg\" height=\"24px\"viewBox=\"0 0 24 24\"\n",
       "       width=\"24px\">\n",
       "    <path d=\"M0 0h24v24H0V0z\" fill=\"none\"/>\n",
       "    <path d=\"M18.56 5.44l.94 2.06.94-2.06 2.06-.94-2.06-.94-.94-2.06-.94 2.06-2.06.94zm-11 1L8.5 8.5l.94-2.06 2.06-.94-2.06-.94L8.5 2.5l-.94 2.06-2.06.94zm10 10l.94 2.06.94-2.06 2.06-.94-2.06-.94-.94-2.06-.94 2.06-2.06.94z\"/><path d=\"M17.41 7.96l-1.37-1.37c-.4-.4-.92-.59-1.43-.59-.52 0-1.04.2-1.43.59L10.3 9.45l-7.72 7.72c-.78.78-.78 2.05 0 2.83L4 21.41c.39.39.9.59 1.41.59.51 0 1.02-.2 1.41-.59l7.78-7.78 2.81-2.81c.8-.78.8-2.07 0-2.86zM5.41 20L4 18.59l7.72-7.72 1.47 1.35L5.41 20z\"/>\n",
       "  </svg>\n",
       "      </button>\n",
       "\n",
       "\n",
       "\n",
       "    <div id=\"df-59905439-ae90-4edd-9254-80a22394de1c\">\n",
       "      <button class=\"colab-df-quickchart\" onclick=\"quickchart('df-59905439-ae90-4edd-9254-80a22394de1c')\"\n",
       "              title=\"Suggest charts.\"\n",
       "              style=\"display:none;\">\n",
       "\n",
       "<svg xmlns=\"http://www.w3.org/2000/svg\" height=\"24px\"viewBox=\"0 0 24 24\"\n",
       "     width=\"24px\">\n",
       "    <g>\n",
       "        <path d=\"M19 3H5c-1.1 0-2 .9-2 2v14c0 1.1.9 2 2 2h14c1.1 0 2-.9 2-2V5c0-1.1-.9-2-2-2zM9 17H7v-7h2v7zm4 0h-2V7h2v10zm4 0h-2v-4h2v4z\"/>\n",
       "    </g>\n",
       "</svg>\n",
       "      </button>\n",
       "    </div>\n",
       "\n",
       "<style>\n",
       "  .colab-df-quickchart {\n",
       "    background-color: #E8F0FE;\n",
       "    border: none;\n",
       "    border-radius: 50%;\n",
       "    cursor: pointer;\n",
       "    display: none;\n",
       "    fill: #1967D2;\n",
       "    height: 32px;\n",
       "    padding: 0 0 0 0;\n",
       "    width: 32px;\n",
       "  }\n",
       "\n",
       "  .colab-df-quickchart:hover {\n",
       "    background-color: #E2EBFA;\n",
       "    box-shadow: 0px 1px 2px rgba(60, 64, 67, 0.3), 0px 1px 3px 1px rgba(60, 64, 67, 0.15);\n",
       "    fill: #174EA6;\n",
       "  }\n",
       "\n",
       "  [theme=dark] .colab-df-quickchart {\n",
       "    background-color: #3B4455;\n",
       "    fill: #D2E3FC;\n",
       "  }\n",
       "\n",
       "  [theme=dark] .colab-df-quickchart:hover {\n",
       "    background-color: #434B5C;\n",
       "    box-shadow: 0px 1px 3px 1px rgba(0, 0, 0, 0.15);\n",
       "    filter: drop-shadow(0px 1px 2px rgba(0, 0, 0, 0.3));\n",
       "    fill: #FFFFFF;\n",
       "  }\n",
       "</style>\n",
       "\n",
       "    <script>\n",
       "      async function quickchart(key) {\n",
       "        const containerElement = document.querySelector('#' + key);\n",
       "        const charts = await google.colab.kernel.invokeFunction(\n",
       "            'suggestCharts', [key], {});\n",
       "      }\n",
       "    </script>\n",
       "\n",
       "      <script>\n",
       "\n",
       "function displayQuickchartButton(domScope) {\n",
       "  let quickchartButtonEl =\n",
       "    domScope.querySelector('#df-59905439-ae90-4edd-9254-80a22394de1c button.colab-df-quickchart');\n",
       "  quickchartButtonEl.style.display =\n",
       "    google.colab.kernel.accessAllowed ? 'block' : 'none';\n",
       "}\n",
       "\n",
       "        displayQuickchartButton(document);\n",
       "      </script>\n",
       "      <style>\n",
       "    .colab-df-container {\n",
       "      display:flex;\n",
       "      flex-wrap:wrap;\n",
       "      gap: 12px;\n",
       "    }\n",
       "\n",
       "    .colab-df-convert {\n",
       "      background-color: #E8F0FE;\n",
       "      border: none;\n",
       "      border-radius: 50%;\n",
       "      cursor: pointer;\n",
       "      display: none;\n",
       "      fill: #1967D2;\n",
       "      height: 32px;\n",
       "      padding: 0 0 0 0;\n",
       "      width: 32px;\n",
       "    }\n",
       "\n",
       "    .colab-df-convert:hover {\n",
       "      background-color: #E2EBFA;\n",
       "      box-shadow: 0px 1px 2px rgba(60, 64, 67, 0.3), 0px 1px 3px 1px rgba(60, 64, 67, 0.15);\n",
       "      fill: #174EA6;\n",
       "    }\n",
       "\n",
       "    [theme=dark] .colab-df-convert {\n",
       "      background-color: #3B4455;\n",
       "      fill: #D2E3FC;\n",
       "    }\n",
       "\n",
       "    [theme=dark] .colab-df-convert:hover {\n",
       "      background-color: #434B5C;\n",
       "      box-shadow: 0px 1px 3px 1px rgba(0, 0, 0, 0.15);\n",
       "      filter: drop-shadow(0px 1px 2px rgba(0, 0, 0, 0.3));\n",
       "      fill: #FFFFFF;\n",
       "    }\n",
       "  </style>\n",
       "\n",
       "      <script>\n",
       "        const buttonEl =\n",
       "          document.querySelector('#df-52c43e1a-feb3-4f0e-9cd7-e1647c4d5e91 button.colab-df-convert');\n",
       "        buttonEl.style.display =\n",
       "          google.colab.kernel.accessAllowed ? 'block' : 'none';\n",
       "\n",
       "        async function convertToInteractive(key) {\n",
       "          const element = document.querySelector('#df-52c43e1a-feb3-4f0e-9cd7-e1647c4d5e91');\n",
       "          const dataTable =\n",
       "            await google.colab.kernel.invokeFunction('convertToInteractive',\n",
       "                                                     [key], {});\n",
       "          if (!dataTable) return;\n",
       "\n",
       "          const docLinkHtml = 'Like what you see? Visit the ' +\n",
       "            '<a target=\"_blank\" href=https://colab.research.google.com/notebooks/data_table.ipynb>data table notebook</a>'\n",
       "            + ' to learn more about interactive tables.';\n",
       "          element.innerHTML = '';\n",
       "          dataTable['output_type'] = 'display_data';\n",
       "          await google.colab.output.renderOutput(dataTable, element);\n",
       "          const docLink = document.createElement('div');\n",
       "          docLink.innerHTML = docLinkHtml;\n",
       "          element.appendChild(docLink);\n",
       "        }\n",
       "      </script>\n",
       "    </div>\n",
       "  </div>\n"
      ],
      "text/plain": [
       "      Date received                                            Product  \\\n",
       "49821      08/12/21                        Credit card or prepaid card   \n",
       "49822      08/26/21                                    Debt collection   \n",
       "49823      08/17/21  Credit reporting, credit repair services, or o...   \n",
       "49824      08/26/21                                    Debt collection   \n",
       "49825      08/13/21                                    Debt collection   \n",
       "\n",
       "            Sub-product                                              Issue  \\\n",
       "49821         Gift card                           Unexpected or other fees   \n",
       "49822     I do not know  Took or threatened to take negative or legal a...   \n",
       "49823  Credit reporting  Problem with a credit reporting company's inve...   \n",
       "49824     I do not know                  Attempts to collect debt not owed   \n",
       "49825  Credit card debt                  Attempts to collect debt not owed   \n",
       "\n",
       "                                               Sub-issue  \\\n",
       "49821                                               None   \n",
       "49822  Threatened or suggested your credit would be d...   \n",
       "49823               Investigation took more than 30 days   \n",
       "49824                  Debt was result of identity theft   \n",
       "49825                  Debt was result of identity theft   \n",
       "\n",
       "      Consumer complaint narrative  \\\n",
       "49821                          NaN   \n",
       "49822                          NaN   \n",
       "49823                          NaN   \n",
       "49824                          NaN   \n",
       "49825                          NaN   \n",
       "\n",
       "                                 Company public response  \\\n",
       "49821                                               None   \n",
       "49822                                               None   \n",
       "49823                                               None   \n",
       "49824                                               None   \n",
       "49825  Company has responded to the consumer and the ...   \n",
       "\n",
       "                                        Company State ZIP code  Tags  \\\n",
       "49821     BANK OF AMERICA, NATIONAL ASSOCIATION    CA    920XX  None   \n",
       "49822  Consumer Adjustment Company Incorporated    NJ    085XX  None   \n",
       "49823               OneMain Finance Corporation    PA    19121  None   \n",
       "49824                                       ERC    MS    39501  None   \n",
       "49825    TRANSUNION INTERMEDIATE HOLDINGS, INC.    FL    33138  None   \n",
       "\n",
       "      Consumer consent provided? Submitted via Date sent to company  \\\n",
       "49821                       None           Web             08/12/21   \n",
       "49822                       None           Web             08/26/21   \n",
       "49823                       None           Web             08/17/21   \n",
       "49824                       None           Web             08/26/21   \n",
       "49825       Consent not provided           Web             08/13/21   \n",
       "\n",
       "      Company response to consumer Timely response?  Consumer disputed?  \\\n",
       "49821                  In progress              Yes                 NaN   \n",
       "49822      Closed with explanation              Yes                 NaN   \n",
       "49823      Closed with explanation              Yes                 NaN   \n",
       "49824      Closed with explanation              Yes                 NaN   \n",
       "49825      Closed with explanation              Yes                 NaN   \n",
       "\n",
       "       Complaint ID  \n",
       "49821       4626212  \n",
       "49822       4665563  \n",
       "49823       4637059  \n",
       "49824       4666537  \n",
       "49825       4628175  "
      ]
     },
     "execution_count": 6,
     "metadata": {},
     "output_type": "execute_result"
    }
   ],
   "source": [
    "#viewing last five rows\n",
    "data.tail()"
   ]
  },
  {
   "cell_type": "code",
   "execution_count": 7,
   "metadata": {
    "colab": {
     "base_uri": "https://localhost:8080/"
    },
    "id": "LtXgcBhcQqZJ",
    "outputId": "00f6c695-efc3-436f-bd37-069f98c49ab7"
   },
   "outputs": [
    {
     "data": {
      "text/plain": [
       "Date received                    object\n",
       "Product                          object\n",
       "Sub-product                      object\n",
       "Issue                            object\n",
       "Sub-issue                        object\n",
       "Consumer complaint narrative     object\n",
       "Company public response          object\n",
       "Company                          object\n",
       "State                            object\n",
       "ZIP code                         object\n",
       "Tags                             object\n",
       "Consumer consent provided?       object\n",
       "Submitted via                    object\n",
       "Date sent to company             object\n",
       "Company response to consumer     object\n",
       "Timely response?                 object\n",
       "Consumer disputed?              float64\n",
       "Complaint ID                      int64\n",
       "dtype: object"
      ]
     },
     "execution_count": 7,
     "metadata": {},
     "output_type": "execute_result"
    }
   ],
   "source": [
    "#checking data-types\n",
    "data.dtypes"
   ]
  },
  {
   "cell_type": "code",
   "execution_count": 8,
   "metadata": {
    "colab": {
     "base_uri": "https://localhost:8080/"
    },
    "id": "wHHP6HP1QyeU",
    "outputId": "1cb1b134-a684-4a0b-dfa2-8b257f678ad1"
   },
   "outputs": [
    {
     "data": {
      "text/plain": [
       "(49826, 18)"
      ]
     },
     "execution_count": 8,
     "metadata": {},
     "output_type": "execute_result"
    }
   ],
   "source": [
    "#checking shape of the data\n",
    "data.shape"
   ]
  },
  {
   "cell_type": "code",
   "execution_count": 9,
   "metadata": {
    "colab": {
     "base_uri": "https://localhost:8080/"
    },
    "id": "oM1xfj0cQ2z9",
    "outputId": "81e3ad76-18b7-4dfc-b46c-f26356805cd8"
   },
   "outputs": [
    {
     "data": {
      "text/plain": [
       "896868"
      ]
     },
     "execution_count": 9,
     "metadata": {},
     "output_type": "execute_result"
    }
   ],
   "source": [
    "#checking size of the data\n",
    "data.size"
   ]
  },
  {
   "cell_type": "code",
   "execution_count": 10,
   "metadata": {
    "colab": {
     "base_uri": "https://localhost:8080/"
    },
    "id": "RTWJpMxZQ-2j",
    "outputId": "d15ed8cb-cadf-4a1b-c225-8967a024f9d4"
   },
   "outputs": [
    {
     "name": "stdout",
     "output_type": "stream",
     "text": [
      "(0, 18)\n"
     ]
    }
   ],
   "source": [
    "#Checking Duplicates\n",
    "print(data.loc[data.duplicated()].shape)"
   ]
  },
  {
   "cell_type": "markdown",
   "metadata": {
    "id": "mc58MYHKRZFL"
   },
   "source": [
    "- There are no duplicate values present in these data1set"
   ]
  },
  {
   "cell_type": "code",
   "execution_count": 11,
   "metadata": {
    "colab": {
     "base_uri": "https://localhost:8080/"
    },
    "id": "8JEvb1hyRjFj",
    "outputId": "a91ca181-3ee0-4501-c879-7c278eb7684c"
   },
   "outputs": [
    {
     "data": {
      "text/plain": [
       "Index(['Date received', 'Product', 'Sub-product', 'Issue', 'Sub-issue',\n",
       "       'Consumer complaint narrative', 'Company public response', 'Company',\n",
       "       'State', 'ZIP code', 'Tags', 'Consumer consent provided?',\n",
       "       'Submitted via', 'Date sent to company', 'Company response to consumer',\n",
       "       'Timely response?', 'Consumer disputed?', 'Complaint ID'],\n",
       "      dtype='object')"
      ]
     },
     "execution_count": 11,
     "metadata": {},
     "output_type": "execute_result"
    }
   ],
   "source": [
    "#checking columns\n",
    "data.columns"
   ]
  },
  {
   "cell_type": "markdown",
   "metadata": {
    "id": "2HZ63CI5Bx_b"
   },
   "source": [
    "# Explanation on problem statement\n",
    "\n",
    "- For the specific problem of text classification to predict the \"Product\" column using the \"Consumer complaint narrative\" data as input, the other attributes in the dataset may not directly contribute to the text classification task. Therefore, they may not be directly used as features for building this particular model.\n",
    "- After filtering the data, we can use the \"Consumer complaint narrative\" as the input text data and \"Product\" as the target variable for text classification. The goal is to build a model that takes the text of the consumer complaint as input and predicts the corresponding product category it belongs to."
   ]
  },
  {
   "cell_type": "markdown",
   "metadata": {
    "id": "1tWn2hpEnkN2"
   },
   "source": [
    "- **Creating new Dataframe data1**"
   ]
  },
  {
   "cell_type": "code",
   "execution_count": 12,
   "metadata": {
    "colab": {
     "base_uri": "https://localhost:8080/",
     "height": 424
    },
    "id": "T1xWRx7lSBwu",
    "outputId": "c84c6b81-13fb-482c-fa85-43299a1efc32"
   },
   "outputs": [
    {
     "data": {
      "text/html": [
       "\n",
       "\n",
       "  <div id=\"df-f5bd4e5d-7848-4c24-b563-33f1b0322ba4\">\n",
       "    <div class=\"colab-df-container\">\n",
       "      <div>\n",
       "<style scoped>\n",
       "    .dataframe tbody tr th:only-of-type {\n",
       "        vertical-align: middle;\n",
       "    }\n",
       "\n",
       "    .dataframe tbody tr th {\n",
       "        vertical-align: top;\n",
       "    }\n",
       "\n",
       "    .dataframe thead th {\n",
       "        text-align: right;\n",
       "    }\n",
       "</style>\n",
       "<table border=\"1\" class=\"dataframe\">\n",
       "  <thead>\n",
       "    <tr style=\"text-align: right;\">\n",
       "      <th></th>\n",
       "      <th>Consumer complaint narrative</th>\n",
       "      <th>Product</th>\n",
       "    </tr>\n",
       "  </thead>\n",
       "  <tbody>\n",
       "    <tr>\n",
       "      <th>41</th>\n",
       "      <td>Experian has allowed 6 inquiries on my credit ...</td>\n",
       "      <td>Credit reporting, credit repair services, or o...</td>\n",
       "    </tr>\n",
       "    <tr>\n",
       "      <th>44</th>\n",
       "      <td>I submitted documentation from XXXX that I sub...</td>\n",
       "      <td>Credit reporting, credit repair services, or o...</td>\n",
       "    </tr>\n",
       "    <tr>\n",
       "      <th>121</th>\n",
       "      <td>I contacted XXXX XXXX to inquire as to why a t...</td>\n",
       "      <td>Credit reporting, credit repair services, or o...</td>\n",
       "    </tr>\n",
       "    <tr>\n",
       "      <th>122</th>\n",
       "      <td>IC Systems Re : Dispute of Account No. XXXX XX...</td>\n",
       "      <td>Debt collection</td>\n",
       "    </tr>\n",
       "    <tr>\n",
       "      <th>153</th>\n",
       "      <td>This is the 3 time I have disputed and filed a...</td>\n",
       "      <td>Credit reporting, credit repair services, or o...</td>\n",
       "    </tr>\n",
       "    <tr>\n",
       "      <th>...</th>\n",
       "      <td>...</td>\n",
       "      <td>...</td>\n",
       "    </tr>\n",
       "    <tr>\n",
       "      <th>4867</th>\n",
       "      <td>I find it disheartening that you keep claiming...</td>\n",
       "      <td>Credit reporting, credit repair services, or o...</td>\n",
       "    </tr>\n",
       "    <tr>\n",
       "      <th>4875</th>\n",
       "      <td>I called the customer service phone number and...</td>\n",
       "      <td>Credit card or prepaid card</td>\n",
       "    </tr>\n",
       "    <tr>\n",
       "      <th>4881</th>\n",
       "      <td>I was on XXXX XXXX orders while this company c...</td>\n",
       "      <td>Credit reporting, credit repair services, or o...</td>\n",
       "    </tr>\n",
       "    <tr>\n",
       "      <th>4892</th>\n",
       "      <td>I have sent multiple disputes to remove incorr...</td>\n",
       "      <td>Credit reporting, credit repair services, or o...</td>\n",
       "    </tr>\n",
       "    <tr>\n",
       "      <th>4893</th>\n",
       "      <td>The company is reporting outdated information....</td>\n",
       "      <td>Credit reporting, credit repair services, or o...</td>\n",
       "    </tr>\n",
       "  </tbody>\n",
       "</table>\n",
       "<p>500 rows × 2 columns</p>\n",
       "</div>\n",
       "      <button class=\"colab-df-convert\" onclick=\"convertToInteractive('df-f5bd4e5d-7848-4c24-b563-33f1b0322ba4')\"\n",
       "              title=\"Convert this dataframe to an interactive table.\"\n",
       "              style=\"display:none;\">\n",
       "\n",
       "  <svg xmlns=\"http://www.w3.org/2000/svg\" height=\"24px\"viewBox=\"0 0 24 24\"\n",
       "       width=\"24px\">\n",
       "    <path d=\"M0 0h24v24H0V0z\" fill=\"none\"/>\n",
       "    <path d=\"M18.56 5.44l.94 2.06.94-2.06 2.06-.94-2.06-.94-.94-2.06-.94 2.06-2.06.94zm-11 1L8.5 8.5l.94-2.06 2.06-.94-2.06-.94L8.5 2.5l-.94 2.06-2.06.94zm10 10l.94 2.06.94-2.06 2.06-.94-2.06-.94-.94-2.06-.94 2.06-2.06.94z\"/><path d=\"M17.41 7.96l-1.37-1.37c-.4-.4-.92-.59-1.43-.59-.52 0-1.04.2-1.43.59L10.3 9.45l-7.72 7.72c-.78.78-.78 2.05 0 2.83L4 21.41c.39.39.9.59 1.41.59.51 0 1.02-.2 1.41-.59l7.78-7.78 2.81-2.81c.8-.78.8-2.07 0-2.86zM5.41 20L4 18.59l7.72-7.72 1.47 1.35L5.41 20z\"/>\n",
       "  </svg>\n",
       "      </button>\n",
       "\n",
       "\n",
       "\n",
       "    <div id=\"df-3f3722e6-25be-446e-8811-ad68a106df82\">\n",
       "      <button class=\"colab-df-quickchart\" onclick=\"quickchart('df-3f3722e6-25be-446e-8811-ad68a106df82')\"\n",
       "              title=\"Suggest charts.\"\n",
       "              style=\"display:none;\">\n",
       "\n",
       "<svg xmlns=\"http://www.w3.org/2000/svg\" height=\"24px\"viewBox=\"0 0 24 24\"\n",
       "     width=\"24px\">\n",
       "    <g>\n",
       "        <path d=\"M19 3H5c-1.1 0-2 .9-2 2v14c0 1.1.9 2 2 2h14c1.1 0 2-.9 2-2V5c0-1.1-.9-2-2-2zM9 17H7v-7h2v7zm4 0h-2V7h2v10zm4 0h-2v-4h2v4z\"/>\n",
       "    </g>\n",
       "</svg>\n",
       "      </button>\n",
       "    </div>\n",
       "\n",
       "<style>\n",
       "  .colab-df-quickchart {\n",
       "    background-color: #E8F0FE;\n",
       "    border: none;\n",
       "    border-radius: 50%;\n",
       "    cursor: pointer;\n",
       "    display: none;\n",
       "    fill: #1967D2;\n",
       "    height: 32px;\n",
       "    padding: 0 0 0 0;\n",
       "    width: 32px;\n",
       "  }\n",
       "\n",
       "  .colab-df-quickchart:hover {\n",
       "    background-color: #E2EBFA;\n",
       "    box-shadow: 0px 1px 2px rgba(60, 64, 67, 0.3), 0px 1px 3px 1px rgba(60, 64, 67, 0.15);\n",
       "    fill: #174EA6;\n",
       "  }\n",
       "\n",
       "  [theme=dark] .colab-df-quickchart {\n",
       "    background-color: #3B4455;\n",
       "    fill: #D2E3FC;\n",
       "  }\n",
       "\n",
       "  [theme=dark] .colab-df-quickchart:hover {\n",
       "    background-color: #434B5C;\n",
       "    box-shadow: 0px 1px 3px 1px rgba(0, 0, 0, 0.15);\n",
       "    filter: drop-shadow(0px 1px 2px rgba(0, 0, 0, 0.3));\n",
       "    fill: #FFFFFF;\n",
       "  }\n",
       "</style>\n",
       "\n",
       "    <script>\n",
       "      async function quickchart(key) {\n",
       "        const containerElement = document.querySelector('#' + key);\n",
       "        const charts = await google.colab.kernel.invokeFunction(\n",
       "            'suggestCharts', [key], {});\n",
       "      }\n",
       "    </script>\n",
       "\n",
       "      <script>\n",
       "\n",
       "function displayQuickchartButton(domScope) {\n",
       "  let quickchartButtonEl =\n",
       "    domScope.querySelector('#df-3f3722e6-25be-446e-8811-ad68a106df82 button.colab-df-quickchart');\n",
       "  quickchartButtonEl.style.display =\n",
       "    google.colab.kernel.accessAllowed ? 'block' : 'none';\n",
       "}\n",
       "\n",
       "        displayQuickchartButton(document);\n",
       "      </script>\n",
       "      <style>\n",
       "    .colab-df-container {\n",
       "      display:flex;\n",
       "      flex-wrap:wrap;\n",
       "      gap: 12px;\n",
       "    }\n",
       "\n",
       "    .colab-df-convert {\n",
       "      background-color: #E8F0FE;\n",
       "      border: none;\n",
       "      border-radius: 50%;\n",
       "      cursor: pointer;\n",
       "      display: none;\n",
       "      fill: #1967D2;\n",
       "      height: 32px;\n",
       "      padding: 0 0 0 0;\n",
       "      width: 32px;\n",
       "    }\n",
       "\n",
       "    .colab-df-convert:hover {\n",
       "      background-color: #E2EBFA;\n",
       "      box-shadow: 0px 1px 2px rgba(60, 64, 67, 0.3), 0px 1px 3px 1px rgba(60, 64, 67, 0.15);\n",
       "      fill: #174EA6;\n",
       "    }\n",
       "\n",
       "    [theme=dark] .colab-df-convert {\n",
       "      background-color: #3B4455;\n",
       "      fill: #D2E3FC;\n",
       "    }\n",
       "\n",
       "    [theme=dark] .colab-df-convert:hover {\n",
       "      background-color: #434B5C;\n",
       "      box-shadow: 0px 1px 3px 1px rgba(0, 0, 0, 0.15);\n",
       "      filter: drop-shadow(0px 1px 2px rgba(0, 0, 0, 0.3));\n",
       "      fill: #FFFFFF;\n",
       "    }\n",
       "  </style>\n",
       "\n",
       "      <script>\n",
       "        const buttonEl =\n",
       "          document.querySelector('#df-f5bd4e5d-7848-4c24-b563-33f1b0322ba4 button.colab-df-convert');\n",
       "        buttonEl.style.display =\n",
       "          google.colab.kernel.accessAllowed ? 'block' : 'none';\n",
       "\n",
       "        async function convertToInteractive(key) {\n",
       "          const element = document.querySelector('#df-f5bd4e5d-7848-4c24-b563-33f1b0322ba4');\n",
       "          const dataTable =\n",
       "            await google.colab.kernel.invokeFunction('convertToInteractive',\n",
       "                                                     [key], {});\n",
       "          if (!dataTable) return;\n",
       "\n",
       "          const docLinkHtml = 'Like what you see? Visit the ' +\n",
       "            '<a target=\"_blank\" href=https://colab.research.google.com/notebooks/data_table.ipynb>data table notebook</a>'\n",
       "            + ' to learn more about interactive tables.';\n",
       "          element.innerHTML = '';\n",
       "          dataTable['output_type'] = 'display_data';\n",
       "          await google.colab.output.renderOutput(dataTable, element);\n",
       "          const docLink = document.createElement('div');\n",
       "          docLink.innerHTML = docLinkHtml;\n",
       "          element.appendChild(docLink);\n",
       "        }\n",
       "      </script>\n",
       "    </div>\n",
       "  </div>\n"
      ],
      "text/plain": [
       "                           Consumer complaint narrative  \\\n",
       "41    Experian has allowed 6 inquiries on my credit ...   \n",
       "44    I submitted documentation from XXXX that I sub...   \n",
       "121   I contacted XXXX XXXX to inquire as to why a t...   \n",
       "122   IC Systems Re : Dispute of Account No. XXXX XX...   \n",
       "153   This is the 3 time I have disputed and filed a...   \n",
       "...                                                 ...   \n",
       "4867  I find it disheartening that you keep claiming...   \n",
       "4875  I called the customer service phone number and...   \n",
       "4881  I was on XXXX XXXX orders while this company c...   \n",
       "4892  I have sent multiple disputes to remove incorr...   \n",
       "4893  The company is reporting outdated information....   \n",
       "\n",
       "                                                Product  \n",
       "41    Credit reporting, credit repair services, or o...  \n",
       "44    Credit reporting, credit repair services, or o...  \n",
       "121   Credit reporting, credit repair services, or o...  \n",
       "122                                     Debt collection  \n",
       "153   Credit reporting, credit repair services, or o...  \n",
       "...                                                 ...  \n",
       "4867  Credit reporting, credit repair services, or o...  \n",
       "4875                        Credit card or prepaid card  \n",
       "4881  Credit reporting, credit repair services, or o...  \n",
       "4892  Credit reporting, credit repair services, or o...  \n",
       "4893  Credit reporting, credit repair services, or o...  \n",
       "\n",
       "[500 rows x 2 columns]"
      ]
     },
     "execution_count": 12,
     "metadata": {},
     "output_type": "execute_result"
    }
   ],
   "source": [
    "data1 = data[['Consumer complaint narrative','Product']] #This code creates a new DataFrame data1 containing only the columns \"Consumer complaint narrative\" and \"Product\" from the original DataFrame data.\n",
    "data1 = data1.dropna() #filter out rows with missing values (NaN) from the columns \"Consumer complaint narrative\" and \"Product.\"\n",
    "data1.head(500) #viewing rows"
   ]
  },
  {
   "cell_type": "markdown",
   "metadata": {
    "id": "Zt0gO2a5DbZp"
   },
   "source": [
    "# Data preprocessing"
   ]
  },
  {
   "cell_type": "code",
   "execution_count": 13,
   "metadata": {
    "colab": {
     "base_uri": "https://localhost:8080/"
    },
    "id": "VZ_6xiZiSOY3",
    "outputId": "c02706b4-e5dc-40b6-be7b-a4e838e5356e"
   },
   "outputs": [
    {
     "data": {
      "text/plain": [
       "(5132, 2)"
      ]
     },
     "execution_count": 13,
     "metadata": {},
     "output_type": "execute_result"
    }
   ],
   "source": [
    "#checking shape of the data1\n",
    "data1.shape"
   ]
  },
  {
   "cell_type": "code",
   "execution_count": 14,
   "metadata": {
    "colab": {
     "base_uri": "https://localhost:8080/"
    },
    "id": "DpfLw6z8W8GG",
    "outputId": "c67a9b80-1ee5-496d-dae2-fb0e3dbdf3cb"
   },
   "outputs": [
    {
     "data": {
      "text/plain": [
       "10264"
      ]
     },
     "execution_count": 14,
     "metadata": {},
     "output_type": "execute_result"
    }
   ],
   "source": [
    "#checking size of the data1\n",
    "data1.size"
   ]
  },
  {
   "cell_type": "code",
   "execution_count": 15,
   "metadata": {
    "colab": {
     "base_uri": "https://localhost:8080/"
    },
    "id": "iL_v4fvoW-wp",
    "outputId": "b8474a80-e2d9-4fda-db13-896af6047fe5"
   },
   "outputs": [
    {
     "data": {
      "text/plain": [
       "Consumer complaint narrative    object\n",
       "Product                         object\n",
       "dtype: object"
      ]
     },
     "execution_count": 15,
     "metadata": {},
     "output_type": "execute_result"
    }
   ],
   "source": [
    "#checking data1-types\n",
    "data1.dtypes"
   ]
  },
  {
   "cell_type": "code",
   "execution_count": 16,
   "metadata": {
    "colab": {
     "base_uri": "https://localhost:8080/"
    },
    "id": "qBzDoKRCYbvo",
    "outputId": "363eb07f-2e59-4bd8-930b-5d539f8f6545"
   },
   "outputs": [
    {
     "data": {
      "text/plain": [
       "Credit reporting, credit repair services, or other personal consumer reports    3151\n",
       "Debt collection                                                                  790\n",
       "Credit card or prepaid card                                                      343\n",
       "Mortgage                                                                         337\n",
       "Checking or savings account                                                      292\n",
       "Vehicle loan or lease                                                            107\n",
       "Money transfer, virtual currency, or money service                                59\n",
       "Payday loan, title loan, or personal loan                                         42\n",
       "Student loan                                                                      11\n",
       "Name: Product, dtype: int64"
      ]
     },
     "execution_count": 16,
     "metadata": {},
     "output_type": "execute_result"
    }
   ],
   "source": [
    "data1.Product.value_counts()"
   ]
  },
  {
   "cell_type": "markdown",
   "metadata": {
    "id": "5Aa8KjWTDwD0"
   },
   "source": [
    "- **\"Product\" column of the DataFrame \"data1\" are being mapped to broader categories to simplify the classification task.**\n",
    "- **The goal is to group similar product categories together for better model training and prediction.**"
   ]
  },
  {
   "cell_type": "code",
   "execution_count": 17,
   "metadata": {
    "colab": {
     "base_uri": "https://localhost:8080/"
    },
    "id": "PVVcr_PHg_Rk",
    "outputId": "d4a212c0-5742-46d1-dbcf-9821ce170a9c"
   },
   "outputs": [
    {
     "name": "stderr",
     "output_type": "stream",
     "text": [
      "<ipython-input-17-43c439e55acd>:1: SettingWithCopyWarning:\n",
      "\n",
      "\n",
      "A value is trying to be set on a copy of a slice from a DataFrame\n",
      "\n",
      "See the caveats in the documentation: https://pandas.pydata.org/pandas-docs/stable/user_guide/indexing.html#returning-a-view-versus-a-copy\n",
      "\n",
      "<ipython-input-17-43c439e55acd>:4: SettingWithCopyWarning:\n",
      "\n",
      "\n",
      "A value is trying to be set on a copy of a slice from a DataFrame\n",
      "\n",
      "See the caveats in the documentation: https://pandas.pydata.org/pandas-docs/stable/user_guide/indexing.html#returning-a-view-versus-a-copy\n",
      "\n"
     ]
    }
   ],
   "source": [
    "data1.Product.loc[(data1['Product'] == \"Credit reporting, credit repair services, or other personal consumer reports\") |\n",
    "         (data1['Product'] == \"Credit card or prepaid card\")] = \"Credit Card Related\"\n",
    "\n",
    "data1.Product.loc[(data1['Product'] == \"Student loan\") | (data1['Product'] == \"Vehicle loan or lease\") | (data1['Product'] == \"Payday loan, title loan, or personal loan\")] = \"Loan Related\"\n",
    "\n",
    "data1.Product.loc[(data1['Product'] == \"Checking or savings account\") | (data1['Product'] == \"Money transfer, virtual currency, or money service\")] = \"Bank Related\"\n",
    "\n",
    "data1.Product.loc[(data1['Product'] == \"Debt collection\") | (data1['Product'] == \"Mortgage\")] = \"Recovery Related\"\n"
   ]
  },
  {
   "cell_type": "code",
   "execution_count": 18,
   "metadata": {
    "id": "9sxusCLWnKtm"
   },
   "outputs": [],
   "source": [
    "#reindexing and dropping the previous index column.\n",
    "data1.reset_index(inplace = True)\n",
    "data1.drop('index',axis='columns', inplace=True)\n"
   ]
  },
  {
   "cell_type": "code",
   "execution_count": 19,
   "metadata": {
    "colab": {
     "base_uri": "https://localhost:8080/"
    },
    "id": "zsjqXNDWnPgX",
    "outputId": "32e38008-9c08-47b7-cd2a-29871e9f70a7"
   },
   "outputs": [
    {
     "data": {
      "text/plain": [
       "Credit Card Related    3494\n",
       "Recovery Related       1127\n",
       "Bank Related            351\n",
       "Loan Related            160\n",
       "Name: Product, dtype: int64"
      ]
     },
     "execution_count": 19,
     "metadata": {},
     "output_type": "execute_result"
    }
   ],
   "source": [
    "data1.Product.value_counts() #viewing after mapping product column"
   ]
  },
  {
   "cell_type": "code",
   "execution_count": 20,
   "metadata": {
    "colab": {
     "base_uri": "https://localhost:8080/",
     "height": 206
    },
    "id": "_10nxYNknbUP",
    "outputId": "1132f595-9502-4869-f028-b72b1141746c"
   },
   "outputs": [
    {
     "data": {
      "text/html": [
       "\n",
       "\n",
       "  <div id=\"df-b9eae630-e950-4315-952c-e84220f53af2\">\n",
       "    <div class=\"colab-df-container\">\n",
       "      <div>\n",
       "<style scoped>\n",
       "    .dataframe tbody tr th:only-of-type {\n",
       "        vertical-align: middle;\n",
       "    }\n",
       "\n",
       "    .dataframe tbody tr th {\n",
       "        vertical-align: top;\n",
       "    }\n",
       "\n",
       "    .dataframe thead th {\n",
       "        text-align: right;\n",
       "    }\n",
       "</style>\n",
       "<table border=\"1\" class=\"dataframe\">\n",
       "  <thead>\n",
       "    <tr style=\"text-align: right;\">\n",
       "      <th></th>\n",
       "      <th>Consumer complaint narrative</th>\n",
       "      <th>Product</th>\n",
       "    </tr>\n",
       "  </thead>\n",
       "  <tbody>\n",
       "    <tr>\n",
       "      <th>0</th>\n",
       "      <td>Experian has allowed 6 inquiries on my credit ...</td>\n",
       "      <td>Credit Card Related</td>\n",
       "    </tr>\n",
       "    <tr>\n",
       "      <th>1</th>\n",
       "      <td>I submitted documentation from XXXX that I sub...</td>\n",
       "      <td>Credit Card Related</td>\n",
       "    </tr>\n",
       "    <tr>\n",
       "      <th>2</th>\n",
       "      <td>I contacted XXXX XXXX to inquire as to why a t...</td>\n",
       "      <td>Credit Card Related</td>\n",
       "    </tr>\n",
       "    <tr>\n",
       "      <th>3</th>\n",
       "      <td>IC Systems Re : Dispute of Account No. XXXX XX...</td>\n",
       "      <td>Recovery Related</td>\n",
       "    </tr>\n",
       "    <tr>\n",
       "      <th>4</th>\n",
       "      <td>This is the 3 time I have disputed and filed a...</td>\n",
       "      <td>Credit Card Related</td>\n",
       "    </tr>\n",
       "  </tbody>\n",
       "</table>\n",
       "</div>\n",
       "      <button class=\"colab-df-convert\" onclick=\"convertToInteractive('df-b9eae630-e950-4315-952c-e84220f53af2')\"\n",
       "              title=\"Convert this dataframe to an interactive table.\"\n",
       "              style=\"display:none;\">\n",
       "\n",
       "  <svg xmlns=\"http://www.w3.org/2000/svg\" height=\"24px\"viewBox=\"0 0 24 24\"\n",
       "       width=\"24px\">\n",
       "    <path d=\"M0 0h24v24H0V0z\" fill=\"none\"/>\n",
       "    <path d=\"M18.56 5.44l.94 2.06.94-2.06 2.06-.94-2.06-.94-.94-2.06-.94 2.06-2.06.94zm-11 1L8.5 8.5l.94-2.06 2.06-.94-2.06-.94L8.5 2.5l-.94 2.06-2.06.94zm10 10l.94 2.06.94-2.06 2.06-.94-2.06-.94-.94-2.06-.94 2.06-2.06.94z\"/><path d=\"M17.41 7.96l-1.37-1.37c-.4-.4-.92-.59-1.43-.59-.52 0-1.04.2-1.43.59L10.3 9.45l-7.72 7.72c-.78.78-.78 2.05 0 2.83L4 21.41c.39.39.9.59 1.41.59.51 0 1.02-.2 1.41-.59l7.78-7.78 2.81-2.81c.8-.78.8-2.07 0-2.86zM5.41 20L4 18.59l7.72-7.72 1.47 1.35L5.41 20z\"/>\n",
       "  </svg>\n",
       "      </button>\n",
       "\n",
       "\n",
       "\n",
       "    <div id=\"df-8192afd2-83c1-47b3-8ae6-3af591e3bea6\">\n",
       "      <button class=\"colab-df-quickchart\" onclick=\"quickchart('df-8192afd2-83c1-47b3-8ae6-3af591e3bea6')\"\n",
       "              title=\"Suggest charts.\"\n",
       "              style=\"display:none;\">\n",
       "\n",
       "<svg xmlns=\"http://www.w3.org/2000/svg\" height=\"24px\"viewBox=\"0 0 24 24\"\n",
       "     width=\"24px\">\n",
       "    <g>\n",
       "        <path d=\"M19 3H5c-1.1 0-2 .9-2 2v14c0 1.1.9 2 2 2h14c1.1 0 2-.9 2-2V5c0-1.1-.9-2-2-2zM9 17H7v-7h2v7zm4 0h-2V7h2v10zm4 0h-2v-4h2v4z\"/>\n",
       "    </g>\n",
       "</svg>\n",
       "      </button>\n",
       "    </div>\n",
       "\n",
       "<style>\n",
       "  .colab-df-quickchart {\n",
       "    background-color: #E8F0FE;\n",
       "    border: none;\n",
       "    border-radius: 50%;\n",
       "    cursor: pointer;\n",
       "    display: none;\n",
       "    fill: #1967D2;\n",
       "    height: 32px;\n",
       "    padding: 0 0 0 0;\n",
       "    width: 32px;\n",
       "  }\n",
       "\n",
       "  .colab-df-quickchart:hover {\n",
       "    background-color: #E2EBFA;\n",
       "    box-shadow: 0px 1px 2px rgba(60, 64, 67, 0.3), 0px 1px 3px 1px rgba(60, 64, 67, 0.15);\n",
       "    fill: #174EA6;\n",
       "  }\n",
       "\n",
       "  [theme=dark] .colab-df-quickchart {\n",
       "    background-color: #3B4455;\n",
       "    fill: #D2E3FC;\n",
       "  }\n",
       "\n",
       "  [theme=dark] .colab-df-quickchart:hover {\n",
       "    background-color: #434B5C;\n",
       "    box-shadow: 0px 1px 3px 1px rgba(0, 0, 0, 0.15);\n",
       "    filter: drop-shadow(0px 1px 2px rgba(0, 0, 0, 0.3));\n",
       "    fill: #FFFFFF;\n",
       "  }\n",
       "</style>\n",
       "\n",
       "    <script>\n",
       "      async function quickchart(key) {\n",
       "        const containerElement = document.querySelector('#' + key);\n",
       "        const charts = await google.colab.kernel.invokeFunction(\n",
       "            'suggestCharts', [key], {});\n",
       "      }\n",
       "    </script>\n",
       "\n",
       "      <script>\n",
       "\n",
       "function displayQuickchartButton(domScope) {\n",
       "  let quickchartButtonEl =\n",
       "    domScope.querySelector('#df-8192afd2-83c1-47b3-8ae6-3af591e3bea6 button.colab-df-quickchart');\n",
       "  quickchartButtonEl.style.display =\n",
       "    google.colab.kernel.accessAllowed ? 'block' : 'none';\n",
       "}\n",
       "\n",
       "        displayQuickchartButton(document);\n",
       "      </script>\n",
       "      <style>\n",
       "    .colab-df-container {\n",
       "      display:flex;\n",
       "      flex-wrap:wrap;\n",
       "      gap: 12px;\n",
       "    }\n",
       "\n",
       "    .colab-df-convert {\n",
       "      background-color: #E8F0FE;\n",
       "      border: none;\n",
       "      border-radius: 50%;\n",
       "      cursor: pointer;\n",
       "      display: none;\n",
       "      fill: #1967D2;\n",
       "      height: 32px;\n",
       "      padding: 0 0 0 0;\n",
       "      width: 32px;\n",
       "    }\n",
       "\n",
       "    .colab-df-convert:hover {\n",
       "      background-color: #E2EBFA;\n",
       "      box-shadow: 0px 1px 2px rgba(60, 64, 67, 0.3), 0px 1px 3px 1px rgba(60, 64, 67, 0.15);\n",
       "      fill: #174EA6;\n",
       "    }\n",
       "\n",
       "    [theme=dark] .colab-df-convert {\n",
       "      background-color: #3B4455;\n",
       "      fill: #D2E3FC;\n",
       "    }\n",
       "\n",
       "    [theme=dark] .colab-df-convert:hover {\n",
       "      background-color: #434B5C;\n",
       "      box-shadow: 0px 1px 3px 1px rgba(0, 0, 0, 0.15);\n",
       "      filter: drop-shadow(0px 1px 2px rgba(0, 0, 0, 0.3));\n",
       "      fill: #FFFFFF;\n",
       "    }\n",
       "  </style>\n",
       "\n",
       "      <script>\n",
       "        const buttonEl =\n",
       "          document.querySelector('#df-b9eae630-e950-4315-952c-e84220f53af2 button.colab-df-convert');\n",
       "        buttonEl.style.display =\n",
       "          google.colab.kernel.accessAllowed ? 'block' : 'none';\n",
       "\n",
       "        async function convertToInteractive(key) {\n",
       "          const element = document.querySelector('#df-b9eae630-e950-4315-952c-e84220f53af2');\n",
       "          const dataTable =\n",
       "            await google.colab.kernel.invokeFunction('convertToInteractive',\n",
       "                                                     [key], {});\n",
       "          if (!dataTable) return;\n",
       "\n",
       "          const docLinkHtml = 'Like what you see? Visit the ' +\n",
       "            '<a target=\"_blank\" href=https://colab.research.google.com/notebooks/data_table.ipynb>data table notebook</a>'\n",
       "            + ' to learn more about interactive tables.';\n",
       "          element.innerHTML = '';\n",
       "          dataTable['output_type'] = 'display_data';\n",
       "          await google.colab.output.renderOutput(dataTable, element);\n",
       "          const docLink = document.createElement('div');\n",
       "          docLink.innerHTML = docLinkHtml;\n",
       "          element.appendChild(docLink);\n",
       "        }\n",
       "      </script>\n",
       "    </div>\n",
       "  </div>\n"
      ],
      "text/plain": [
       "                        Consumer complaint narrative              Product\n",
       "0  Experian has allowed 6 inquiries on my credit ...  Credit Card Related\n",
       "1  I submitted documentation from XXXX that I sub...  Credit Card Related\n",
       "2  I contacted XXXX XXXX to inquire as to why a t...  Credit Card Related\n",
       "3  IC Systems Re : Dispute of Account No. XXXX XX...     Recovery Related\n",
       "4  This is the 3 time I have disputed and filed a...  Credit Card Related"
      ]
     },
     "execution_count": 20,
     "metadata": {},
     "output_type": "execute_result"
    }
   ],
   "source": [
    "#viewing first five rows\n",
    "data1.head()"
   ]
  },
  {
   "cell_type": "markdown",
   "metadata": {
    "id": "y3dK-PBJn6Yd"
   },
   "source": [
    "### Creating a function to check and treat the text data"
   ]
  },
  {
   "cell_type": "code",
   "execution_count": 21,
   "metadata": {
    "id": "sdJGXXEcnkug"
   },
   "outputs": [],
   "source": [
    "def example_complain(index): #defining function which takes an index as input and retrieves the corresponding consumer complaint narrative and product category from the data1\n",
    "    example = data1[data1.index == index][['Consumer complaint narrative', 'Product']].values[0] #filters the data1 to get the row where the index matches the input index. 'values' attribute converts the resulting DataFrame to a NumPy array. Since we are interested in just one row, we access the first row using [0] and store it in the variable example.\n",
    "    if len(example) > 0: # This line checks if the example variable contains any data. If it does, it means that a matching row was found for the given index.\n",
    "        print(example[0]) #If a matching row was found, this line prints the consumer complaint narrative (the first element of the example array).\n",
    "        print()\n",
    "        print('Category:', example[1]) #These lines create an empty line and then print the product category (the second element of the example array)."
   ]
  },
  {
   "cell_type": "code",
   "execution_count": 22,
   "metadata": {
    "colab": {
     "base_uri": "https://localhost:8080/"
    },
    "id": "6O8XkuAHoYPc",
    "outputId": "fa27e006-77e5-4262-bd67-6b75baa519d0"
   },
   "outputs": [
    {
     "name": "stdout",
     "output_type": "stream",
     "text": [
      "Information sent in to credit bureau on XX/XX/2021. The bureau has yet to respond or take action in removing the items from my report.\n",
      "\n",
      "Category: Credit Card Related\n"
     ]
    }
   ],
   "source": [
    "#viewing the data of 20th row\n",
    "example_complain(20)"
   ]
  },
  {
   "cell_type": "markdown",
   "metadata": {
    "id": "-J9mgaaSofsJ"
   },
   "source": [
    "# Text-Preprocessing"
   ]
  },
  {
   "cell_type": "code",
   "execution_count": 23,
   "metadata": {
    "id": "UKLb--PsoatR"
   },
   "outputs": [],
   "source": [
    "data1 = data1.reset_index(drop=True) #reset the index and drops the old index.\n",
    "REPLACE_BY_SPACE_RE = re.compile('[/(){}\\|@,;]') #This line creates a regular expression pattern REPLACE_BY_SPACE_RE to match characters like '/', '(', ')', '{', '}', '|', '@', ',', and ';' in the text.\n",
    "BAD_SYMBOLS_RE = re.compile('[^0-9a-z #+_]') #This line creates another regular expression pattern BAD_SYMBOLS_RE to match any character that is not a digit, lowercase letter, space, '#', '+', or '_'.\n",
    "STOPWORDS = set(stopwords.words('english')) #This line loads the set of stopwords for the English language. Stopwords are common words (e.g., 'the', 'and', 'is', 'in', etc.) that are usually removed from text as they do not carry much meaning for natural language processing tasks.\n",
    "\n",
    "def clean_text(text): #This line defines a Python function called clean_text, which takes a string (text) as input.\n",
    "    \"\"\"\n",
    "        text: a string\n",
    "\n",
    "        return: modified initial string\n",
    "    \"\"\"\n",
    "    text = text.lower() # lowercase text, This line converts the entire text to lowercase. This is done to ensure that the model does not treat words in different cases as different entities.\n",
    "    text = REPLACE_BY_SPACE_RE.sub(' ', text) # replace REPLACE_BY_SPACE_RE symbols by space in text. substitute the matched string in REPLACE_BY_SPACE_RE with space.\n",
    "    text = BAD_SYMBOLS_RE.sub('', text) # remove symbols which are in BAD_SYMBOLS_RE from text. substitute the matched string in BAD_SYMBOLS_RE with nothing.\n",
    "    text = text.replace('x', '') #This line removes the character 'x' from the text.\n",
    "#    text = re.sub(r'\\W+', '', text)\n",
    "    text = ' '.join(word for word in text.split() if word not in STOPWORDS) #splits the text into individual words and remove stopwords from text, The words are then joined back together using a space as the separator.\n",
    "    return text\n",
    "data1['Consumer complaint narrative'] = data1['Consumer complaint narrative'].apply(clean_text) #applies clean_text function to each element in the 'Consumer complaint narrative' column of the DataFrame data1."
   ]
  },
  {
   "cell_type": "code",
   "execution_count": 24,
   "metadata": {
    "colab": {
     "base_uri": "https://localhost:8080/"
    },
    "id": "cMGrYMIXpxiO",
    "outputId": "9b32ce6d-873b-4bf5-894c-53cda419d6e1"
   },
   "outputs": [
    {
     "name": "stdout",
     "output_type": "stream",
     "text": [
      "information sent credit bureau 2021 bureau yet respond take action removing items report\n",
      "\n",
      "Category: Credit Card Related\n"
     ]
    }
   ],
   "source": [
    "# checking after removing stopwards\n",
    "example_complain(20)"
   ]
  },
  {
   "cell_type": "markdown",
   "metadata": {
    "id": "_pf3dP9Ap7s2"
   },
   "source": [
    "- **As we can see unnecessary words have been removed, helping us in getting clean data.**"
   ]
  },
  {
   "cell_type": "markdown",
   "metadata": {
    "id": "SyQCg2AFqVZn"
   },
   "source": [
    "## Setting up parameters"
   ]
  },
  {
   "cell_type": "code",
   "execution_count": 25,
   "metadata": {
    "id": "v6PcuCehp0FR"
   },
   "outputs": [],
   "source": [
    "# The maximum number of words to be used. (most frequent)\n",
    "MAX_NB_WORDS = 10000 #maximum number of words in the vocabulary is set to 10,000.\n",
    "# Max number of words in each complaint.\n",
    "MAX_SEQUENCE_LENGTH = 250\n",
    "#This variable sets the dimensionality of the word embeddings in the embedding layer of the LSTM mode. This is fixed.\n",
    "EMBEDDING_DIM = 100 #determines the size of these dense vectors. In this case, the dimensionality of the word embeddings is set to 100, which means each word will be represented by a 100-dimensional vector in the embedding layer."
   ]
  },
  {
   "cell_type": "markdown",
   "metadata": {
    "id": "xWsyGE5np1hF"
   },
   "source": [
    "- These variables play a crucial role in defining the input shape and size of the text data and the word embeddings in the LSTM model. They ensure that the text data is appropriately processed, and the model is trained with a manageable number of words and a fixed sequence length."
   ]
  },
  {
   "cell_type": "markdown",
   "metadata": {
    "id": "bYm7fLZSqhuY"
   },
   "source": [
    "## Preprocess the text data and create a word index for the words present in the \"Consumer complaint narrative\" column of the data1 DataFrame."
   ]
  },
  {
   "cell_type": "code",
   "execution_count": 26,
   "metadata": {
    "colab": {
     "base_uri": "https://localhost:8080/"
    },
    "id": "sGccFu1esOu6",
    "outputId": "bccb08f0-7477-442f-dbd4-6c9047cb2087"
   },
   "outputs": [
    {
     "name": "stdout",
     "output_type": "stream",
     "text": [
      "Found 13212 unique tokens.\n"
     ]
    }
   ],
   "source": [
    "tokenizer = Tokenizer(num_words=MAX_NB_WORDS, filters='!\"#$%&()*+,-./:;<=>?@[\\]^_`{|}~', lower=True) #used to convert text data into sequences of integers, it is used to tokenizing the text, creating a word index, and converting each word in the text into its corresponding integer index.\n",
    "tokenizer.fit_on_texts(data1['Consumer complaint narrative'].values) #This method is used to fit the Tokenizer on the text data and create the word index. It takes the text data as input and updates the Tokenizer based on the words present in the text.\n",
    "word_index = tokenizer.word_index # After fitting the Tokenizer, the word_index attribute contains a dictionary where each word is a key, and its corresponding integer index is the value.\n",
    "print('Found %s unique tokens.' % len(word_index)) #prints the number of unique tokens (words) found in the text data, which corresponds to the size of the word index."
   ]
  },
  {
   "cell_type": "markdown",
   "metadata": {
    "id": "elhYJeTJqu3C"
   },
   "source": [
    "## Converting preprocessed text data to sequence of integers and then padding the sequence"
   ]
  },
  {
   "cell_type": "code",
   "execution_count": 27,
   "metadata": {
    "colab": {
     "base_uri": "https://localhost:8080/"
    },
    "id": "-nm9yaU4sa25",
    "outputId": "30fba5b0-6315-454d-b357-7fe6e85b92cf"
   },
   "outputs": [
    {
     "name": "stdout",
     "output_type": "stream",
     "text": [
      "Shape of data tensor: (5132, 250)\n"
     ]
    }
   ],
   "source": [
    "X = tokenizer.texts_to_sequences(data1['Consumer complaint narrative'].values) #used to convert the preprocessed text data into sequences of integers. It takes the preprocessed text data as input and returns a list of sequences, where each sequence is a list of integers representing the integer indices of the words in the text.\n",
    "X = pad_sequences(X, maxlen=MAX_SEQUENCE_LENGTH) # used to pad the sequences of integers to make them all of the same length. We have our Max_Sequence_Length defined as 250.\n",
    "print('Shape of data tensor:', X.shape) #This line prints the shape of the data tensor X, which is a 2D numpy array where each row represents a sequence of integers (padded or truncated) and each column represents a word in the sequence."
   ]
  },
  {
   "cell_type": "markdown",
   "metadata": {
    "id": "4XJ7W7v2O0LM"
   },
   "source": [
    "-"
   ]
  },
  {
   "cell_type": "code",
   "execution_count": 28,
   "metadata": {
    "colab": {
     "base_uri": "https://localhost:8080/"
    },
    "id": "fQgz4YzhtsVC",
    "outputId": "dfbcb161-adfb-4ff2-b014-2a4a32594a0f"
   },
   "outputs": [
    {
     "data": {
      "text/plain": [
       "array([[   0,    0,    0, ...,  187,  238,  294],\n",
       "       [   0,    0,    0, ...,   13,  602,   26],\n",
       "       [   0,    0,    0, ...,   89,  465, 2379],\n",
       "       ...,\n",
       "       [ 254,  537,   77, ...,  339,  151, 1802],\n",
       "       [   0,    0,    0, ...,  438,  232,  130],\n",
       "       [   0,    0,    0, ...,   28,  477,    6]], dtype=int32)"
      ]
     },
     "execution_count": 28,
     "metadata": {},
     "output_type": "execute_result"
    }
   ],
   "source": [
    "#viewing X\n",
    "X"
   ]
  },
  {
   "cell_type": "markdown",
   "metadata": {
    "id": "9rn72z5TOIsy"
   },
   "source": [
    "- sequences of integers representing the preprocessed text data."
   ]
  },
  {
   "cell_type": "code",
   "execution_count": 29,
   "metadata": {
    "colab": {
     "base_uri": "https://localhost:8080/"
    },
    "id": "8DiyC0NgsmAH",
    "outputId": "8b5ec782-9f9a-417e-d9ef-f3b58e9c1c27"
   },
   "outputs": [
    {
     "name": "stdout",
     "output_type": "stream",
     "text": [
      "Shape of label tensor: (5132, 4)\n"
     ]
    }
   ],
   "source": [
    "Y = pd.get_dummies(data1['Product']).values #used to create one-hot encoded vectors for the 'Product' column and converts the one-hot encoded DataFrame into a 2Dnumpy array using '.values' attribute\n",
    "print('Shape of label tensor:', Y.shape) # prints the shape of the label tensor Y, which is a 2D numpy array."
   ]
  },
  {
   "cell_type": "code",
   "execution_count": 30,
   "metadata": {
    "colab": {
     "base_uri": "https://localhost:8080/"
    },
    "id": "AfpKLfS4tu19",
    "outputId": "d035ef00-dca7-46ad-da06-ab70c3afe710"
   },
   "outputs": [
    {
     "data": {
      "text/plain": [
       "array([[0, 1, 0, 0],\n",
       "       [0, 1, 0, 0],\n",
       "       [0, 1, 0, 0],\n",
       "       ...,\n",
       "       [0, 0, 0, 1],\n",
       "       [0, 1, 0, 0],\n",
       "       [0, 1, 0, 0]], dtype=uint8)"
      ]
     },
     "execution_count": 30,
     "metadata": {},
     "output_type": "execute_result"
    }
   ],
   "source": [
    "#viewing Y\n",
    "Y"
   ]
  },
  {
   "cell_type": "markdown",
   "metadata": {
    "id": "gAliMc5HQgCz"
   },
   "source": [
    "- 2D numpy array representing the one-hot encoded vectors for the target labels (product categories).\n",
    "- Each row in the array corresponds to a specific sample (complaint narrative), and each column represents a unique product category."
   ]
  },
  {
   "cell_type": "markdown",
   "metadata": {
    "id": "rJXKmQ03QwS4"
   },
   "source": [
    "# Splitting the dataset into training and testing."
   ]
  },
  {
   "cell_type": "code",
   "execution_count": 31,
   "metadata": {
    "colab": {
     "base_uri": "https://localhost:8080/"
    },
    "id": "z_STy19yszNh",
    "outputId": "d40e5859-be07-43fd-86b4-636d8fdc2a8a"
   },
   "outputs": [
    {
     "name": "stdout",
     "output_type": "stream",
     "text": [
      "(4618, 250) (4618, 4)\n",
      "(514, 250) (514, 4)\n"
     ]
    }
   ],
   "source": [
    "X_train, X_test, Y_train, Y_test = train_test_split(X,Y, test_size = 0.10, random_state = 42)\n",
    "print(X_train.shape,Y_train.shape)\n",
    "print(X_test.shape,Y_test.shape)"
   ]
  },
  {
   "cell_type": "markdown",
   "metadata": {
    "id": "hvA4o-KsRH44"
   },
   "source": [
    "# Model Creation"
   ]
  },
  {
   "cell_type": "code",
   "execution_count": 32,
   "metadata": {
    "colab": {
     "base_uri": "https://localhost:8080/"
    },
    "id": "X1SsUm4es4aJ",
    "outputId": "82eaad1b-43d7-40e8-f59b-592383b4f1b2"
   },
   "outputs": [
    {
     "name": "stdout",
     "output_type": "stream",
     "text": [
      "Model: \"sequential\"\n",
      "_________________________________________________________________\n",
      " Layer (type)                Output Shape              Param #   \n",
      "=================================================================\n",
      " embedding (Embedding)       (None, 250, 100)          1000000   \n",
      "                                                                 \n",
      " spatial_dropout1d (SpatialD  (None, 250, 100)         0         \n",
      " ropout1D)                                                       \n",
      "                                                                 \n",
      " lstm (LSTM)                 (None, 100)               80400     \n",
      "                                                                 \n",
      " dense (Dense)               (None, 4)                 404       \n",
      "                                                                 \n",
      "=================================================================\n",
      "Total params: 1,080,804\n",
      "Trainable params: 1,080,804\n",
      "Non-trainable params: 0\n",
      "_________________________________________________________________\n",
      "None\n"
     ]
    }
   ],
   "source": [
    "## Architecture of LSTM text classification model using keras sequential API\n",
    "\n",
    "model = Sequential() #This line creates a Sequential model, which is a linear stack of layers.\n",
    "model.add(Embedding(MAX_NB_WORDS, EMBEDDING_DIM, input_length=X.shape[1])) #This adds an Embedding layer to the model. The Embedding layer is used to convert the input sequences (complaint narratives) into dense vectors of fixed size\n",
    "model.add(SpatialDropout1D(0.2)) # This adds a SpatialDropout1D layer to the model. Spatial dropout is a variation of dropout that drops entire 1D feature maps instead of individual elements. It helps in regularizing the model by preventing overfitting.\n",
    "model.add(LSTM(100, dropout=0.2, recurrent_dropout=0.2)) #This adds an LSTM (Long Short-Term Memory) layer to the model. LSTM is a type of recurrent neural network (RNN) that is well-suited for processing sequences of data. The layer has 100 units, and dropout and recurrent dropout of 0.2 are applied to reduce overfitting.\n",
    "model.add(Dense(4, activation='softmax')) #This adds a Dense layer with 4 units and a softmax activation function. The softmax activation function is used for multi-class classification problems, and it outputs a probability distribution over the 4 product categories.\n",
    "model.compile(loss='categorical_crossentropy', optimizer='adam', metrics=['accuracy']) #This compiles the model with the categorical cross-entropy loss function, the Adam optimizer, and accuracy as the evaluation metric.\n",
    "print(model.summary()) #This line prints the summary of the model, showing the architecture and the number of parameters in each layer."
   ]
  },
  {
   "cell_type": "code",
   "execution_count": 33,
   "metadata": {
    "id": "RroWZEE_tAVo"
   },
   "outputs": [],
   "source": [
    "epochs = 10 #The number of epochs defines how many times the entire training dataset will be used to train the model. In each epoch, the model goes through all the training samples, updates its weights, and tries to minimize the loss function.\n",
    "batch_size = 64 #The batch size specifies the number of samples that will be processed in one forward and backward pass during each epoch. The training data is divided into batches, and the model's weights are updated after each batch."
   ]
  },
  {
   "cell_type": "code",
   "execution_count": 34,
   "metadata": {
    "colab": {
     "base_uri": "https://localhost:8080/"
    },
    "id": "zDfL259FwBGK",
    "outputId": "1fcc56ac-30c0-4ed4-b9d6-e893e6b4b44a"
   },
   "outputs": [
    {
     "name": "stdout",
     "output_type": "stream",
     "text": [
      "Epoch 1/10\n",
      "65/65 [==============================] - 78s 1s/step - loss: 0.8840 - accuracy: 0.6747 - val_loss: 0.7469 - val_accuracy: 0.6926\n",
      "Epoch 2/10\n",
      "65/65 [==============================] - 70s 1s/step - loss: 0.5856 - accuracy: 0.7695 - val_loss: 0.5974 - val_accuracy: 0.7771\n",
      "Epoch 3/10\n",
      "65/65 [==============================] - 60s 932ms/step - loss: 0.3797 - accuracy: 0.8684 - val_loss: 0.5730 - val_accuracy: 0.7965\n",
      "Epoch 4/10\n",
      "65/65 [==============================] - 61s 936ms/step - loss: 0.2524 - accuracy: 0.9134 - val_loss: 0.5712 - val_accuracy: 0.8225\n",
      "Epoch 5/10\n",
      "65/65 [==============================] - 60s 922ms/step - loss: 0.1815 - accuracy: 0.9408 - val_loss: 0.7420 - val_accuracy: 0.8052\n",
      "Epoch 6/10\n",
      "65/65 [==============================] - 59s 912ms/step - loss: 0.1493 - accuracy: 0.9550 - val_loss: 0.6181 - val_accuracy: 0.8203\n",
      "Epoch 7/10\n",
      "65/65 [==============================] - 59s 910ms/step - loss: 0.1037 - accuracy: 0.9699 - val_loss: 0.6240 - val_accuracy: 0.8225\n"
     ]
    }
   ],
   "source": [
    "#training of the LSTM model on the training data (X_train and Y_train) for the specified number of epochs and batch size. It will use 10% of the training data for validation to monitor the model's performance. The training process will stop early if the validation loss does not improve for three consecutive epochs.\n",
    "history = model.fit(X_train, Y_train, epochs=epochs, batch_size=batch_size,validation_split=0.1,callbacks=[EarlyStopping(monitor='val_loss', patience=3, min_delta=0.0001)])\n",
    "\n"
   ]
  },
  {
   "cell_type": "markdown",
   "metadata": {
    "id": "W-lBJ3mcVSd5"
   },
   "source": [
    "# Model Evaluation"
   ]
  },
  {
   "cell_type": "code",
   "execution_count": 35,
   "metadata": {
    "colab": {
     "base_uri": "https://localhost:8080/"
    },
    "id": "XZfZb-8twSs-",
    "outputId": "5bc02052-7c1f-4350-ba7c-a270b722149a"
   },
   "outputs": [
    {
     "name": "stdout",
     "output_type": "stream",
     "text": [
      "17/17 [==============================] - 1s 80ms/step - loss: 0.6542 - accuracy: 0.8132\n",
      "Test set\n",
      "  Loss: 0.654\n",
      "  Accuracy: 0.813\n"
     ]
    }
   ],
   "source": [
    "accr = model.evaluate(X_test,Y_test) #used to evaluate the trained model on the test data. It takes the test data 'X_test' and the corresponding test labels 'Y_test' as input.\n",
    "print('Test set\\n  Loss: {:0.3f}\\n  Accuracy: {:0.3f}'.format(accr[0],accr[1])) #prints the evaluation results in a formatted string by inserting the values of accr[0] (loss) and accr[1] (accuracy) into the string at the respective positions."
   ]
  },
  {
   "cell_type": "markdown",
   "metadata": {
    "id": "JG8CQE07VZd9"
   },
   "source": [
    "- model's loss on the test data is approximately 0.654 or 65% and the accuracy is approximately 0.813 or 81%."
   ]
  },
  {
   "cell_type": "markdown",
   "metadata": {
    "id": "CtRFBaptW5pR"
   },
   "source": [
    "# Visualizing the Performance"
   ]
  },
  {
   "cell_type": "markdown",
   "metadata": {
    "id": "TUZNymuzrKLO"
   },
   "source": [
    "-  **It helps in visualizing how the model's performance changes over epochs (training iterations) and if it is overfitting or underfitting.**"
   ]
  },
  {
   "cell_type": "markdown",
   "metadata": {
    "id": "PZEWioaktpQH"
   },
   "source": [
    "## **plot the loss of the training and validation sets during the training process.**"
   ]
  },
  {
   "cell_type": "code",
   "execution_count": 36,
   "metadata": {
    "colab": {
     "base_uri": "https://localhost:8080/",
     "height": 452
    },
    "id": "iiRqluXsxov_",
    "outputId": "683c0c9d-3752-443f-b6de-ece61dad70d8"
   },
   "outputs": [
    {
     "data": {
      "image/png": "[encoded data removed]",
      "text/plain": [
       "<Figure size 640x480 with 1 Axes>"
      ]
     },
     "metadata": {},
     "output_type": "display_data"
    }
   ],
   "source": [
    "plt.title('Loss') #Sets the title of the plot as \"Loss\".\n",
    "plt.plot(history.history['loss'], label='train') #Plots the training loss on the graph.\n",
    "plt.plot(history.history['val_loss'], label='test') #Plots the validation loss on the graph.\n",
    "plt.legend() #Displays the legend on the graph, which will show the labels \"train\" and \"test\" corresponding to the training and validation loss plots, respectively.\n",
    "plt.show(); #Displays the plot."
   ]
  },
  {
   "cell_type": "markdown",
   "metadata": {
    "id": "1c2uwwW2srGJ"
   },
   "source": [
    "- **The training loss continues to decrease while the validation loss is fluctuating.**"
   ]
  },
  {
   "cell_type": "markdown",
   "metadata": {
    "id": "z32ap2yttF92"
   },
   "source": [
    "## Visualize the training and validation accuracy of the model over epochs."
   ]
  },
  {
   "cell_type": "code",
   "execution_count": 37,
   "metadata": {
    "colab": {
     "base_uri": "https://localhost:8080/",
     "height": 452
    },
    "id": "siOiiaLhxuiO",
    "outputId": "f2f1b91a-fd94-4009-f5ff-18f8d85c9ff1"
   },
   "outputs": [
    {
     "data": {
      "image/png": "[encoded data removed]",
      "text/plain": [
       "<Figure size 640x480 with 1 Axes>"
      ]
     },
     "metadata": {},
     "output_type": "display_data"
    }
   ],
   "source": [
    "plt.title('Accuracy') #Sets the title of the plot as \"Accuracy\".\n",
    "plt.plot(history.history['accuracy'], label='train') #Plots the training accuracy on the graph.\n",
    "plt.plot(history.history['val_accuracy'], label='test') #Plots the validation accuracy on the graph.\n",
    "plt.legend() #Displays the legend on the graph, which will show the labels \"train\" and \"test\" corresponding to the training and validation accuracy plots, respectively.\n",
    "plt.show(); #Displays the plot."
   ]
  },
  {
   "cell_type": "markdown",
   "metadata": {
    "id": "PY5RSXcTuGbE"
   },
   "source": [
    "- **training accuracy keeps increasing while the validation accuracy keeps fluctuating**"
   ]
  },
  {
   "cell_type": "markdown",
   "metadata": {
    "id": "Y8mu4jATkUMA"
   },
   "source": [
    "# Predicting the **\"product column\"** using the **\"Consumer complaint narrative\"** column."
   ]
  },
  {
   "cell_type": "code",
   "execution_count": 38,
   "metadata": {
    "id": "LiacI6KFxzvA"
   },
   "outputs": [],
   "source": [
    "X_pred = tokenizer.texts_to_sequences(data1['Consumer complaint narrative'].values) #previously fitted on the text data, to convert the text data in the \"Consumer complaint narrative\" column of the data1 DataFrame into sequences of integers.\n",
    "X_pred = pad_sequences(X_pred, maxlen=MAX_SEQUENCE_LENGTH) #This line pads the sequences of integers obtained from the previous step to make them all of the same length."
   ]
  },
  {
   "cell_type": "code",
   "execution_count": 39,
   "metadata": {
    "colab": {
     "base_uri": "https://localhost:8080/"
    },
    "id": "X5J9ETh16P4R",
    "outputId": "bdb117b8-16f6-4dc8-c598-298fbe8196f2"
   },
   "outputs": [
    {
     "name": "stdout",
     "output_type": "stream",
     "text": [
      "161/161 [==============================] - 16s 96ms/step\n"
     ]
    }
   ],
   "source": [
    "# Make Predictions: Now, use the trained model to make predictions on the preprocessed data.\n",
    "predictions = model.predict(X_pred)\n"
   ]
  },
  {
   "cell_type": "code",
   "execution_count": 40,
   "metadata": {
    "id": "61ssw5TQ6Rxe"
   },
   "outputs": [],
   "source": [
    "#storing numPy array containing the output probabilities of the model for each input sample.\n",
    "#np.argmax returns an array containing the index of the maximum value along axis 1.\n",
    "predicted_classes = np.argmax(predictions, axis=1)\n"
   ]
  },
  {
   "cell_type": "code",
   "execution_count": 41,
   "metadata": {
    "id": "gs53tAen6eH6"
   },
   "outputs": [],
   "source": [
    "product_mapping = {0: 'Credit Card Related', 1: 'Recovery Related', 2: 'Mortgage Related', 3: 'Credit Reporting Related'} #used to maps integer class labels to their corresponding product names.\n",
    "predicted_product_names = [product_mapping[label] for label in predicted_classes] #iterates through each predicted class label in predicted_classes, looks up the corresponding product name from the product_mapping dictionary and creates a new list containing the product names.\n"
   ]
  },
  {
   "cell_type": "code",
   "execution_count": 42,
   "metadata": {
    "id": "KWUzk9Pk6lUW"
   },
   "outputs": [],
   "source": [
    "data1['Predicted Product'] = predicted_product_names #the predicted product names are added as a new column called 'Predicted Product' to the data1 DataFrame."
   ]
  },
  {
   "cell_type": "code",
   "execution_count": 43,
   "metadata": {
    "colab": {
     "base_uri": "https://localhost:8080/"
    },
    "id": "rH4Lz7iU8z02",
    "outputId": "0e32b44d-8b68-47ac-e317-4dbd9985a7eb"
   },
   "outputs": [
    {
     "name": "stdout",
     "output_type": "stream",
     "text": [
      "                           Consumer complaint narrative  \\\n",
      "0     eperian allowed 6 inquiries credit report disp...   \n",
      "1     submitted documentation submitted included ori...   \n",
      "2     contacted inquire transaction taking long agen...   \n",
      "3     ic systems dispute account may concern writing...   \n",
      "4     3 time disputed filed complaint cfpb ftc overa...   \n",
      "...                                                 ...   \n",
      "5127  get alert collection credit report never conta...   \n",
      "5128  received letter state california chief deputy ...   \n",
      "5129  attentively review formal writ composed declar...   \n",
      "5130  tried call eperian several times answer get vo...   \n",
      "5131  days ago place disputing eperian regards inacc...   \n",
      "\n",
      "             Predicted Product  \n",
      "0             Recovery Related  \n",
      "1             Recovery Related  \n",
      "2             Recovery Related  \n",
      "3     Credit Reporting Related  \n",
      "4             Recovery Related  \n",
      "...                        ...  \n",
      "5127          Recovery Related  \n",
      "5128  Credit Reporting Related  \n",
      "5129  Credit Reporting Related  \n",
      "5130          Recovery Related  \n",
      "5131          Recovery Related  \n",
      "\n",
      "[5132 rows x 2 columns]\n"
     ]
    }
   ],
   "source": [
    "print(data1[['Consumer complaint narrative', 'Predicted Product']]) #display the original complaints and their corresponding predicted product names side by side."
   ]
  },
  {
   "cell_type": "markdown",
   "metadata": {
    "id": "nujmXInwm7Ki"
   },
   "source": [
    "- **As we can see our model is predicting based on our input data**"
   ]
  },
  {
   "cell_type": "code",
   "execution_count": 44,
   "metadata": {
    "colab": {
     "base_uri": "https://localhost:8080/"
    },
    "id": "wA4BQYnRnElC",
    "outputId": "643e0b58-5373-4c6c-ff7e-4f5d850042e0"
   },
   "outputs": [
    {
     "name": "stderr",
     "output_type": "stream",
     "text": [
      "WARNING:absl:Found untraced functions such as _update_step_xla while saving (showing 1 of 1). These functions will not be directly callable after loading.\n"
     ]
    }
   ],
   "source": [
    "model.save('/content/drive/MyDrive/Colab Notebooks')"
   ]
  },
  {
   "cell_type": "code",
   "execution_count": 45,
   "metadata": {
    "id": "n8OIPqfMvGg9"
   },
   "outputs": [],
   "source": [
    "#Conclusion"
   ]
  },
  {
   "cell_type": "markdown",
   "metadata": {
    "id": "hIVzmU0kEDXG"
   },
   "source": [
    "# Conclusion\n",
    "- I have used LSTM model for this multiclass classification Model along with NLTK.\n",
    "- As per the problem statement the model is successfully predicting the \"prooduct\" column through \"Consumer complaint narrative\".\n"
   ]
  },
  {
   "cell_type": "code",
   "execution_count": null,
   "metadata": {
    "id": "4pks4VjXIUCQ"
   },
   "outputs": [],
   "source": []
  },
  {
   "cell_type": "code",
   "execution_count": null,
   "metadata": {},
   "outputs": [],
   "source": [
    "# Shared embedding layer\n",
    "embedding_layer = Embedding(input_dim=MAX_NB_WORDS, output_dim=EMBEDDING_DIM, input_length=MAX_SEQUENCE_LENGTH)\n",
    "\n",
    "# Input layer\n",
    "input_layer = Input(shape=(MAX_SEQUENCE_LENGTH,), dtype='int32')\n",
    "embedded_sequences = embedding_layer(input_layer)\n",
    "\n",
    "# LSTM layer\n",
    "lstm_layer = LSTM(128)(embedded_sequences)\n",
    "\n",
    "# Output layers for each category\n",
    "output_product = Dense(len(label_encoder_product.classes_), activation='softmax', name='output_product')(lstm_layer)\n",
    "output_sub_product = Dense(len(label_encoder_sub_product.classes_), activation='softmax', name='output_sub_product')(lstm_layer)\n",
    "output_issue = Dense(len(label_encoder_issue.classes_), activation='softmax', name='output_issue')(lstm_layer)\n",
    "output_sub_issue = Dense(len(label_encoder_sub_issue.classes_), activation='softmax', name='output_sub_issue')(lstm_layer)\n",
    "\n",
    "# Model\n",
    "model = Model(inputs=input_layer, outputs=[output_product, output_sub_product, output_issue, output_sub_issue])\n",
    "\n",
    "# Compile the model\n",
    "model.compile(optimizer='adam',\n",
    "              loss='sparse_categorical_crossentropy',\n",
    "              metrics=['accuracy'])"
   ]
  },
  {
   "cell_type": "code",
   "execution_count": null,
   "metadata": {},
   "outputs": [],
   "source": []
  },
  {
   "cell_type": "code",
   "execution_count": null,
   "metadata": {},
   "outputs": [],
   "source": []
  },
  {
   "cell_type": "code",
   "execution_count": null,
   "metadata": {},
   "outputs": [],
   "source": [
    "from tensorflow.keras.callbacks import EarlyStopping, ReduceLROnPlateau\n",
    "\n",
    "# Define callbacks\n",
    "early_stopping = EarlyStopping(monitor='val_loss', patience=5, restore_best_weights=True)\n",
    "reduce_lr = ReduceLROnPlateau(monitor='val_loss', factor=0.2, patience=3, min_lr=0.0001)\n",
    "\n",
    "# Train the model\n",
    "history = model.fit(X_train,\n",
    "                    [y_product_train, y_sub_product_train, y_issue_train, y_sub_issue_train],\n",
    "                    validation_data=(X_test, [y_product_test, y_sub_product_test, y_issue_test, y_sub_issue_test]),\n",
    "                    epochs=100,\n",
    "                    batch_size=64,\n",
    "                    callbacks=[early_stopping, reduce_lr])"
   ]
  }
 ],
 "metadata": {
  "colab": {
   "provenance": []
  },
  "kernelspec": {
   "display_name": "Python 3 (ipykernel)",
   "language": "python",
   "name": "python3"
  },
  "language_info": {
   "codemirror_mode": {
    "name": "ipython",
    "version": 3
   },
   "file_extension": ".py",
   "mimetype": "text/x-python",
   "name": "python",
   "nbconvert_exporter": "python",
   "pygments_lexer": "ipython3",
   "version": "3.9.12"
  }
 },
 "nbformat": 4,
 "nbformat_minor": 1
}
