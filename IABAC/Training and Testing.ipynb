{
 "cells": [
  {
   "cell_type": "markdown",
   "id": "12d6ce70",
   "metadata": {},
   "source": [
    "### Importing required libraries"
   ]
  },
  {
   "cell_type": "code",
   "execution_count": 4,
   "id": "b5cf8f1b",
   "metadata": {},
   "outputs": [],
   "source": [
    "import pandas as pd\n",
    "import numpy as np\n",
    "from scipy import stats\n",
    "from prettytable import PrettyTable\n",
    "import matplotlib.pyplot as plt\n",
    "import warnings                      # Use to supress warnings\n",
    "warnings.filterwarnings('ignore')\n",
    "from sklearn.tree import DecisionTreeClassifier\n",
    "from sklearn.ensemble import RandomForestClassifier\n",
    "from sklearn.metrics import confusion_matrix,accuracy_score,recall_score,precision_score,classification_report,f1_score"
   ]
  },
  {
   "cell_type": "code",
   "execution_count": 5,
   "id": "26ac4ed9",
   "metadata": {},
   "outputs": [],
   "source": [
    "# Reading new preprocessed csv file\n",
    "data = pd.read_csv('Preprocessed_data.csv')"
   ]
  },
  {
   "cell_type": "code",
   "execution_count": 6,
   "id": "5de277f6",
   "metadata": {},
   "outputs": [
    {
     "data": {
      "text/html": [
       "<div>\n",
       "<style scoped>\n",
       "    .dataframe tbody tr th:only-of-type {\n",
       "        vertical-align: middle;\n",
       "    }\n",
       "\n",
       "    .dataframe tbody tr th {\n",
       "        vertical-align: top;\n",
       "    }\n",
       "\n",
       "    .dataframe thead th {\n",
       "        text-align: right;\n",
       "    }\n",
       "</style>\n",
       "<table border=\"1\" class=\"dataframe\">\n",
       "  <thead>\n",
       "    <tr style=\"text-align: right;\">\n",
       "      <th></th>\n",
       "      <th>Unnamed: 0</th>\n",
       "      <th>Age</th>\n",
       "      <th>Gender</th>\n",
       "      <th>EducationBackground</th>\n",
       "      <th>MaritalStatus</th>\n",
       "      <th>EmpDepartment</th>\n",
       "      <th>EmpJobRole</th>\n",
       "      <th>BusinessTravelFrequency</th>\n",
       "      <th>DistanceFromHome</th>\n",
       "      <th>EmpEducationLevel</th>\n",
       "      <th>...</th>\n",
       "      <th>EmpRelationshipSatisfaction</th>\n",
       "      <th>TotalWorkExperienceInYears</th>\n",
       "      <th>TrainingTimesLastYear</th>\n",
       "      <th>EmpWorkLifeBalance</th>\n",
       "      <th>ExperienceYearsAtThisCompany</th>\n",
       "      <th>ExperienceYearsInCurrentRole</th>\n",
       "      <th>YearsSinceLastPromotion_square</th>\n",
       "      <th>YearsWithCurrManager</th>\n",
       "      <th>Attrition</th>\n",
       "      <th>PerformanceRating</th>\n",
       "    </tr>\n",
       "  </thead>\n",
       "  <tbody>\n",
       "    <tr>\n",
       "      <th>0</th>\n",
       "      <td>0</td>\n",
       "      <td>0.333333</td>\n",
       "      <td>1.0</td>\n",
       "      <td>0.4</td>\n",
       "      <td>1.0</td>\n",
       "      <td>1.0</td>\n",
       "      <td>0.722222</td>\n",
       "      <td>1.0</td>\n",
       "      <td>0.321429</td>\n",
       "      <td>0.50</td>\n",
       "      <td>...</td>\n",
       "      <td>1.000000</td>\n",
       "      <td>0.250</td>\n",
       "      <td>0.333333</td>\n",
       "      <td>0.333333</td>\n",
       "      <td>0.250</td>\n",
       "      <td>0.388889</td>\n",
       "      <td>0.000000</td>\n",
       "      <td>0.470588</td>\n",
       "      <td>0.0</td>\n",
       "      <td>1.0</td>\n",
       "    </tr>\n",
       "    <tr>\n",
       "      <th>1</th>\n",
       "      <td>1</td>\n",
       "      <td>0.690476</td>\n",
       "      <td>1.0</td>\n",
       "      <td>0.4</td>\n",
       "      <td>1.0</td>\n",
       "      <td>1.0</td>\n",
       "      <td>0.722222</td>\n",
       "      <td>1.0</td>\n",
       "      <td>0.464286</td>\n",
       "      <td>0.75</td>\n",
       "      <td>...</td>\n",
       "      <td>1.000000</td>\n",
       "      <td>0.500</td>\n",
       "      <td>0.333333</td>\n",
       "      <td>0.666667</td>\n",
       "      <td>0.175</td>\n",
       "      <td>0.388889</td>\n",
       "      <td>0.377964</td>\n",
       "      <td>0.411765</td>\n",
       "      <td>0.0</td>\n",
       "      <td>1.0</td>\n",
       "    </tr>\n",
       "    <tr>\n",
       "      <th>2</th>\n",
       "      <td>2</td>\n",
       "      <td>0.523810</td>\n",
       "      <td>1.0</td>\n",
       "      <td>0.2</td>\n",
       "      <td>0.5</td>\n",
       "      <td>1.0</td>\n",
       "      <td>0.722222</td>\n",
       "      <td>0.5</td>\n",
       "      <td>0.142857</td>\n",
       "      <td>0.75</td>\n",
       "      <td>...</td>\n",
       "      <td>0.666667</td>\n",
       "      <td>0.500</td>\n",
       "      <td>0.333333</td>\n",
       "      <td>0.666667</td>\n",
       "      <td>0.450</td>\n",
       "      <td>0.722222</td>\n",
       "      <td>0.377964</td>\n",
       "      <td>0.705882</td>\n",
       "      <td>0.0</td>\n",
       "      <td>1.0</td>\n",
       "    </tr>\n",
       "    <tr>\n",
       "      <th>3</th>\n",
       "      <td>3</td>\n",
       "      <td>0.547619</td>\n",
       "      <td>1.0</td>\n",
       "      <td>0.0</td>\n",
       "      <td>0.0</td>\n",
       "      <td>0.6</td>\n",
       "      <td>0.444444</td>\n",
       "      <td>1.0</td>\n",
       "      <td>0.321429</td>\n",
       "      <td>0.75</td>\n",
       "      <td>...</td>\n",
       "      <td>0.333333</td>\n",
       "      <td>0.575</td>\n",
       "      <td>0.333333</td>\n",
       "      <td>0.333333</td>\n",
       "      <td>0.525</td>\n",
       "      <td>0.333333</td>\n",
       "      <td>0.377964</td>\n",
       "      <td>0.352941</td>\n",
       "      <td>0.0</td>\n",
       "      <td>1.0</td>\n",
       "    </tr>\n",
       "    <tr>\n",
       "      <th>4</th>\n",
       "      <td>4</td>\n",
       "      <td>1.000000</td>\n",
       "      <td>1.0</td>\n",
       "      <td>0.4</td>\n",
       "      <td>1.0</td>\n",
       "      <td>1.0</td>\n",
       "      <td>0.722222</td>\n",
       "      <td>1.0</td>\n",
       "      <td>0.535714</td>\n",
       "      <td>0.75</td>\n",
       "      <td>...</td>\n",
       "      <td>1.000000</td>\n",
       "      <td>0.250</td>\n",
       "      <td>0.166667</td>\n",
       "      <td>0.666667</td>\n",
       "      <td>0.050</td>\n",
       "      <td>0.111111</td>\n",
       "      <td>0.534522</td>\n",
       "      <td>0.117647</td>\n",
       "      <td>0.0</td>\n",
       "      <td>1.0</td>\n",
       "    </tr>\n",
       "    <tr>\n",
       "      <th>...</th>\n",
       "      <td>...</td>\n",
       "      <td>...</td>\n",
       "      <td>...</td>\n",
       "      <td>...</td>\n",
       "      <td>...</td>\n",
       "      <td>...</td>\n",
       "      <td>...</td>\n",
       "      <td>...</td>\n",
       "      <td>...</td>\n",
       "      <td>...</td>\n",
       "      <td>...</td>\n",
       "      <td>...</td>\n",
       "      <td>...</td>\n",
       "      <td>...</td>\n",
       "      <td>...</td>\n",
       "      <td>...</td>\n",
       "      <td>...</td>\n",
       "      <td>...</td>\n",
       "      <td>...</td>\n",
       "      <td>...</td>\n",
       "      <td>...</td>\n",
       "    </tr>\n",
       "    <tr>\n",
       "      <th>1195</th>\n",
       "      <td>1195</td>\n",
       "      <td>0.214286</td>\n",
       "      <td>0.0</td>\n",
       "      <td>0.6</td>\n",
       "      <td>0.0</td>\n",
       "      <td>1.0</td>\n",
       "      <td>0.722222</td>\n",
       "      <td>0.5</td>\n",
       "      <td>0.071429</td>\n",
       "      <td>0.00</td>\n",
       "      <td>...</td>\n",
       "      <td>0.333333</td>\n",
       "      <td>0.150</td>\n",
       "      <td>0.500000</td>\n",
       "      <td>0.666667</td>\n",
       "      <td>0.150</td>\n",
       "      <td>0.277778</td>\n",
       "      <td>0.000000</td>\n",
       "      <td>0.235294</td>\n",
       "      <td>0.0</td>\n",
       "      <td>1.0</td>\n",
       "    </tr>\n",
       "    <tr>\n",
       "      <th>1196</th>\n",
       "      <td>1196</td>\n",
       "      <td>0.452381</td>\n",
       "      <td>1.0</td>\n",
       "      <td>0.2</td>\n",
       "      <td>1.0</td>\n",
       "      <td>0.2</td>\n",
       "      <td>0.833333</td>\n",
       "      <td>1.0</td>\n",
       "      <td>0.321429</td>\n",
       "      <td>0.25</td>\n",
       "      <td>...</td>\n",
       "      <td>0.000000</td>\n",
       "      <td>0.100</td>\n",
       "      <td>0.333333</td>\n",
       "      <td>0.666667</td>\n",
       "      <td>0.025</td>\n",
       "      <td>0.000000</td>\n",
       "      <td>0.000000</td>\n",
       "      <td>0.000000</td>\n",
       "      <td>0.0</td>\n",
       "      <td>1.0</td>\n",
       "    </tr>\n",
       "    <tr>\n",
       "      <th>1197</th>\n",
       "      <td>1197</td>\n",
       "      <td>0.761905</td>\n",
       "      <td>1.0</td>\n",
       "      <td>0.6</td>\n",
       "      <td>0.5</td>\n",
       "      <td>0.2</td>\n",
       "      <td>0.833333</td>\n",
       "      <td>1.0</td>\n",
       "      <td>0.964286</td>\n",
       "      <td>0.00</td>\n",
       "      <td>...</td>\n",
       "      <td>0.666667</td>\n",
       "      <td>0.500</td>\n",
       "      <td>0.500000</td>\n",
       "      <td>0.666667</td>\n",
       "      <td>0.500</td>\n",
       "      <td>0.444444</td>\n",
       "      <td>0.654654</td>\n",
       "      <td>0.470588</td>\n",
       "      <td>0.0</td>\n",
       "      <td>1.0</td>\n",
       "    </tr>\n",
       "    <tr>\n",
       "      <th>1198</th>\n",
       "      <td>1198</td>\n",
       "      <td>0.380952</td>\n",
       "      <td>0.0</td>\n",
       "      <td>0.6</td>\n",
       "      <td>1.0</td>\n",
       "      <td>0.0</td>\n",
       "      <td>0.055556</td>\n",
       "      <td>1.0</td>\n",
       "      <td>0.285714</td>\n",
       "      <td>0.50</td>\n",
       "      <td>...</td>\n",
       "      <td>0.333333</td>\n",
       "      <td>0.225</td>\n",
       "      <td>0.500000</td>\n",
       "      <td>1.000000</td>\n",
       "      <td>0.200</td>\n",
       "      <td>0.388889</td>\n",
       "      <td>1.000000</td>\n",
       "      <td>0.411765</td>\n",
       "      <td>0.0</td>\n",
       "      <td>1.0</td>\n",
       "    </tr>\n",
       "    <tr>\n",
       "      <th>1199</th>\n",
       "      <td>1199</td>\n",
       "      <td>0.142857</td>\n",
       "      <td>0.0</td>\n",
       "      <td>0.2</td>\n",
       "      <td>1.0</td>\n",
       "      <td>1.0</td>\n",
       "      <td>0.722222</td>\n",
       "      <td>1.0</td>\n",
       "      <td>0.071429</td>\n",
       "      <td>0.25</td>\n",
       "      <td>...</td>\n",
       "      <td>0.000000</td>\n",
       "      <td>0.100</td>\n",
       "      <td>0.500000</td>\n",
       "      <td>0.666667</td>\n",
       "      <td>0.050</td>\n",
       "      <td>0.111111</td>\n",
       "      <td>0.534522</td>\n",
       "      <td>0.000000</td>\n",
       "      <td>1.0</td>\n",
       "      <td>0.0</td>\n",
       "    </tr>\n",
       "  </tbody>\n",
       "</table>\n",
       "<p>1200 rows × 28 columns</p>\n",
       "</div>"
      ],
      "text/plain": [
       "      Unnamed: 0       Age  Gender  EducationBackground  MaritalStatus  \\\n",
       "0              0  0.333333     1.0                  0.4            1.0   \n",
       "1              1  0.690476     1.0                  0.4            1.0   \n",
       "2              2  0.523810     1.0                  0.2            0.5   \n",
       "3              3  0.547619     1.0                  0.0            0.0   \n",
       "4              4  1.000000     1.0                  0.4            1.0   \n",
       "...          ...       ...     ...                  ...            ...   \n",
       "1195        1195  0.214286     0.0                  0.6            0.0   \n",
       "1196        1196  0.452381     1.0                  0.2            1.0   \n",
       "1197        1197  0.761905     1.0                  0.6            0.5   \n",
       "1198        1198  0.380952     0.0                  0.6            1.0   \n",
       "1199        1199  0.142857     0.0                  0.2            1.0   \n",
       "\n",
       "      EmpDepartment  EmpJobRole  BusinessTravelFrequency  DistanceFromHome  \\\n",
       "0               1.0    0.722222                      1.0          0.321429   \n",
       "1               1.0    0.722222                      1.0          0.464286   \n",
       "2               1.0    0.722222                      0.5          0.142857   \n",
       "3               0.6    0.444444                      1.0          0.321429   \n",
       "4               1.0    0.722222                      1.0          0.535714   \n",
       "...             ...         ...                      ...               ...   \n",
       "1195            1.0    0.722222                      0.5          0.071429   \n",
       "1196            0.2    0.833333                      1.0          0.321429   \n",
       "1197            0.2    0.833333                      1.0          0.964286   \n",
       "1198            0.0    0.055556                      1.0          0.285714   \n",
       "1199            1.0    0.722222                      1.0          0.071429   \n",
       "\n",
       "      EmpEducationLevel  ...  EmpRelationshipSatisfaction  \\\n",
       "0                  0.50  ...                     1.000000   \n",
       "1                  0.75  ...                     1.000000   \n",
       "2                  0.75  ...                     0.666667   \n",
       "3                  0.75  ...                     0.333333   \n",
       "4                  0.75  ...                     1.000000   \n",
       "...                 ...  ...                          ...   \n",
       "1195               0.00  ...                     0.333333   \n",
       "1196               0.25  ...                     0.000000   \n",
       "1197               0.00  ...                     0.666667   \n",
       "1198               0.50  ...                     0.333333   \n",
       "1199               0.25  ...                     0.000000   \n",
       "\n",
       "      TotalWorkExperienceInYears  TrainingTimesLastYear  EmpWorkLifeBalance  \\\n",
       "0                          0.250               0.333333            0.333333   \n",
       "1                          0.500               0.333333            0.666667   \n",
       "2                          0.500               0.333333            0.666667   \n",
       "3                          0.575               0.333333            0.333333   \n",
       "4                          0.250               0.166667            0.666667   \n",
       "...                          ...                    ...                 ...   \n",
       "1195                       0.150               0.500000            0.666667   \n",
       "1196                       0.100               0.333333            0.666667   \n",
       "1197                       0.500               0.500000            0.666667   \n",
       "1198                       0.225               0.500000            1.000000   \n",
       "1199                       0.100               0.500000            0.666667   \n",
       "\n",
       "      ExperienceYearsAtThisCompany  ExperienceYearsInCurrentRole  \\\n",
       "0                            0.250                      0.388889   \n",
       "1                            0.175                      0.388889   \n",
       "2                            0.450                      0.722222   \n",
       "3                            0.525                      0.333333   \n",
       "4                            0.050                      0.111111   \n",
       "...                            ...                           ...   \n",
       "1195                         0.150                      0.277778   \n",
       "1196                         0.025                      0.000000   \n",
       "1197                         0.500                      0.444444   \n",
       "1198                         0.200                      0.388889   \n",
       "1199                         0.050                      0.111111   \n",
       "\n",
       "      YearsSinceLastPromotion_square  YearsWithCurrManager  Attrition  \\\n",
       "0                           0.000000              0.470588        0.0   \n",
       "1                           0.377964              0.411765        0.0   \n",
       "2                           0.377964              0.705882        0.0   \n",
       "3                           0.377964              0.352941        0.0   \n",
       "4                           0.534522              0.117647        0.0   \n",
       "...                              ...                   ...        ...   \n",
       "1195                        0.000000              0.235294        0.0   \n",
       "1196                        0.000000              0.000000        0.0   \n",
       "1197                        0.654654              0.470588        0.0   \n",
       "1198                        1.000000              0.411765        0.0   \n",
       "1199                        0.534522              0.000000        1.0   \n",
       "\n",
       "      PerformanceRating  \n",
       "0                   1.0  \n",
       "1                   1.0  \n",
       "2                   1.0  \n",
       "3                   1.0  \n",
       "4                   1.0  \n",
       "...                 ...  \n",
       "1195                1.0  \n",
       "1196                1.0  \n",
       "1197                1.0  \n",
       "1198                1.0  \n",
       "1199                0.0  \n",
       "\n",
       "[1200 rows x 28 columns]"
      ]
     },
     "execution_count": 6,
     "metadata": {},
     "output_type": "execute_result"
    }
   ],
   "source": [
    "data"
   ]
  },
  {
   "cell_type": "code",
   "execution_count": 7,
   "id": "7a8aca61",
   "metadata": {},
   "outputs": [],
   "source": [
    "# dropping useless columns\n",
    "data.drop(['Unnamed: 0'],axis=1,inplace=True)"
   ]
  },
  {
   "cell_type": "code",
   "execution_count": 8,
   "id": "5484bf52",
   "metadata": {},
   "outputs": [
    {
     "data": {
      "text/html": [
       "<div>\n",
       "<style scoped>\n",
       "    .dataframe tbody tr th:only-of-type {\n",
       "        vertical-align: middle;\n",
       "    }\n",
       "\n",
       "    .dataframe tbody tr th {\n",
       "        vertical-align: top;\n",
       "    }\n",
       "\n",
       "    .dataframe thead th {\n",
       "        text-align: right;\n",
       "    }\n",
       "</style>\n",
       "<table border=\"1\" class=\"dataframe\">\n",
       "  <thead>\n",
       "    <tr style=\"text-align: right;\">\n",
       "      <th></th>\n",
       "      <th>Age</th>\n",
       "      <th>Gender</th>\n",
       "      <th>EducationBackground</th>\n",
       "      <th>MaritalStatus</th>\n",
       "      <th>EmpDepartment</th>\n",
       "      <th>EmpJobRole</th>\n",
       "      <th>BusinessTravelFrequency</th>\n",
       "      <th>DistanceFromHome</th>\n",
       "      <th>EmpEducationLevel</th>\n",
       "      <th>EmpEnvironmentSatisfaction</th>\n",
       "      <th>...</th>\n",
       "      <th>EmpRelationshipSatisfaction</th>\n",
       "      <th>TotalWorkExperienceInYears</th>\n",
       "      <th>TrainingTimesLastYear</th>\n",
       "      <th>EmpWorkLifeBalance</th>\n",
       "      <th>ExperienceYearsAtThisCompany</th>\n",
       "      <th>ExperienceYearsInCurrentRole</th>\n",
       "      <th>YearsSinceLastPromotion_square</th>\n",
       "      <th>YearsWithCurrManager</th>\n",
       "      <th>Attrition</th>\n",
       "      <th>PerformanceRating</th>\n",
       "    </tr>\n",
       "  </thead>\n",
       "  <tbody>\n",
       "    <tr>\n",
       "      <th>0</th>\n",
       "      <td>0.333333</td>\n",
       "      <td>1.0</td>\n",
       "      <td>0.4</td>\n",
       "      <td>1.0</td>\n",
       "      <td>1.0</td>\n",
       "      <td>0.722222</td>\n",
       "      <td>1.0</td>\n",
       "      <td>0.321429</td>\n",
       "      <td>0.50</td>\n",
       "      <td>1.0</td>\n",
       "      <td>...</td>\n",
       "      <td>1.0</td>\n",
       "      <td>0.25</td>\n",
       "      <td>0.333333</td>\n",
       "      <td>0.333333</td>\n",
       "      <td>0.250</td>\n",
       "      <td>0.388889</td>\n",
       "      <td>0.000000</td>\n",
       "      <td>0.470588</td>\n",
       "      <td>0.0</td>\n",
       "      <td>1.0</td>\n",
       "    </tr>\n",
       "    <tr>\n",
       "      <th>1</th>\n",
       "      <td>0.690476</td>\n",
       "      <td>1.0</td>\n",
       "      <td>0.4</td>\n",
       "      <td>1.0</td>\n",
       "      <td>1.0</td>\n",
       "      <td>0.722222</td>\n",
       "      <td>1.0</td>\n",
       "      <td>0.464286</td>\n",
       "      <td>0.75</td>\n",
       "      <td>1.0</td>\n",
       "      <td>...</td>\n",
       "      <td>1.0</td>\n",
       "      <td>0.50</td>\n",
       "      <td>0.333333</td>\n",
       "      <td>0.666667</td>\n",
       "      <td>0.175</td>\n",
       "      <td>0.388889</td>\n",
       "      <td>0.377964</td>\n",
       "      <td>0.411765</td>\n",
       "      <td>0.0</td>\n",
       "      <td>1.0</td>\n",
       "    </tr>\n",
       "  </tbody>\n",
       "</table>\n",
       "<p>2 rows × 27 columns</p>\n",
       "</div>"
      ],
      "text/plain": [
       "        Age  Gender  EducationBackground  MaritalStatus  EmpDepartment  \\\n",
       "0  0.333333     1.0                  0.4            1.0            1.0   \n",
       "1  0.690476     1.0                  0.4            1.0            1.0   \n",
       "\n",
       "   EmpJobRole  BusinessTravelFrequency  DistanceFromHome  EmpEducationLevel  \\\n",
       "0    0.722222                      1.0          0.321429               0.50   \n",
       "1    0.722222                      1.0          0.464286               0.75   \n",
       "\n",
       "   EmpEnvironmentSatisfaction  ...  EmpRelationshipSatisfaction  \\\n",
       "0                         1.0  ...                          1.0   \n",
       "1                         1.0  ...                          1.0   \n",
       "\n",
       "   TotalWorkExperienceInYears  TrainingTimesLastYear  EmpWorkLifeBalance  \\\n",
       "0                        0.25               0.333333            0.333333   \n",
       "1                        0.50               0.333333            0.666667   \n",
       "\n",
       "   ExperienceYearsAtThisCompany  ExperienceYearsInCurrentRole  \\\n",
       "0                         0.250                      0.388889   \n",
       "1                         0.175                      0.388889   \n",
       "\n",
       "   YearsSinceLastPromotion_square  YearsWithCurrManager  Attrition  \\\n",
       "0                        0.000000              0.470588        0.0   \n",
       "1                        0.377964              0.411765        0.0   \n",
       "\n",
       "   PerformanceRating  \n",
       "0                1.0  \n",
       "1                1.0  \n",
       "\n",
       "[2 rows x 27 columns]"
      ]
     },
     "execution_count": 8,
     "metadata": {},
     "output_type": "execute_result"
    }
   ],
   "source": [
    "data.head(2)"
   ]
  },
  {
   "cell_type": "markdown",
   "id": "31f9b669",
   "metadata": {},
   "source": [
    "# Splitting the dataset"
   ]
  },
  {
   "cell_type": "code",
   "execution_count": 9,
   "id": "9062505b",
   "metadata": {},
   "outputs": [],
   "source": [
    "#drfining X and y \n",
    "X=data.iloc[0:,:-1]   #except the last feature all are take\n",
    "y=data.PerformanceRating #only the target feature is taken"
   ]
  },
  {
   "cell_type": "markdown",
   "id": "f95a64ba",
   "metadata": {},
   "source": [
    "# Model Creation"
   ]
  },
  {
   "cell_type": "code",
   "execution_count": 10,
   "id": "35cbb3a0",
   "metadata": {},
   "outputs": [
    {
     "data": {
      "text/html": [
       "<div>\n",
       "<style scoped>\n",
       "    .dataframe tbody tr th:only-of-type {\n",
       "        vertical-align: middle;\n",
       "    }\n",
       "\n",
       "    .dataframe tbody tr th {\n",
       "        vertical-align: top;\n",
       "    }\n",
       "\n",
       "    .dataframe thead th {\n",
       "        text-align: right;\n",
       "    }\n",
       "</style>\n",
       "<table border=\"1\" class=\"dataframe\">\n",
       "  <thead>\n",
       "    <tr style=\"text-align: right;\">\n",
       "      <th></th>\n",
       "      <th>Age</th>\n",
       "      <th>Gender</th>\n",
       "      <th>EducationBackground</th>\n",
       "      <th>MaritalStatus</th>\n",
       "      <th>EmpDepartment</th>\n",
       "      <th>EmpJobRole</th>\n",
       "      <th>BusinessTravelFrequency</th>\n",
       "      <th>DistanceFromHome</th>\n",
       "      <th>EmpEducationLevel</th>\n",
       "      <th>EmpEnvironmentSatisfaction</th>\n",
       "      <th>...</th>\n",
       "      <th>EmpLastSalaryHikePercent</th>\n",
       "      <th>EmpRelationshipSatisfaction</th>\n",
       "      <th>TotalWorkExperienceInYears</th>\n",
       "      <th>TrainingTimesLastYear</th>\n",
       "      <th>EmpWorkLifeBalance</th>\n",
       "      <th>ExperienceYearsAtThisCompany</th>\n",
       "      <th>ExperienceYearsInCurrentRole</th>\n",
       "      <th>YearsSinceLastPromotion_square</th>\n",
       "      <th>YearsWithCurrManager</th>\n",
       "      <th>Attrition</th>\n",
       "    </tr>\n",
       "  </thead>\n",
       "  <tbody>\n",
       "    <tr>\n",
       "      <th>0</th>\n",
       "      <td>0.333333</td>\n",
       "      <td>1.0</td>\n",
       "      <td>0.4</td>\n",
       "      <td>1.0</td>\n",
       "      <td>1.0</td>\n",
       "      <td>0.722222</td>\n",
       "      <td>1.0</td>\n",
       "      <td>0.321429</td>\n",
       "      <td>0.50</td>\n",
       "      <td>1.000000</td>\n",
       "      <td>...</td>\n",
       "      <td>0.071429</td>\n",
       "      <td>1.000000</td>\n",
       "      <td>0.250</td>\n",
       "      <td>0.333333</td>\n",
       "      <td>0.333333</td>\n",
       "      <td>0.250</td>\n",
       "      <td>0.388889</td>\n",
       "      <td>0.000000</td>\n",
       "      <td>0.470588</td>\n",
       "      <td>0.0</td>\n",
       "    </tr>\n",
       "    <tr>\n",
       "      <th>1</th>\n",
       "      <td>0.690476</td>\n",
       "      <td>1.0</td>\n",
       "      <td>0.4</td>\n",
       "      <td>1.0</td>\n",
       "      <td>1.0</td>\n",
       "      <td>0.722222</td>\n",
       "      <td>1.0</td>\n",
       "      <td>0.464286</td>\n",
       "      <td>0.75</td>\n",
       "      <td>1.000000</td>\n",
       "      <td>...</td>\n",
       "      <td>0.071429</td>\n",
       "      <td>1.000000</td>\n",
       "      <td>0.500</td>\n",
       "      <td>0.333333</td>\n",
       "      <td>0.666667</td>\n",
       "      <td>0.175</td>\n",
       "      <td>0.388889</td>\n",
       "      <td>0.377964</td>\n",
       "      <td>0.411765</td>\n",
       "      <td>0.0</td>\n",
       "    </tr>\n",
       "    <tr>\n",
       "      <th>2</th>\n",
       "      <td>0.523810</td>\n",
       "      <td>1.0</td>\n",
       "      <td>0.2</td>\n",
       "      <td>0.5</td>\n",
       "      <td>1.0</td>\n",
       "      <td>0.722222</td>\n",
       "      <td>0.5</td>\n",
       "      <td>0.142857</td>\n",
       "      <td>0.75</td>\n",
       "      <td>1.000000</td>\n",
       "      <td>...</td>\n",
       "      <td>0.714286</td>\n",
       "      <td>0.666667</td>\n",
       "      <td>0.500</td>\n",
       "      <td>0.333333</td>\n",
       "      <td>0.666667</td>\n",
       "      <td>0.450</td>\n",
       "      <td>0.722222</td>\n",
       "      <td>0.377964</td>\n",
       "      <td>0.705882</td>\n",
       "      <td>0.0</td>\n",
       "    </tr>\n",
       "    <tr>\n",
       "      <th>3</th>\n",
       "      <td>0.547619</td>\n",
       "      <td>1.0</td>\n",
       "      <td>0.0</td>\n",
       "      <td>0.0</td>\n",
       "      <td>0.6</td>\n",
       "      <td>0.444444</td>\n",
       "      <td>1.0</td>\n",
       "      <td>0.321429</td>\n",
       "      <td>0.75</td>\n",
       "      <td>0.333333</td>\n",
       "      <td>...</td>\n",
       "      <td>0.285714</td>\n",
       "      <td>0.333333</td>\n",
       "      <td>0.575</td>\n",
       "      <td>0.333333</td>\n",
       "      <td>0.333333</td>\n",
       "      <td>0.525</td>\n",
       "      <td>0.333333</td>\n",
       "      <td>0.377964</td>\n",
       "      <td>0.352941</td>\n",
       "      <td>0.0</td>\n",
       "    </tr>\n",
       "    <tr>\n",
       "      <th>4</th>\n",
       "      <td>1.000000</td>\n",
       "      <td>1.0</td>\n",
       "      <td>0.4</td>\n",
       "      <td>1.0</td>\n",
       "      <td>1.0</td>\n",
       "      <td>0.722222</td>\n",
       "      <td>1.0</td>\n",
       "      <td>0.535714</td>\n",
       "      <td>0.75</td>\n",
       "      <td>0.000000</td>\n",
       "      <td>...</td>\n",
       "      <td>0.214286</td>\n",
       "      <td>1.000000</td>\n",
       "      <td>0.250</td>\n",
       "      <td>0.166667</td>\n",
       "      <td>0.666667</td>\n",
       "      <td>0.050</td>\n",
       "      <td>0.111111</td>\n",
       "      <td>0.534522</td>\n",
       "      <td>0.117647</td>\n",
       "      <td>0.0</td>\n",
       "    </tr>\n",
       "    <tr>\n",
       "      <th>...</th>\n",
       "      <td>...</td>\n",
       "      <td>...</td>\n",
       "      <td>...</td>\n",
       "      <td>...</td>\n",
       "      <td>...</td>\n",
       "      <td>...</td>\n",
       "      <td>...</td>\n",
       "      <td>...</td>\n",
       "      <td>...</td>\n",
       "      <td>...</td>\n",
       "      <td>...</td>\n",
       "      <td>...</td>\n",
       "      <td>...</td>\n",
       "      <td>...</td>\n",
       "      <td>...</td>\n",
       "      <td>...</td>\n",
       "      <td>...</td>\n",
       "      <td>...</td>\n",
       "      <td>...</td>\n",
       "      <td>...</td>\n",
       "      <td>...</td>\n",
       "    </tr>\n",
       "    <tr>\n",
       "      <th>1195</th>\n",
       "      <td>0.214286</td>\n",
       "      <td>0.0</td>\n",
       "      <td>0.6</td>\n",
       "      <td>0.0</td>\n",
       "      <td>1.0</td>\n",
       "      <td>0.722222</td>\n",
       "      <td>0.5</td>\n",
       "      <td>0.071429</td>\n",
       "      <td>0.00</td>\n",
       "      <td>1.000000</td>\n",
       "      <td>...</td>\n",
       "      <td>0.642857</td>\n",
       "      <td>0.333333</td>\n",
       "      <td>0.150</td>\n",
       "      <td>0.500000</td>\n",
       "      <td>0.666667</td>\n",
       "      <td>0.150</td>\n",
       "      <td>0.277778</td>\n",
       "      <td>0.000000</td>\n",
       "      <td>0.235294</td>\n",
       "      <td>0.0</td>\n",
       "    </tr>\n",
       "    <tr>\n",
       "      <th>1196</th>\n",
       "      <td>0.452381</td>\n",
       "      <td>1.0</td>\n",
       "      <td>0.2</td>\n",
       "      <td>1.0</td>\n",
       "      <td>0.2</td>\n",
       "      <td>0.833333</td>\n",
       "      <td>1.0</td>\n",
       "      <td>0.321429</td>\n",
       "      <td>0.25</td>\n",
       "      <td>1.000000</td>\n",
       "      <td>...</td>\n",
       "      <td>0.428571</td>\n",
       "      <td>0.000000</td>\n",
       "      <td>0.100</td>\n",
       "      <td>0.333333</td>\n",
       "      <td>0.666667</td>\n",
       "      <td>0.025</td>\n",
       "      <td>0.000000</td>\n",
       "      <td>0.000000</td>\n",
       "      <td>0.000000</td>\n",
       "      <td>0.0</td>\n",
       "    </tr>\n",
       "    <tr>\n",
       "      <th>1197</th>\n",
       "      <td>0.761905</td>\n",
       "      <td>1.0</td>\n",
       "      <td>0.6</td>\n",
       "      <td>0.5</td>\n",
       "      <td>0.2</td>\n",
       "      <td>0.833333</td>\n",
       "      <td>1.0</td>\n",
       "      <td>0.964286</td>\n",
       "      <td>0.00</td>\n",
       "      <td>1.000000</td>\n",
       "      <td>...</td>\n",
       "      <td>0.000000</td>\n",
       "      <td>0.666667</td>\n",
       "      <td>0.500</td>\n",
       "      <td>0.500000</td>\n",
       "      <td>0.666667</td>\n",
       "      <td>0.500</td>\n",
       "      <td>0.444444</td>\n",
       "      <td>0.654654</td>\n",
       "      <td>0.470588</td>\n",
       "      <td>0.0</td>\n",
       "    </tr>\n",
       "    <tr>\n",
       "      <th>1198</th>\n",
       "      <td>0.380952</td>\n",
       "      <td>0.0</td>\n",
       "      <td>0.6</td>\n",
       "      <td>1.0</td>\n",
       "      <td>0.0</td>\n",
       "      <td>0.055556</td>\n",
       "      <td>1.0</td>\n",
       "      <td>0.285714</td>\n",
       "      <td>0.50</td>\n",
       "      <td>1.000000</td>\n",
       "      <td>...</td>\n",
       "      <td>0.214286</td>\n",
       "      <td>0.333333</td>\n",
       "      <td>0.225</td>\n",
       "      <td>0.500000</td>\n",
       "      <td>1.000000</td>\n",
       "      <td>0.200</td>\n",
       "      <td>0.388889</td>\n",
       "      <td>1.000000</td>\n",
       "      <td>0.411765</td>\n",
       "      <td>0.0</td>\n",
       "    </tr>\n",
       "    <tr>\n",
       "      <th>1199</th>\n",
       "      <td>0.142857</td>\n",
       "      <td>0.0</td>\n",
       "      <td>0.2</td>\n",
       "      <td>1.0</td>\n",
       "      <td>1.0</td>\n",
       "      <td>0.722222</td>\n",
       "      <td>1.0</td>\n",
       "      <td>0.071429</td>\n",
       "      <td>0.25</td>\n",
       "      <td>0.000000</td>\n",
       "      <td>...</td>\n",
       "      <td>0.214286</td>\n",
       "      <td>0.000000</td>\n",
       "      <td>0.100</td>\n",
       "      <td>0.500000</td>\n",
       "      <td>0.666667</td>\n",
       "      <td>0.050</td>\n",
       "      <td>0.111111</td>\n",
       "      <td>0.534522</td>\n",
       "      <td>0.000000</td>\n",
       "      <td>1.0</td>\n",
       "    </tr>\n",
       "  </tbody>\n",
       "</table>\n",
       "<p>1200 rows × 26 columns</p>\n",
       "</div>"
      ],
      "text/plain": [
       "           Age  Gender  EducationBackground  MaritalStatus  EmpDepartment  \\\n",
       "0     0.333333     1.0                  0.4            1.0            1.0   \n",
       "1     0.690476     1.0                  0.4            1.0            1.0   \n",
       "2     0.523810     1.0                  0.2            0.5            1.0   \n",
       "3     0.547619     1.0                  0.0            0.0            0.6   \n",
       "4     1.000000     1.0                  0.4            1.0            1.0   \n",
       "...        ...     ...                  ...            ...            ...   \n",
       "1195  0.214286     0.0                  0.6            0.0            1.0   \n",
       "1196  0.452381     1.0                  0.2            1.0            0.2   \n",
       "1197  0.761905     1.0                  0.6            0.5            0.2   \n",
       "1198  0.380952     0.0                  0.6            1.0            0.0   \n",
       "1199  0.142857     0.0                  0.2            1.0            1.0   \n",
       "\n",
       "      EmpJobRole  BusinessTravelFrequency  DistanceFromHome  \\\n",
       "0       0.722222                      1.0          0.321429   \n",
       "1       0.722222                      1.0          0.464286   \n",
       "2       0.722222                      0.5          0.142857   \n",
       "3       0.444444                      1.0          0.321429   \n",
       "4       0.722222                      1.0          0.535714   \n",
       "...          ...                      ...               ...   \n",
       "1195    0.722222                      0.5          0.071429   \n",
       "1196    0.833333                      1.0          0.321429   \n",
       "1197    0.833333                      1.0          0.964286   \n",
       "1198    0.055556                      1.0          0.285714   \n",
       "1199    0.722222                      1.0          0.071429   \n",
       "\n",
       "      EmpEducationLevel  EmpEnvironmentSatisfaction  ...  \\\n",
       "0                  0.50                    1.000000  ...   \n",
       "1                  0.75                    1.000000  ...   \n",
       "2                  0.75                    1.000000  ...   \n",
       "3                  0.75                    0.333333  ...   \n",
       "4                  0.75                    0.000000  ...   \n",
       "...                 ...                         ...  ...   \n",
       "1195               0.00                    1.000000  ...   \n",
       "1196               0.25                    1.000000  ...   \n",
       "1197               0.00                    1.000000  ...   \n",
       "1198               0.50                    1.000000  ...   \n",
       "1199               0.25                    0.000000  ...   \n",
       "\n",
       "      EmpLastSalaryHikePercent  EmpRelationshipSatisfaction  \\\n",
       "0                     0.071429                     1.000000   \n",
       "1                     0.071429                     1.000000   \n",
       "2                     0.714286                     0.666667   \n",
       "3                     0.285714                     0.333333   \n",
       "4                     0.214286                     1.000000   \n",
       "...                        ...                          ...   \n",
       "1195                  0.642857                     0.333333   \n",
       "1196                  0.428571                     0.000000   \n",
       "1197                  0.000000                     0.666667   \n",
       "1198                  0.214286                     0.333333   \n",
       "1199                  0.214286                     0.000000   \n",
       "\n",
       "      TotalWorkExperienceInYears  TrainingTimesLastYear  EmpWorkLifeBalance  \\\n",
       "0                          0.250               0.333333            0.333333   \n",
       "1                          0.500               0.333333            0.666667   \n",
       "2                          0.500               0.333333            0.666667   \n",
       "3                          0.575               0.333333            0.333333   \n",
       "4                          0.250               0.166667            0.666667   \n",
       "...                          ...                    ...                 ...   \n",
       "1195                       0.150               0.500000            0.666667   \n",
       "1196                       0.100               0.333333            0.666667   \n",
       "1197                       0.500               0.500000            0.666667   \n",
       "1198                       0.225               0.500000            1.000000   \n",
       "1199                       0.100               0.500000            0.666667   \n",
       "\n",
       "      ExperienceYearsAtThisCompany  ExperienceYearsInCurrentRole  \\\n",
       "0                            0.250                      0.388889   \n",
       "1                            0.175                      0.388889   \n",
       "2                            0.450                      0.722222   \n",
       "3                            0.525                      0.333333   \n",
       "4                            0.050                      0.111111   \n",
       "...                            ...                           ...   \n",
       "1195                         0.150                      0.277778   \n",
       "1196                         0.025                      0.000000   \n",
       "1197                         0.500                      0.444444   \n",
       "1198                         0.200                      0.388889   \n",
       "1199                         0.050                      0.111111   \n",
       "\n",
       "      YearsSinceLastPromotion_square  YearsWithCurrManager  Attrition  \n",
       "0                           0.000000              0.470588        0.0  \n",
       "1                           0.377964              0.411765        0.0  \n",
       "2                           0.377964              0.705882        0.0  \n",
       "3                           0.377964              0.352941        0.0  \n",
       "4                           0.534522              0.117647        0.0  \n",
       "...                              ...                   ...        ...  \n",
       "1195                        0.000000              0.235294        0.0  \n",
       "1196                        0.000000              0.000000        0.0  \n",
       "1197                        0.654654              0.470588        0.0  \n",
       "1198                        1.000000              0.411765        0.0  \n",
       "1199                        0.534522              0.000000        1.0  \n",
       "\n",
       "[1200 rows x 26 columns]"
      ]
     },
     "execution_count": 10,
     "metadata": {},
     "output_type": "execute_result"
    }
   ],
   "source": [
    "X"
   ]
  },
  {
   "cell_type": "code",
   "execution_count": 11,
   "id": "d4dc1601",
   "metadata": {},
   "outputs": [
    {
     "data": {
      "text/plain": [
       "0       1.0\n",
       "1       1.0\n",
       "2       1.0\n",
       "3       1.0\n",
       "4       1.0\n",
       "       ... \n",
       "1195    1.0\n",
       "1196    1.0\n",
       "1197    1.0\n",
       "1198    1.0\n",
       "1199    0.0\n",
       "Name: PerformanceRating, Length: 1200, dtype: float64"
      ]
     },
     "execution_count": 11,
     "metadata": {},
     "output_type": "execute_result"
    }
   ],
   "source": [
    "y"
   ]
  },
  {
   "cell_type": "markdown",
   "id": "68e7c87f",
   "metadata": {},
   "source": [
    "# Splitting the dataset into train_test_split:-"
   ]
  },
  {
   "cell_type": "code",
   "execution_count": 12,
   "id": "fefd4501",
   "metadata": {},
   "outputs": [],
   "source": [
    "from sklearn.model_selection import train_test_split\n",
    "X_train,X_test,y_train,y_test=train_test_split(X, y,random_state=42,test_size=0.25)"
   ]
  },
  {
   "cell_type": "markdown",
   "id": "ad259a6f",
   "metadata": {},
   "source": [
    "# Data Balancing"
   ]
  },
  {
   "cell_type": "markdown",
   "id": "ad8fd2f1",
   "metadata": {},
   "source": [
    "### SMOTE:- \n",
    "- SMOTE stands for Synthetic Minority Oversampling Technique.\n",
    "- It is a statistical technique for increasing the number of cases in the dataset in a balanced way. The component works by generating new instances from existing minority cases that you supply as input.\n",
    "- SMOTE works by utilizing a k-nearest neighbour algorithm to create synthetic data.\n",
    "- SMOTE first starts by choosing random data from the minority class, then k-nearest neighbors from the data are set.\n",
    "- It is done when the dataset is imbalance in case of Classification task."
   ]
  },
  {
   "cell_type": "code",
   "execution_count": 13,
   "id": "d60f39e7",
   "metadata": {},
   "outputs": [
    {
     "name": "stdout",
     "output_type": "stream",
     "text": [
      "Requirement already satisfied: imblearn in /Users/swetarai/miniconda3/lib/python3.10/site-packages (0.0)\r\n",
      "Requirement already satisfied: imbalanced-learn in /Users/swetarai/miniconda3/lib/python3.10/site-packages (from imblearn) (0.10.1)\r\n",
      "Requirement already satisfied: joblib>=1.1.1 in /Users/swetarai/miniconda3/lib/python3.10/site-packages (from imbalanced-learn->imblearn) (1.2.0)\r\n",
      "Requirement already satisfied: numpy>=1.17.3 in /Users/swetarai/miniconda3/lib/python3.10/site-packages (from imbalanced-learn->imblearn) (1.24.2)\r\n",
      "Requirement already satisfied: threadpoolctl>=2.0.0 in /Users/swetarai/miniconda3/lib/python3.10/site-packages (from imbalanced-learn->imblearn) (3.1.0)\r\n",
      "Requirement already satisfied: scipy>=1.3.2 in /Users/swetarai/miniconda3/lib/python3.10/site-packages (from imbalanced-learn->imblearn) (1.10.1)\r\n",
      "Requirement already satisfied: scikit-learn>=1.0.2 in /Users/swetarai/miniconda3/lib/python3.10/site-packages (from imbalanced-learn->imblearn) (1.2.2)\r\n"
     ]
    }
   ],
   "source": [
    "#installing source\n",
    "! pip install imblearn"
   ]
  },
  {
   "cell_type": "code",
   "execution_count": 14,
   "id": "87c49034",
   "metadata": {},
   "outputs": [
    {
     "data": {
      "text/plain": [
       "<AxesSubplot:title={'center':'Class distribution before appying SMOTE'}, xlabel='Outcome'>"
      ]
     },
     "execution_count": 14,
     "metadata": {},
     "output_type": "execute_result"
    },
    {
     "data": {
      "image/png": "[encoded data removed]",
      "text/plain": [
       "<Figure size 432x288 with 1 Axes>"
      ]
     },
     "metadata": {
      "needs_background": "light"
     },
     "output_type": "display_data"
    }
   ],
   "source": [
    "#Checking distribution before applying smote\n",
    "pd.Series(y_train).value_counts().plot(kind='bar',color='red',title='Class distribution before appying SMOTE', xlabel='Outcome')"
   ]
  },
  {
   "cell_type": "code",
   "execution_count": 15,
   "id": "dd308ab4",
   "metadata": {},
   "outputs": [],
   "source": [
    "from imblearn.over_sampling import SMOTE\n",
    "smote = SMOTE()"
   ]
  },
  {
   "cell_type": "code",
   "execution_count": 16,
   "id": "3f921399",
   "metadata": {},
   "outputs": [],
   "source": [
    "X_smote, y_smote = smote.fit_resample(X_train,y_train)"
   ]
  },
  {
   "cell_type": "code",
   "execution_count": 17,
   "id": "33458a5d",
   "metadata": {},
   "outputs": [
    {
     "data": {
      "text/plain": [
       "<AxesSubplot:title={'center':'Class distribution after appying SMOTE'}, xlabel='Outcome'>"
      ]
     },
     "execution_count": 17,
     "metadata": {},
     "output_type": "execute_result"
    },
    {
     "data": {
      "image/png": "[encoded data removed]",
      "text/plain": [
       "<Figure size 432x288 with 1 Axes>"
      ]
     },
     "metadata": {
      "needs_background": "light"
     },
     "output_type": "display_data"
    }
   ],
   "source": [
    "pd.Series(y_smote).value_counts().plot(kind='bar',color='red',title='Class distribution after appying SMOTE', xlabel='Outcome')"
   ]
  },
  {
   "cell_type": "markdown",
   "id": "9864c895",
   "metadata": {},
   "source": [
    "# Model Creation"
   ]
  },
  {
   "cell_type": "markdown",
   "id": "5b6cd84b",
   "metadata": {},
   "source": [
    "### Logistic Regression"
   ]
  },
  {
   "cell_type": "code",
   "execution_count": 18,
   "id": "207daff4",
   "metadata": {},
   "outputs": [],
   "source": [
    "from sklearn.linear_model import LogisticRegression\n",
    "clf=LogisticRegression()"
   ]
  },
  {
   "cell_type": "code",
   "execution_count": 19,
   "id": "b751b8ae",
   "metadata": {},
   "outputs": [
    {
     "data": {
      "text/html": [
       "<style>#sk-container-id-1 {color: black;background-color: white;}#sk-container-id-1 pre{padding: 0;}#sk-container-id-1 div.sk-toggleable {background-color: white;}#sk-container-id-1 label.sk-toggleable__label {cursor: pointer;display: block;width: 100%;margin-bottom: 0;padding: 0.3em;box-sizing: border-box;text-align: center;}#sk-container-id-1 label.sk-toggleable__label-arrow:before {content: \"▸\";float: left;margin-right: 0.25em;color: #696969;}#sk-container-id-1 label.sk-toggleable__label-arrow:hover:before {color: black;}#sk-container-id-1 div.sk-estimator:hover label.sk-toggleable__label-arrow:before {color: black;}#sk-container-id-1 div.sk-toggleable__content {max-height: 0;max-width: 0;overflow: hidden;text-align: left;background-color: #f0f8ff;}#sk-container-id-1 div.sk-toggleable__content pre {margin: 0.2em;color: black;border-radius: 0.25em;background-color: #f0f8ff;}#sk-container-id-1 input.sk-toggleable__control:checked~div.sk-toggleable__content {max-height: 200px;max-width: 100%;overflow: auto;}#sk-container-id-1 input.sk-toggleable__control:checked~label.sk-toggleable__label-arrow:before {content: \"▾\";}#sk-container-id-1 div.sk-estimator input.sk-toggleable__control:checked~label.sk-toggleable__label {background-color: #d4ebff;}#sk-container-id-1 div.sk-label input.sk-toggleable__control:checked~label.sk-toggleable__label {background-color: #d4ebff;}#sk-container-id-1 input.sk-hidden--visually {border: 0;clip: rect(1px 1px 1px 1px);clip: rect(1px, 1px, 1px, 1px);height: 1px;margin: -1px;overflow: hidden;padding: 0;position: absolute;width: 1px;}#sk-container-id-1 div.sk-estimator {font-family: monospace;background-color: #f0f8ff;border: 1px dotted black;border-radius: 0.25em;box-sizing: border-box;margin-bottom: 0.5em;}#sk-container-id-1 div.sk-estimator:hover {background-color: #d4ebff;}#sk-container-id-1 div.sk-parallel-item::after {content: \"\";width: 100%;border-bottom: 1px solid gray;flex-grow: 1;}#sk-container-id-1 div.sk-label:hover label.sk-toggleable__label {background-color: #d4ebff;}#sk-container-id-1 div.sk-serial::before {content: \"\";position: absolute;border-left: 1px solid gray;box-sizing: border-box;top: 0;bottom: 0;left: 50%;z-index: 0;}#sk-container-id-1 div.sk-serial {display: flex;flex-direction: column;align-items: center;background-color: white;padding-right: 0.2em;padding-left: 0.2em;position: relative;}#sk-container-id-1 div.sk-item {position: relative;z-index: 1;}#sk-container-id-1 div.sk-parallel {display: flex;align-items: stretch;justify-content: center;background-color: white;position: relative;}#sk-container-id-1 div.sk-item::before, #sk-container-id-1 div.sk-parallel-item::before {content: \"\";position: absolute;border-left: 1px solid gray;box-sizing: border-box;top: 0;bottom: 0;left: 50%;z-index: -1;}#sk-container-id-1 div.sk-parallel-item {display: flex;flex-direction: column;z-index: 1;position: relative;background-color: white;}#sk-container-id-1 div.sk-parallel-item:first-child::after {align-self: flex-end;width: 50%;}#sk-container-id-1 div.sk-parallel-item:last-child::after {align-self: flex-start;width: 50%;}#sk-container-id-1 div.sk-parallel-item:only-child::after {width: 0;}#sk-container-id-1 div.sk-dashed-wrapped {border: 1px dashed gray;margin: 0 0.4em 0.5em 0.4em;box-sizing: border-box;padding-bottom: 0.4em;background-color: white;}#sk-container-id-1 div.sk-label label {font-family: monospace;font-weight: bold;display: inline-block;line-height: 1.2em;}#sk-container-id-1 div.sk-label-container {text-align: center;}#sk-container-id-1 div.sk-container {/* jupyter's `normalize.less` sets `[hidden] { display: none; }` but bootstrap.min.css set `[hidden] { display: none !important; }` so we also need the `!important` here to be able to override the default hidden behavior on the sphinx rendered scikit-learn.org. See: https://github.com/scikit-learn/scikit-learn/issues/21755 */display: inline-block !important;position: relative;}#sk-container-id-1 div.sk-text-repr-fallback {display: none;}</style><div id=\"sk-container-id-1\" class=\"sk-top-container\"><div class=\"sk-text-repr-fallback\"><pre>LogisticRegression()</pre><b>In a Jupyter environment, please rerun this cell to show the HTML representation or trust the notebook. <br />On GitHub, the HTML representation is unable to render, please try loading this page with nbviewer.org.</b></div><div class=\"sk-container\" hidden><div class=\"sk-item\"><div class=\"sk-estimator sk-toggleable\"><input class=\"sk-toggleable__control sk-hidden--visually\" id=\"sk-estimator-id-1\" type=\"checkbox\" checked><label for=\"sk-estimator-id-1\" class=\"sk-toggleable__label sk-toggleable__label-arrow\">LogisticRegression</label><div class=\"sk-toggleable__content\"><pre>LogisticRegression()</pre></div></div></div></div></div>"
      ],
      "text/plain": [
       "LogisticRegression()"
      ]
     },
     "execution_count": 19,
     "metadata": {},
     "output_type": "execute_result"
    }
   ],
   "source": [
    "clf.fit(X_smote,y_smote) "
   ]
  },
  {
   "cell_type": "code",
   "execution_count": 20,
   "id": "24547fc2",
   "metadata": {},
   "outputs": [],
   "source": [
    "y_pred = clf.predict(X_test) #test\n",
    "y_pred_train = clf.predict(X_smote) #training"
   ]
  },
  {
   "cell_type": "code",
   "execution_count": 21,
   "id": "155b2246",
   "metadata": {},
   "outputs": [
    {
     "name": "stdout",
     "output_type": "stream",
     "text": [
      "0.9090909090909091\n",
      "0.9035392088827204\n"
     ]
    }
   ],
   "source": [
    "print(f1_score(y_test,y_pred)) #testing\n",
    "print(f1_score(y_smote,y_pred_train)) #training"
   ]
  },
  {
   "cell_type": "code",
   "execution_count": 22,
   "id": "073f1954",
   "metadata": {},
   "outputs": [
    {
     "name": "stdout",
     "output_type": "stream",
     "text": [
      "0.85\n",
      "0.9064602960969045\n"
     ]
    }
   ],
   "source": [
    "print(accuracy_score(y_test,y_pred)) #testing\n",
    "print(accuracy_score(y_smote,y_pred_train)) #training"
   ]
  },
  {
   "cell_type": "code",
   "execution_count": 23,
   "id": "b8791c15",
   "metadata": {},
   "outputs": [
    {
     "name": "stdout",
     "output_type": "stream",
     "text": [
      "0.9698275862068966\n",
      "0.9326647564469914\n"
     ]
    }
   ],
   "source": [
    "print(precision_score(y_test,y_pred)) #testing\n",
    "print(precision_score(y_smote,y_pred_train)) #training"
   ]
  },
  {
   "cell_type": "code",
   "execution_count": 24,
   "id": "f030e402",
   "metadata": {},
   "outputs": [
    {
     "name": "stdout",
     "output_type": "stream",
     "text": [
      "0.8555133079847909\n",
      "0.8761776581426649\n"
     ]
    }
   ],
   "source": [
    "print(recall_score(y_test,y_pred)) #testing\n",
    "print(recall_score(y_smote,y_pred_train)) #training"
   ]
  },
  {
   "cell_type": "code",
   "execution_count": 133,
   "id": "c7970fda",
   "metadata": {},
   "outputs": [],
   "source": [
    "#Creating objects of Preetytable\n",
    "x=PrettyTable()\n",
    "y=PrettyTable()"
   ]
  },
  {
   "cell_type": "code",
   "execution_count": 134,
   "id": "e74fe948",
   "metadata": {},
   "outputs": [],
   "source": [
    "x.field_names = [\"Model(Test)\", \"f1_score\",\"accuracy\",\"precision\",\"recall\"]\n",
    "x.add_row([\"Logistic Regression\", \"0.90\",'0.85','0.96','0.85'])"
   ]
  },
  {
   "cell_type": "code",
   "execution_count": 135,
   "id": "46ea298c",
   "metadata": {},
   "outputs": [],
   "source": [
    "y.field_names = [\"Model(Train)\", \"f1_score\",\"accuracy\",\"precision\",\"recall\"]\n",
    "y.add_row([\"Logistic Regression\", \"0.90\",'0.90','0.93','0.87'])"
   ]
  },
  {
   "cell_type": "code",
   "execution_count": 136,
   "id": "2e2a35c4",
   "metadata": {},
   "outputs": [
    {
     "name": "stdout",
     "output_type": "stream",
     "text": [
      "+---------------------+----------+----------+-----------+--------+\n",
      "|     Model(Test)     | f1_score | accuracy | precision | recall |\n",
      "+---------------------+----------+----------+-----------+--------+\n",
      "| Logistic Regression |   0.90   |   0.85   |    0.96   |  0.85  |\n",
      "+---------------------+----------+----------+-----------+--------+\n",
      "+---------------------+----------+----------+-----------+--------+\n",
      "|     Model(Train)    | f1_score | accuracy | precision | recall |\n",
      "+---------------------+----------+----------+-----------+--------+\n",
      "| Logistic Regression |   0.90   |   0.90   |    0.93   |  0.87  |\n",
      "+---------------------+----------+----------+-----------+--------+\n"
     ]
    }
   ],
   "source": [
    "print(x)\n",
    "print(y)"
   ]
  },
  {
   "cell_type": "markdown",
   "id": "c28b3662",
   "metadata": {},
   "source": [
    "### Observations-\n",
    "\n",
    "- The f1-score for test data is 0.90 and for train data is 0.90.\n",
    "- The accuracy score for test data is 0.85 and for train data is 0.90.\n",
    "- The precision score for test data is 0.96 and for train data is 0.93.\n",
    "- The recall score for test data is 0.85 and for train data is 0.87\n",
    "- The model has low bias and low variance so it can be considered as a generalised model."
   ]
  },
  {
   "cell_type": "markdown",
   "id": "c860ae45",
   "metadata": {},
   "source": [
    "# Support Vector Machine - Classifier"
   ]
  },
  {
   "cell_type": "code",
   "execution_count": 29,
   "id": "f0ffbc67",
   "metadata": {},
   "outputs": [],
   "source": [
    "from sklearn.svm import SVC\n",
    "svclassifier = SVC()"
   ]
  },
  {
   "cell_type": "code",
   "execution_count": 30,
   "id": "dff3b1cb",
   "metadata": {},
   "outputs": [
    {
     "data": {
      "text/html": [
       "<style>#sk-container-id-2 {color: black;background-color: white;}#sk-container-id-2 pre{padding: 0;}#sk-container-id-2 div.sk-toggleable {background-color: white;}#sk-container-id-2 label.sk-toggleable__label {cursor: pointer;display: block;width: 100%;margin-bottom: 0;padding: 0.3em;box-sizing: border-box;text-align: center;}#sk-container-id-2 label.sk-toggleable__label-arrow:before {content: \"▸\";float: left;margin-right: 0.25em;color: #696969;}#sk-container-id-2 label.sk-toggleable__label-arrow:hover:before {color: black;}#sk-container-id-2 div.sk-estimator:hover label.sk-toggleable__label-arrow:before {color: black;}#sk-container-id-2 div.sk-toggleable__content {max-height: 0;max-width: 0;overflow: hidden;text-align: left;background-color: #f0f8ff;}#sk-container-id-2 div.sk-toggleable__content pre {margin: 0.2em;color: black;border-radius: 0.25em;background-color: #f0f8ff;}#sk-container-id-2 input.sk-toggleable__control:checked~div.sk-toggleable__content {max-height: 200px;max-width: 100%;overflow: auto;}#sk-container-id-2 input.sk-toggleable__control:checked~label.sk-toggleable__label-arrow:before {content: \"▾\";}#sk-container-id-2 div.sk-estimator input.sk-toggleable__control:checked~label.sk-toggleable__label {background-color: #d4ebff;}#sk-container-id-2 div.sk-label input.sk-toggleable__control:checked~label.sk-toggleable__label {background-color: #d4ebff;}#sk-container-id-2 input.sk-hidden--visually {border: 0;clip: rect(1px 1px 1px 1px);clip: rect(1px, 1px, 1px, 1px);height: 1px;margin: -1px;overflow: hidden;padding: 0;position: absolute;width: 1px;}#sk-container-id-2 div.sk-estimator {font-family: monospace;background-color: #f0f8ff;border: 1px dotted black;border-radius: 0.25em;box-sizing: border-box;margin-bottom: 0.5em;}#sk-container-id-2 div.sk-estimator:hover {background-color: #d4ebff;}#sk-container-id-2 div.sk-parallel-item::after {content: \"\";width: 100%;border-bottom: 1px solid gray;flex-grow: 1;}#sk-container-id-2 div.sk-label:hover label.sk-toggleable__label {background-color: #d4ebff;}#sk-container-id-2 div.sk-serial::before {content: \"\";position: absolute;border-left: 1px solid gray;box-sizing: border-box;top: 0;bottom: 0;left: 50%;z-index: 0;}#sk-container-id-2 div.sk-serial {display: flex;flex-direction: column;align-items: center;background-color: white;padding-right: 0.2em;padding-left: 0.2em;position: relative;}#sk-container-id-2 div.sk-item {position: relative;z-index: 1;}#sk-container-id-2 div.sk-parallel {display: flex;align-items: stretch;justify-content: center;background-color: white;position: relative;}#sk-container-id-2 div.sk-item::before, #sk-container-id-2 div.sk-parallel-item::before {content: \"\";position: absolute;border-left: 1px solid gray;box-sizing: border-box;top: 0;bottom: 0;left: 50%;z-index: -1;}#sk-container-id-2 div.sk-parallel-item {display: flex;flex-direction: column;z-index: 1;position: relative;background-color: white;}#sk-container-id-2 div.sk-parallel-item:first-child::after {align-self: flex-end;width: 50%;}#sk-container-id-2 div.sk-parallel-item:last-child::after {align-self: flex-start;width: 50%;}#sk-container-id-2 div.sk-parallel-item:only-child::after {width: 0;}#sk-container-id-2 div.sk-dashed-wrapped {border: 1px dashed gray;margin: 0 0.4em 0.5em 0.4em;box-sizing: border-box;padding-bottom: 0.4em;background-color: white;}#sk-container-id-2 div.sk-label label {font-family: monospace;font-weight: bold;display: inline-block;line-height: 1.2em;}#sk-container-id-2 div.sk-label-container {text-align: center;}#sk-container-id-2 div.sk-container {/* jupyter's `normalize.less` sets `[hidden] { display: none; }` but bootstrap.min.css set `[hidden] { display: none !important; }` so we also need the `!important` here to be able to override the default hidden behavior on the sphinx rendered scikit-learn.org. See: https://github.com/scikit-learn/scikit-learn/issues/21755 */display: inline-block !important;position: relative;}#sk-container-id-2 div.sk-text-repr-fallback {display: none;}</style><div id=\"sk-container-id-2\" class=\"sk-top-container\"><div class=\"sk-text-repr-fallback\"><pre>SVC()</pre><b>In a Jupyter environment, please rerun this cell to show the HTML representation or trust the notebook. <br />On GitHub, the HTML representation is unable to render, please try loading this page with nbviewer.org.</b></div><div class=\"sk-container\" hidden><div class=\"sk-item\"><div class=\"sk-estimator sk-toggleable\"><input class=\"sk-toggleable__control sk-hidden--visually\" id=\"sk-estimator-id-2\" type=\"checkbox\" checked><label for=\"sk-estimator-id-2\" class=\"sk-toggleable__label sk-toggleable__label-arrow\">SVC</label><div class=\"sk-toggleable__content\"><pre>SVC()</pre></div></div></div></div></div>"
      ],
      "text/plain": [
       "SVC()"
      ]
     },
     "execution_count": 30,
     "metadata": {},
     "output_type": "execute_result"
    }
   ],
   "source": [
    "svclassifier.fit(X_smote, y_smote) # Training the model"
   ]
  },
  {
   "cell_type": "code",
   "execution_count": 31,
   "id": "40d9489a",
   "metadata": {},
   "outputs": [],
   "source": [
    "X_pred1 = svclassifier.predict(X_test) #Prediction for test data\n",
    "X_pred_train1= svclassifier.predict(X_smote) #prediction for training data"
   ]
  },
  {
   "cell_type": "code",
   "execution_count": 32,
   "id": "8b453c58",
   "metadata": {},
   "outputs": [
    {
     "name": "stdout",
     "output_type": "stream",
     "text": [
      "0.9580152671755725\n",
      "0.9795081967213115\n"
     ]
    }
   ],
   "source": [
    "print(f1_score(y_test,X_pred1))\n",
    "print(f1_score(y_smote,X_pred_train1))"
   ]
  },
  {
   "cell_type": "code",
   "execution_count": 33,
   "id": "d682c4ef",
   "metadata": {},
   "outputs": [
    {
     "name": "stdout",
     "output_type": "stream",
     "text": [
      "0.9266666666666666\n",
      "0.9798115746971736\n"
     ]
    }
   ],
   "source": [
    "print(accuracy_score(y_test,X_pred1))\n",
    "print(accuracy_score(y_smote,X_pred_train1))"
   ]
  },
  {
   "cell_type": "code",
   "execution_count": 34,
   "id": "901f73ad",
   "metadata": {},
   "outputs": [
    {
     "name": "stdout",
     "output_type": "stream",
     "text": [
      "0.9616858237547893\n",
      "0.9944521497919556\n"
     ]
    }
   ],
   "source": [
    "print(precision_score(y_test,X_pred1))\n",
    "print(precision_score(y_smote,X_pred_train1))"
   ]
  },
  {
   "cell_type": "code",
   "execution_count": 35,
   "id": "59f175eb",
   "metadata": {},
   "outputs": [
    {
     "name": "stdout",
     "output_type": "stream",
     "text": [
      "0.9543726235741445\n",
      "0.9650067294751009\n"
     ]
    }
   ],
   "source": [
    "print(recall_score(y_test,X_pred1))\n",
    "print(recall_score(y_smote,X_pred_train1))"
   ]
  },
  {
   "cell_type": "code",
   "execution_count": 137,
   "id": "51e2cca8",
   "metadata": {},
   "outputs": [],
   "source": [
    "#Creating objects of Preetytable\n",
    "x=PrettyTable()\n",
    "y=PrettyTable()"
   ]
  },
  {
   "cell_type": "code",
   "execution_count": 138,
   "id": "773db20e",
   "metadata": {},
   "outputs": [],
   "source": [
    "x.field_names = [\"Model(Test)\", \"f1_score\",\"accuracy\",\"precision\",\"recall\"]\n",
    "x.add_row([\"# Support Vector Machine\", \"0.95\",'0.92','0.96','0.95'])"
   ]
  },
  {
   "cell_type": "code",
   "execution_count": 139,
   "id": "856a7319",
   "metadata": {},
   "outputs": [],
   "source": [
    "y.field_names = [\"Model(Train)\", \"f1_score\",\"accuracy\",\"precision\",\"recall\"]\n",
    "y.add_row([\"# Support Vector Machine\", \"0.97\",'0.97','0.99','0.96'])"
   ]
  },
  {
   "cell_type": "code",
   "execution_count": 140,
   "id": "2de14369",
   "metadata": {},
   "outputs": [
    {
     "name": "stdout",
     "output_type": "stream",
     "text": [
      "+--------------------------+----------+----------+-----------+--------+\n",
      "|       Model(Test)        | f1_score | accuracy | precision | recall |\n",
      "+--------------------------+----------+----------+-----------+--------+\n",
      "| # Support Vector Machine |   0.95   |   0.92   |    0.96   |  0.95  |\n",
      "+--------------------------+----------+----------+-----------+--------+\n",
      "+--------------------------+----------+----------+-----------+--------+\n",
      "|       Model(Train)       | f1_score | accuracy | precision | recall |\n",
      "+--------------------------+----------+----------+-----------+--------+\n",
      "| # Support Vector Machine |   0.97   |   0.97   |    0.99   |  0.96  |\n",
      "+--------------------------+----------+----------+-----------+--------+\n"
     ]
    }
   ],
   "source": [
    "print(x)\n",
    "print(y)"
   ]
  },
  {
   "cell_type": "markdown",
   "id": "673ade31",
   "metadata": {},
   "source": [
    "## Observations-\n",
    "\n",
    "- The f1-score for test data is 0.95 and for train data is 0.97.\n",
    "- The accuracy score for test data is 0.92 and for train data is 0.97.\n",
    "- The precision score for test data is 0.96 and for train data is 0.99.\n",
    "- The recall score for test data is 0.95 and for train data is 0.96\n",
    "- The model has low bias and low variance so it can be considered as a generalised model."
   ]
  },
  {
   "cell_type": "markdown",
   "id": "8660821b",
   "metadata": {},
   "source": [
    "# Hyperparameter tuning- Support Vector Machine( Classifier)"
   ]
  },
  {
   "cell_type": "code",
   "execution_count": 40,
   "id": "90882e17",
   "metadata": {},
   "outputs": [
    {
     "name": "stdout",
     "output_type": "stream",
     "text": [
      "[0.95102041 0.9625     0.95137421]\n",
      "Cross validation Score: 0.9549648717838086\n",
      "Std : 0.005330097645343011\n"
     ]
    }
   ],
   "source": [
    "from sklearn.model_selection import cross_val_score\n",
    "\n",
    "scores = cross_val_score(svclassifier,X_smote,y_smote,cv=3,scoring='f1') ## instead of svclassifier we can also give models like linear regression an dlogistic regression\n",
    "print(scores)\n",
    "print(\"Cross validation Score:\",scores.mean())\n",
    "print(\"Std :\",scores.std())"
   ]
  },
  {
   "cell_type": "code",
   "execution_count": 41,
   "id": "ab6160a0",
   "metadata": {
    "scrolled": false
   },
   "outputs": [
    {
     "name": "stdout",
     "output_type": "stream",
     "text": [
      "Fitting 5 folds for each of 25 candidates, totalling 125 fits\n",
      "[CV 1/5] END ....................C=0.1, gamma=1;, score=0.821 total time=   0.2s\n",
      "[CV 2/5] END ....................C=0.1, gamma=1;, score=0.906 total time=   0.2s\n",
      "[CV 3/5] END ....................C=0.1, gamma=1;, score=0.945 total time=   0.2s\n",
      "[CV 4/5] END ....................C=0.1, gamma=1;, score=0.928 total time=   0.2s\n",
      "[CV 5/5] END ....................C=0.1, gamma=1;, score=0.900 total time=   0.2s\n",
      "[CV 1/5] END ..................C=0.1, gamma=0.1;, score=0.863 total time=   0.1s\n",
      "[CV 2/5] END ..................C=0.1, gamma=0.1;, score=0.825 total time=   0.1s\n",
      "[CV 3/5] END ..................C=0.1, gamma=0.1;, score=0.871 total time=   0.2s\n",
      "[CV 4/5] END ..................C=0.1, gamma=0.1;, score=0.870 total time=   0.1s\n",
      "[CV 5/5] END ..................C=0.1, gamma=0.1;, score=0.866 total time=   0.1s\n",
      "[CV 1/5] END .................C=0.1, gamma=0.01;, score=0.833 total time=   0.2s\n",
      "[CV 2/5] END .................C=0.1, gamma=0.01;, score=0.500 total time=   0.2s\n",
      "[CV 3/5] END .................C=0.1, gamma=0.01;, score=0.571 total time=   0.2s\n",
      "[CV 4/5] END .................C=0.1, gamma=0.01;, score=0.793 total time=   0.2s\n",
      "[CV 5/5] END .................C=0.1, gamma=0.01;, score=0.815 total time=   0.2s\n",
      "[CV 1/5] END ................C=0.1, gamma=0.001;, score=0.830 total time=   0.2s\n",
      "[CV 2/5] END ................C=0.1, gamma=0.001;, score=0.000 total time=   0.2s\n",
      "[CV 3/5] END ................C=0.1, gamma=0.001;, score=0.000 total time=   0.2s\n",
      "[CV 4/5] END ................C=0.1, gamma=0.001;, score=0.665 total time=   0.2s\n",
      "[CV 5/5] END ................C=0.1, gamma=0.001;, score=0.665 total time=   0.2s\n",
      "[CV 1/5] END ...............C=0.1, gamma=0.0001;, score=0.830 total time=   0.2s\n",
      "[CV 2/5] END ...............C=0.1, gamma=0.0001;, score=0.000 total time=   0.2s\n",
      "[CV 3/5] END ...............C=0.1, gamma=0.0001;, score=0.000 total time=   0.2s\n",
      "[CV 4/5] END ...............C=0.1, gamma=0.0001;, score=0.665 total time=   0.2s\n",
      "[CV 5/5] END ...............C=0.1, gamma=0.0001;, score=0.665 total time=   0.2s\n",
      "[CV 1/5] END ......................C=1, gamma=1;, score=0.970 total time=   0.1s\n",
      "[CV 2/5] END ......................C=1, gamma=1;, score=0.965 total time=   0.1s\n",
      "[CV 3/5] END ......................C=1, gamma=1;, score=0.993 total time=   0.1s\n",
      "[CV 4/5] END ......................C=1, gamma=1;, score=0.990 total time=   0.1s\n",
      "[CV 5/5] END ......................C=1, gamma=1;, score=0.990 total time=   0.1s\n",
      "[CV 1/5] END ....................C=1, gamma=0.1;, score=0.923 total time=   0.1s\n",
      "[CV 2/5] END ....................C=1, gamma=0.1;, score=0.867 total time=   0.1s\n",
      "[CV 3/5] END ....................C=1, gamma=0.1;, score=0.929 total time=   0.1s\n",
      "[CV 4/5] END ....................C=1, gamma=0.1;, score=0.929 total time=   0.1s\n",
      "[CV 5/5] END ....................C=1, gamma=0.1;, score=0.901 total time=   0.1s\n",
      "[CV 1/5] END ...................C=1, gamma=0.01;, score=0.851 total time=   0.1s\n",
      "[CV 2/5] END ...................C=1, gamma=0.01;, score=0.834 total time=   0.1s\n",
      "[CV 3/5] END ...................C=1, gamma=0.01;, score=0.871 total time=   0.1s\n",
      "[CV 4/5] END ...................C=1, gamma=0.01;, score=0.878 total time=   0.1s\n",
      "[CV 5/5] END ...................C=1, gamma=0.01;, score=0.866 total time=   0.1s\n",
      "[CV 1/5] END ..................C=1, gamma=0.001;, score=0.830 total time=   0.2s\n",
      "[CV 2/5] END ..................C=1, gamma=0.001;, score=0.615 total time=   0.2s\n",
      "[CV 3/5] END ..................C=1, gamma=0.001;, score=0.667 total time=   0.2s\n",
      "[CV 4/5] END ..................C=1, gamma=0.001;, score=0.846 total time=   0.2s\n",
      "[CV 5/5] END ..................C=1, gamma=0.001;, score=0.834 total time=   0.2s\n",
      "[CV 1/5] END .................C=1, gamma=0.0001;, score=0.830 total time=   0.2s\n",
      "[CV 2/5] END .................C=1, gamma=0.0001;, score=0.000 total time=   0.2s\n",
      "[CV 3/5] END .................C=1, gamma=0.0001;, score=0.000 total time=   0.2s\n",
      "[CV 4/5] END .................C=1, gamma=0.0001;, score=0.665 total time=   0.2s\n",
      "[CV 5/5] END .................C=1, gamma=0.0001;, score=0.665 total time=   0.2s\n",
      "[CV 1/5] END .....................C=10, gamma=1;, score=0.970 total time=   0.1s\n",
      "[CV 2/5] END .....................C=10, gamma=1;, score=0.965 total time=   0.1s\n",
      "[CV 3/5] END .....................C=10, gamma=1;, score=0.993 total time=   0.1s\n",
      "[CV 4/5] END .....................C=10, gamma=1;, score=0.986 total time=   0.1s\n",
      "[CV 5/5] END .....................C=10, gamma=1;, score=0.990 total time=   0.1s\n",
      "[CV 1/5] END ...................C=10, gamma=0.1;, score=0.947 total time=   0.1s\n",
      "[CV 2/5] END ...................C=10, gamma=0.1;, score=0.929 total time=   0.1s\n",
      "[CV 3/5] END ...................C=10, gamma=0.1;, score=0.962 total time=   0.1s\n",
      "[CV 4/5] END ...................C=10, gamma=0.1;, score=0.972 total time=   0.1s\n",
      "[CV 5/5] END ...................C=10, gamma=0.1;, score=0.950 total time=   0.1s\n",
      "[CV 1/5] END ..................C=10, gamma=0.01;, score=0.895 total time=   0.1s\n",
      "[CV 2/5] END ..................C=10, gamma=0.01;, score=0.861 total time=   0.1s\n",
      "[CV 3/5] END ..................C=10, gamma=0.01;, score=0.909 total time=   0.1s\n",
      "[CV 4/5] END ..................C=10, gamma=0.01;, score=0.907 total time=   0.1s\n",
      "[CV 5/5] END ..................C=10, gamma=0.01;, score=0.894 total time=   0.1s\n",
      "[CV 1/5] END .................C=10, gamma=0.001;, score=0.847 total time=   0.1s\n",
      "[CV 2/5] END .................C=10, gamma=0.001;, score=0.831 total time=   0.1s\n",
      "[CV 3/5] END .................C=10, gamma=0.001;, score=0.868 total time=   0.1s\n",
      "[CV 4/5] END .................C=10, gamma=0.001;, score=0.882 total time=   0.1s\n",
      "[CV 5/5] END .................C=10, gamma=0.001;, score=0.870 total time=   0.1s\n",
      "[CV 1/5] END ................C=10, gamma=0.0001;, score=0.830 total time=   0.2s\n",
      "[CV 2/5] END ................C=10, gamma=0.0001;, score=0.627 total time=   0.2s\n",
      "[CV 3/5] END ................C=10, gamma=0.0001;, score=0.667 total time=   0.2s\n",
      "[CV 4/5] END ................C=10, gamma=0.0001;, score=0.851 total time=   0.2s\n",
      "[CV 5/5] END ................C=10, gamma=0.0001;, score=0.839 total time=   0.2s\n",
      "[CV 1/5] END ....................C=100, gamma=1;, score=0.970 total time=   0.1s\n",
      "[CV 2/5] END ....................C=100, gamma=1;, score=0.965 total time=   0.1s\n",
      "[CV 3/5] END ....................C=100, gamma=1;, score=0.993 total time=   0.1s\n",
      "[CV 4/5] END ....................C=100, gamma=1;, score=0.986 total time=   0.1s\n",
      "[CV 5/5] END ....................C=100, gamma=1;, score=0.990 total time=   0.1s\n",
      "[CV 1/5] END ..................C=100, gamma=0.1;, score=0.963 total time=   0.1s\n",
      "[CV 2/5] END ..................C=100, gamma=0.1;, score=0.940 total time=   0.1s\n",
      "[CV 3/5] END ..................C=100, gamma=0.1;, score=0.972 total time=   0.1s\n",
      "[CV 4/5] END ..................C=100, gamma=0.1;, score=0.979 total time=   0.1s\n",
      "[CV 5/5] END ..................C=100, gamma=0.1;, score=0.958 total time=   0.1s\n",
      "[CV 1/5] END .................C=100, gamma=0.01;, score=0.930 total time=   0.1s\n",
      "[CV 2/5] END .................C=100, gamma=0.01;, score=0.876 total time=   0.1s\n",
      "[CV 3/5] END .................C=100, gamma=0.01;, score=0.917 total time=   0.1s\n",
      "[CV 4/5] END .................C=100, gamma=0.01;, score=0.941 total time=   0.1s\n",
      "[CV 5/5] END .................C=100, gamma=0.01;, score=0.912 total time=   0.1s\n",
      "[CV 1/5] END ................C=100, gamma=0.001;, score=0.881 total time=   0.1s\n",
      "[CV 2/5] END ................C=100, gamma=0.001;, score=0.852 total time=   0.1s\n",
      "[CV 3/5] END ................C=100, gamma=0.001;, score=0.895 total time=   0.1s\n",
      "[CV 4/5] END ................C=100, gamma=0.001;, score=0.908 total time=   0.1s\n",
      "[CV 5/5] END ................C=100, gamma=0.001;, score=0.895 total time=   0.1s\n",
      "[CV 1/5] END ...............C=100, gamma=0.0001;, score=0.847 total time=   0.1s\n",
      "[CV 2/5] END ...............C=100, gamma=0.0001;, score=0.831 total time=   0.1s\n",
      "[CV 3/5] END ...............C=100, gamma=0.0001;, score=0.868 total time=   0.1s\n",
      "[CV 4/5] END ...............C=100, gamma=0.0001;, score=0.882 total time=   0.1s\n",
      "[CV 5/5] END ...............C=100, gamma=0.0001;, score=0.870 total time=   0.1s\n",
      "[CV 1/5] END ...................C=1000, gamma=1;, score=0.970 total time=   0.1s\n",
      "[CV 2/5] END ...................C=1000, gamma=1;, score=0.965 total time=   0.1s\n"
     ]
    },
    {
     "name": "stdout",
     "output_type": "stream",
     "text": [
      "[CV 3/5] END ...................C=1000, gamma=1;, score=0.993 total time=   0.1s\n",
      "[CV 4/5] END ...................C=1000, gamma=1;, score=0.986 total time=   0.1s\n",
      "[CV 5/5] END ...................C=1000, gamma=1;, score=0.990 total time=   0.1s\n",
      "[CV 1/5] END .................C=1000, gamma=0.1;, score=0.963 total time=   0.1s\n",
      "[CV 2/5] END .................C=1000, gamma=0.1;, score=0.940 total time=   0.1s\n",
      "[CV 3/5] END .................C=1000, gamma=0.1;, score=0.972 total time=   0.1s\n",
      "[CV 4/5] END .................C=1000, gamma=0.1;, score=0.979 total time=   0.1s\n",
      "[CV 5/5] END .................C=1000, gamma=0.1;, score=0.958 total time=   0.1s\n",
      "[CV 1/5] END ................C=1000, gamma=0.01;, score=0.954 total time=   0.1s\n",
      "[CV 2/5] END ................C=1000, gamma=0.01;, score=0.932 total time=   0.1s\n",
      "[CV 3/5] END ................C=1000, gamma=0.01;, score=0.965 total time=   0.1s\n",
      "[CV 4/5] END ................C=1000, gamma=0.01;, score=0.972 total time=   0.1s\n",
      "[CV 5/5] END ................C=1000, gamma=0.01;, score=0.951 total time=   0.1s\n",
      "[CV 1/5] END ...............C=1000, gamma=0.001;, score=0.894 total time=   0.1s\n",
      "[CV 2/5] END ...............C=1000, gamma=0.001;, score=0.847 total time=   0.1s\n",
      "[CV 3/5] END ...............C=1000, gamma=0.001;, score=0.900 total time=   0.1s\n",
      "[CV 4/5] END ...............C=1000, gamma=0.001;, score=0.915 total time=   0.1s\n",
      "[CV 5/5] END ...............C=1000, gamma=0.001;, score=0.904 total time=   0.1s\n",
      "[CV 1/5] END ..............C=1000, gamma=0.0001;, score=0.881 total time=   0.1s\n",
      "[CV 2/5] END ..............C=1000, gamma=0.0001;, score=0.852 total time=   0.1s\n",
      "[CV 3/5] END ..............C=1000, gamma=0.0001;, score=0.895 total time=   0.1s\n",
      "[CV 4/5] END ..............C=1000, gamma=0.0001;, score=0.908 total time=   0.1s\n",
      "[CV 5/5] END ..............C=1000, gamma=0.0001;, score=0.895 total time=   0.1s\n"
     ]
    },
    {
     "data": {
      "text/html": [
       "<style>#sk-container-id-3 {color: black;background-color: white;}#sk-container-id-3 pre{padding: 0;}#sk-container-id-3 div.sk-toggleable {background-color: white;}#sk-container-id-3 label.sk-toggleable__label {cursor: pointer;display: block;width: 100%;margin-bottom: 0;padding: 0.3em;box-sizing: border-box;text-align: center;}#sk-container-id-3 label.sk-toggleable__label-arrow:before {content: \"▸\";float: left;margin-right: 0.25em;color: #696969;}#sk-container-id-3 label.sk-toggleable__label-arrow:hover:before {color: black;}#sk-container-id-3 div.sk-estimator:hover label.sk-toggleable__label-arrow:before {color: black;}#sk-container-id-3 div.sk-toggleable__content {max-height: 0;max-width: 0;overflow: hidden;text-align: left;background-color: #f0f8ff;}#sk-container-id-3 div.sk-toggleable__content pre {margin: 0.2em;color: black;border-radius: 0.25em;background-color: #f0f8ff;}#sk-container-id-3 input.sk-toggleable__control:checked~div.sk-toggleable__content {max-height: 200px;max-width: 100%;overflow: auto;}#sk-container-id-3 input.sk-toggleable__control:checked~label.sk-toggleable__label-arrow:before {content: \"▾\";}#sk-container-id-3 div.sk-estimator input.sk-toggleable__control:checked~label.sk-toggleable__label {background-color: #d4ebff;}#sk-container-id-3 div.sk-label input.sk-toggleable__control:checked~label.sk-toggleable__label {background-color: #d4ebff;}#sk-container-id-3 input.sk-hidden--visually {border: 0;clip: rect(1px 1px 1px 1px);clip: rect(1px, 1px, 1px, 1px);height: 1px;margin: -1px;overflow: hidden;padding: 0;position: absolute;width: 1px;}#sk-container-id-3 div.sk-estimator {font-family: monospace;background-color: #f0f8ff;border: 1px dotted black;border-radius: 0.25em;box-sizing: border-box;margin-bottom: 0.5em;}#sk-container-id-3 div.sk-estimator:hover {background-color: #d4ebff;}#sk-container-id-3 div.sk-parallel-item::after {content: \"\";width: 100%;border-bottom: 1px solid gray;flex-grow: 1;}#sk-container-id-3 div.sk-label:hover label.sk-toggleable__label {background-color: #d4ebff;}#sk-container-id-3 div.sk-serial::before {content: \"\";position: absolute;border-left: 1px solid gray;box-sizing: border-box;top: 0;bottom: 0;left: 50%;z-index: 0;}#sk-container-id-3 div.sk-serial {display: flex;flex-direction: column;align-items: center;background-color: white;padding-right: 0.2em;padding-left: 0.2em;position: relative;}#sk-container-id-3 div.sk-item {position: relative;z-index: 1;}#sk-container-id-3 div.sk-parallel {display: flex;align-items: stretch;justify-content: center;background-color: white;position: relative;}#sk-container-id-3 div.sk-item::before, #sk-container-id-3 div.sk-parallel-item::before {content: \"\";position: absolute;border-left: 1px solid gray;box-sizing: border-box;top: 0;bottom: 0;left: 50%;z-index: -1;}#sk-container-id-3 div.sk-parallel-item {display: flex;flex-direction: column;z-index: 1;position: relative;background-color: white;}#sk-container-id-3 div.sk-parallel-item:first-child::after {align-self: flex-end;width: 50%;}#sk-container-id-3 div.sk-parallel-item:last-child::after {align-self: flex-start;width: 50%;}#sk-container-id-3 div.sk-parallel-item:only-child::after {width: 0;}#sk-container-id-3 div.sk-dashed-wrapped {border: 1px dashed gray;margin: 0 0.4em 0.5em 0.4em;box-sizing: border-box;padding-bottom: 0.4em;background-color: white;}#sk-container-id-3 div.sk-label label {font-family: monospace;font-weight: bold;display: inline-block;line-height: 1.2em;}#sk-container-id-3 div.sk-label-container {text-align: center;}#sk-container-id-3 div.sk-container {/* jupyter's `normalize.less` sets `[hidden] { display: none; }` but bootstrap.min.css set `[hidden] { display: none !important; }` so we also need the `!important` here to be able to override the default hidden behavior on the sphinx rendered scikit-learn.org. See: https://github.com/scikit-learn/scikit-learn/issues/21755 */display: inline-block !important;position: relative;}#sk-container-id-3 div.sk-text-repr-fallback {display: none;}</style><div id=\"sk-container-id-3\" class=\"sk-top-container\"><div class=\"sk-text-repr-fallback\"><pre>GridSearchCV(cv=5, estimator=SVC(random_state=42),\n",
       "             param_grid={&#x27;C&#x27;: [0.1, 1, 10, 100, 1000],\n",
       "                         &#x27;gamma&#x27;: [1, 0.1, 0.01, 0.001, 0.0001]},\n",
       "             scoring=&#x27;f1&#x27;, verbose=3)</pre><b>In a Jupyter environment, please rerun this cell to show the HTML representation or trust the notebook. <br />On GitHub, the HTML representation is unable to render, please try loading this page with nbviewer.org.</b></div><div class=\"sk-container\" hidden><div class=\"sk-item sk-dashed-wrapped\"><div class=\"sk-label-container\"><div class=\"sk-label sk-toggleable\"><input class=\"sk-toggleable__control sk-hidden--visually\" id=\"sk-estimator-id-3\" type=\"checkbox\" ><label for=\"sk-estimator-id-3\" class=\"sk-toggleable__label sk-toggleable__label-arrow\">GridSearchCV</label><div class=\"sk-toggleable__content\"><pre>GridSearchCV(cv=5, estimator=SVC(random_state=42),\n",
       "             param_grid={&#x27;C&#x27;: [0.1, 1, 10, 100, 1000],\n",
       "                         &#x27;gamma&#x27;: [1, 0.1, 0.01, 0.001, 0.0001]},\n",
       "             scoring=&#x27;f1&#x27;, verbose=3)</pre></div></div></div><div class=\"sk-parallel\"><div class=\"sk-parallel-item\"><div class=\"sk-item\"><div class=\"sk-label-container\"><div class=\"sk-label sk-toggleable\"><input class=\"sk-toggleable__control sk-hidden--visually\" id=\"sk-estimator-id-4\" type=\"checkbox\" ><label for=\"sk-estimator-id-4\" class=\"sk-toggleable__label sk-toggleable__label-arrow\">estimator: SVC</label><div class=\"sk-toggleable__content\"><pre>SVC(random_state=42)</pre></div></div></div><div class=\"sk-serial\"><div class=\"sk-item\"><div class=\"sk-estimator sk-toggleable\"><input class=\"sk-toggleable__control sk-hidden--visually\" id=\"sk-estimator-id-5\" type=\"checkbox\" ><label for=\"sk-estimator-id-5\" class=\"sk-toggleable__label sk-toggleable__label-arrow\">SVC</label><div class=\"sk-toggleable__content\"><pre>SVC(random_state=42)</pre></div></div></div></div></div></div></div></div></div></div>"
      ],
      "text/plain": [
       "GridSearchCV(cv=5, estimator=SVC(random_state=42),\n",
       "             param_grid={'C': [0.1, 1, 10, 100, 1000],\n",
       "                         'gamma': [1, 0.1, 0.01, 0.001, 0.0001]},\n",
       "             scoring='f1', verbose=3)"
      ]
     },
     "execution_count": 41,
     "metadata": {},
     "output_type": "execute_result"
    }
   ],
   "source": [
    "from sklearn.model_selection import GridSearchCV\n",
    "  \n",
    "# defining parameter range\n",
    "param_grid = {'C': [0.1, 1, 10, 100, 1000], \n",
    "              'gamma': [1, 0.1, 0.01, 0.001, 0.0001]} \n",
    "\n",
    "grid = GridSearchCV(SVC(random_state=42), param_grid, verbose =3,scoring='f1',cv=5)\n",
    "  \n",
    "# fitting the model for grid search\n",
    "grid.fit(X_smote, y_smote)"
   ]
  },
  {
   "cell_type": "code",
   "execution_count": 42,
   "id": "3f9c4952",
   "metadata": {},
   "outputs": [
    {
     "name": "stdout",
     "output_type": "stream",
     "text": [
      "{'C': 1, 'gamma': 1}\n",
      "SVC(C=1, gamma=1, random_state=42)\n"
     ]
    }
   ],
   "source": [
    "print(grid.best_params_)\n",
    "\n",
    "print(grid.best_estimator_)"
   ]
  },
  {
   "cell_type": "code",
   "execution_count": 43,
   "id": "3988705f",
   "metadata": {},
   "outputs": [],
   "source": [
    "clf2=SVC(C=1, gamma=1, random_state=42)"
   ]
  },
  {
   "cell_type": "code",
   "execution_count": 44,
   "id": "25fc209a",
   "metadata": {},
   "outputs": [
    {
     "data": {
      "text/html": [
       "<style>#sk-container-id-4 {color: black;background-color: white;}#sk-container-id-4 pre{padding: 0;}#sk-container-id-4 div.sk-toggleable {background-color: white;}#sk-container-id-4 label.sk-toggleable__label {cursor: pointer;display: block;width: 100%;margin-bottom: 0;padding: 0.3em;box-sizing: border-box;text-align: center;}#sk-container-id-4 label.sk-toggleable__label-arrow:before {content: \"▸\";float: left;margin-right: 0.25em;color: #696969;}#sk-container-id-4 label.sk-toggleable__label-arrow:hover:before {color: black;}#sk-container-id-4 div.sk-estimator:hover label.sk-toggleable__label-arrow:before {color: black;}#sk-container-id-4 div.sk-toggleable__content {max-height: 0;max-width: 0;overflow: hidden;text-align: left;background-color: #f0f8ff;}#sk-container-id-4 div.sk-toggleable__content pre {margin: 0.2em;color: black;border-radius: 0.25em;background-color: #f0f8ff;}#sk-container-id-4 input.sk-toggleable__control:checked~div.sk-toggleable__content {max-height: 200px;max-width: 100%;overflow: auto;}#sk-container-id-4 input.sk-toggleable__control:checked~label.sk-toggleable__label-arrow:before {content: \"▾\";}#sk-container-id-4 div.sk-estimator input.sk-toggleable__control:checked~label.sk-toggleable__label {background-color: #d4ebff;}#sk-container-id-4 div.sk-label input.sk-toggleable__control:checked~label.sk-toggleable__label {background-color: #d4ebff;}#sk-container-id-4 input.sk-hidden--visually {border: 0;clip: rect(1px 1px 1px 1px);clip: rect(1px, 1px, 1px, 1px);height: 1px;margin: -1px;overflow: hidden;padding: 0;position: absolute;width: 1px;}#sk-container-id-4 div.sk-estimator {font-family: monospace;background-color: #f0f8ff;border: 1px dotted black;border-radius: 0.25em;box-sizing: border-box;margin-bottom: 0.5em;}#sk-container-id-4 div.sk-estimator:hover {background-color: #d4ebff;}#sk-container-id-4 div.sk-parallel-item::after {content: \"\";width: 100%;border-bottom: 1px solid gray;flex-grow: 1;}#sk-container-id-4 div.sk-label:hover label.sk-toggleable__label {background-color: #d4ebff;}#sk-container-id-4 div.sk-serial::before {content: \"\";position: absolute;border-left: 1px solid gray;box-sizing: border-box;top: 0;bottom: 0;left: 50%;z-index: 0;}#sk-container-id-4 div.sk-serial {display: flex;flex-direction: column;align-items: center;background-color: white;padding-right: 0.2em;padding-left: 0.2em;position: relative;}#sk-container-id-4 div.sk-item {position: relative;z-index: 1;}#sk-container-id-4 div.sk-parallel {display: flex;align-items: stretch;justify-content: center;background-color: white;position: relative;}#sk-container-id-4 div.sk-item::before, #sk-container-id-4 div.sk-parallel-item::before {content: \"\";position: absolute;border-left: 1px solid gray;box-sizing: border-box;top: 0;bottom: 0;left: 50%;z-index: -1;}#sk-container-id-4 div.sk-parallel-item {display: flex;flex-direction: column;z-index: 1;position: relative;background-color: white;}#sk-container-id-4 div.sk-parallel-item:first-child::after {align-self: flex-end;width: 50%;}#sk-container-id-4 div.sk-parallel-item:last-child::after {align-self: flex-start;width: 50%;}#sk-container-id-4 div.sk-parallel-item:only-child::after {width: 0;}#sk-container-id-4 div.sk-dashed-wrapped {border: 1px dashed gray;margin: 0 0.4em 0.5em 0.4em;box-sizing: border-box;padding-bottom: 0.4em;background-color: white;}#sk-container-id-4 div.sk-label label {font-family: monospace;font-weight: bold;display: inline-block;line-height: 1.2em;}#sk-container-id-4 div.sk-label-container {text-align: center;}#sk-container-id-4 div.sk-container {/* jupyter's `normalize.less` sets `[hidden] { display: none; }` but bootstrap.min.css set `[hidden] { display: none !important; }` so we also need the `!important` here to be able to override the default hidden behavior on the sphinx rendered scikit-learn.org. See: https://github.com/scikit-learn/scikit-learn/issues/21755 */display: inline-block !important;position: relative;}#sk-container-id-4 div.sk-text-repr-fallback {display: none;}</style><div id=\"sk-container-id-4\" class=\"sk-top-container\"><div class=\"sk-text-repr-fallback\"><pre>SVC(C=1, gamma=1, random_state=42)</pre><b>In a Jupyter environment, please rerun this cell to show the HTML representation or trust the notebook. <br />On GitHub, the HTML representation is unable to render, please try loading this page with nbviewer.org.</b></div><div class=\"sk-container\" hidden><div class=\"sk-item\"><div class=\"sk-estimator sk-toggleable\"><input class=\"sk-toggleable__control sk-hidden--visually\" id=\"sk-estimator-id-6\" type=\"checkbox\" checked><label for=\"sk-estimator-id-6\" class=\"sk-toggleable__label sk-toggleable__label-arrow\">SVC</label><div class=\"sk-toggleable__content\"><pre>SVC(C=1, gamma=1, random_state=42)</pre></div></div></div></div></div>"
      ],
      "text/plain": [
       "SVC(C=1, gamma=1, random_state=42)"
      ]
     },
     "execution_count": 44,
     "metadata": {},
     "output_type": "execute_result"
    }
   ],
   "source": [
    "clf2.fit(X_smote, y_smote)"
   ]
  },
  {
   "cell_type": "code",
   "execution_count": 45,
   "id": "2f0f0fca",
   "metadata": {},
   "outputs": [],
   "source": [
    "X_pred12 = clf2.predict(X_test)#testing\n",
    "X_pred_train12 =clf2.predict(X_smote)"
   ]
  },
  {
   "cell_type": "code",
   "execution_count": 46,
   "id": "e2a00fe9",
   "metadata": {},
   "outputs": [
    {
     "name": "stdout",
     "output_type": "stream",
     "text": [
      "0.9539594843462247\n",
      "0.9986522911051213\n"
     ]
    }
   ],
   "source": [
    "print(f1_score(y_test,X_pred12))\n",
    "print(f1_score(y_smote,X_pred_train12))"
   ]
  },
  {
   "cell_type": "code",
   "execution_count": 47,
   "id": "62e3ac4b",
   "metadata": {},
   "outputs": [
    {
     "name": "stdout",
     "output_type": "stream",
     "text": [
      "0.9166666666666666\n",
      "0.9986541049798116\n"
     ]
    }
   ],
   "source": [
    "print(accuracy_score(y_test,X_pred12))\n",
    "print(accuracy_score(y_smote,X_pred_train12))"
   ]
  },
  {
   "cell_type": "code",
   "execution_count": 48,
   "id": "2348595e",
   "metadata": {},
   "outputs": [
    {
     "name": "stdout",
     "output_type": "stream",
     "text": [
      "0.925\n",
      "1.0\n"
     ]
    }
   ],
   "source": [
    "print(precision_score(y_test,X_pred12))\n",
    "print(precision_score(y_smote,X_pred_train12))"
   ]
  },
  {
   "cell_type": "code",
   "execution_count": 49,
   "id": "3f7896cc",
   "metadata": {},
   "outputs": [
    {
     "name": "stdout",
     "output_type": "stream",
     "text": [
      "0.9847908745247148\n",
      "0.9973082099596231\n"
     ]
    }
   ],
   "source": [
    "print(recall_score(y_test,X_pred12))\n",
    "print(recall_score(y_smote,X_pred_train12))"
   ]
  },
  {
   "cell_type": "code",
   "execution_count": 141,
   "id": "70e973e7",
   "metadata": {},
   "outputs": [],
   "source": [
    "#Creating objects of Preetytable\n",
    "x=PrettyTable()\n",
    "y=PrettyTable()"
   ]
  },
  {
   "cell_type": "code",
   "execution_count": 142,
   "id": "193b47d3",
   "metadata": {},
   "outputs": [],
   "source": [
    "x.field_names = [\"Model(Test)\", \"f1_score\",\"accuracy\",\"precision\",\"recall\"]\n",
    "x.add_row([\"# Support Vector Machine\", \"0.95\",'0.91','0.95','0.98'])"
   ]
  },
  {
   "cell_type": "code",
   "execution_count": 143,
   "id": "539e1c16",
   "metadata": {},
   "outputs": [],
   "source": [
    "y.field_names = [\"Model(Train)\", \"f1_score\",\"accuracy\",\"precision\",\"recall\"]\n",
    "y.add_row([\"# Support Vector Machine\", \"0.99\",'0.99','1.0','0.99'])"
   ]
  },
  {
   "cell_type": "code",
   "execution_count": 144,
   "id": "246eb5c9",
   "metadata": {},
   "outputs": [
    {
     "name": "stdout",
     "output_type": "stream",
     "text": [
      "+--------------------------+----------+----------+-----------+--------+\n",
      "|       Model(Test)        | f1_score | accuracy | precision | recall |\n",
      "+--------------------------+----------+----------+-----------+--------+\n",
      "| # Support Vector Machine |   0.95   |   0.91   |    0.95   |  0.98  |\n",
      "+--------------------------+----------+----------+-----------+--------+\n",
      "+--------------------------+----------+----------+-----------+--------+\n",
      "|       Model(Train)       | f1_score | accuracy | precision | recall |\n",
      "+--------------------------+----------+----------+-----------+--------+\n",
      "| # Support Vector Machine |   0.99   |   0.99   |    1.0    |  0.99  |\n",
      "+--------------------------+----------+----------+-----------+--------+\n"
     ]
    }
   ],
   "source": [
    "print(x)\n",
    "print(y)"
   ]
  },
  {
   "cell_type": "markdown",
   "id": "da990ae1",
   "metadata": {},
   "source": [
    "## Observations-\n",
    "- The f1-score for test data is 0.95 and for train data is 0.99.\n",
    "- The accuracy score for test data is 0.91 and for train data is 0.99.\n",
    "- The precision score for test data is 0.95 and for train data is 1.0\n",
    "- The recall score for test data is 0.98 and for train data is 0.99.\n",
    "- The model has low bias and low variance so it can't be considered as a generalised model.\n",
    "\n",
    "- In this algorithm, we can see that the scores have significantly dropped after using hyperparameter tuning so we will not consider tuning scores."
   ]
  },
  {
   "cell_type": "markdown",
   "id": "5db5c55a",
   "metadata": {},
   "source": [
    "### Scores were getting worse after performing hyper-parameter tuning."
   ]
  },
  {
   "cell_type": "markdown",
   "id": "a132b968",
   "metadata": {},
   "source": [
    "# K- Nearest Neighbour"
   ]
  },
  {
   "cell_type": "code",
   "execution_count": 54,
   "id": "1751cdb2",
   "metadata": {},
   "outputs": [],
   "source": [
    "from sklearn.neighbors import KNeighborsClassifier"
   ]
  },
  {
   "cell_type": "code",
   "execution_count": 55,
   "id": "c9207a34",
   "metadata": {},
   "outputs": [],
   "source": [
    "error_rate = []\n",
    "for i in range(1,11):\n",
    "    knn = KNeighborsClassifier(n_neighbors=i)\n",
    "    knn.fit(X_smote,y_smote)\n",
    "    pred_i = knn.predict(X_test)\n",
    "    error_rate.append(np.mean(pred_i != y_test)) "
   ]
  },
  {
   "cell_type": "code",
   "execution_count": 56,
   "id": "075befe9",
   "metadata": {},
   "outputs": [
    {
     "data": {
      "text/plain": [
       "Text(0, 0.5, 'Error Rate')"
      ]
     },
     "execution_count": 56,
     "metadata": {},
     "output_type": "execute_result"
    },
    {
     "data": {
      "image/png": "[encoded data removed]",
      "text/plain": [
       "<Figure size 720x432 with 1 Axes>"
      ]
     },
     "metadata": {
      "needs_background": "light"
     },
     "output_type": "display_data"
    }
   ],
   "source": [
    "plt.figure(figsize=(10,6))\n",
    "plt.plot(range(1,11),error_rate,color='blue', linestyle='dashed', \n",
    "         marker='o',markerfacecolor='red', markersize=10)\n",
    "plt.title('Error Rate vs. K Value')\n",
    "plt.xlabel('K')\n",
    "plt.ylabel('Error Rate')"
   ]
  },
  {
   "cell_type": "code",
   "execution_count": 57,
   "id": "826e3eb1",
   "metadata": {},
   "outputs": [
    {
     "data": {
      "text/html": [
       "<style>#sk-container-id-5 {color: black;background-color: white;}#sk-container-id-5 pre{padding: 0;}#sk-container-id-5 div.sk-toggleable {background-color: white;}#sk-container-id-5 label.sk-toggleable__label {cursor: pointer;display: block;width: 100%;margin-bottom: 0;padding: 0.3em;box-sizing: border-box;text-align: center;}#sk-container-id-5 label.sk-toggleable__label-arrow:before {content: \"▸\";float: left;margin-right: 0.25em;color: #696969;}#sk-container-id-5 label.sk-toggleable__label-arrow:hover:before {color: black;}#sk-container-id-5 div.sk-estimator:hover label.sk-toggleable__label-arrow:before {color: black;}#sk-container-id-5 div.sk-toggleable__content {max-height: 0;max-width: 0;overflow: hidden;text-align: left;background-color: #f0f8ff;}#sk-container-id-5 div.sk-toggleable__content pre {margin: 0.2em;color: black;border-radius: 0.25em;background-color: #f0f8ff;}#sk-container-id-5 input.sk-toggleable__control:checked~div.sk-toggleable__content {max-height: 200px;max-width: 100%;overflow: auto;}#sk-container-id-5 input.sk-toggleable__control:checked~label.sk-toggleable__label-arrow:before {content: \"▾\";}#sk-container-id-5 div.sk-estimator input.sk-toggleable__control:checked~label.sk-toggleable__label {background-color: #d4ebff;}#sk-container-id-5 div.sk-label input.sk-toggleable__control:checked~label.sk-toggleable__label {background-color: #d4ebff;}#sk-container-id-5 input.sk-hidden--visually {border: 0;clip: rect(1px 1px 1px 1px);clip: rect(1px, 1px, 1px, 1px);height: 1px;margin: -1px;overflow: hidden;padding: 0;position: absolute;width: 1px;}#sk-container-id-5 div.sk-estimator {font-family: monospace;background-color: #f0f8ff;border: 1px dotted black;border-radius: 0.25em;box-sizing: border-box;margin-bottom: 0.5em;}#sk-container-id-5 div.sk-estimator:hover {background-color: #d4ebff;}#sk-container-id-5 div.sk-parallel-item::after {content: \"\";width: 100%;border-bottom: 1px solid gray;flex-grow: 1;}#sk-container-id-5 div.sk-label:hover label.sk-toggleable__label {background-color: #d4ebff;}#sk-container-id-5 div.sk-serial::before {content: \"\";position: absolute;border-left: 1px solid gray;box-sizing: border-box;top: 0;bottom: 0;left: 50%;z-index: 0;}#sk-container-id-5 div.sk-serial {display: flex;flex-direction: column;align-items: center;background-color: white;padding-right: 0.2em;padding-left: 0.2em;position: relative;}#sk-container-id-5 div.sk-item {position: relative;z-index: 1;}#sk-container-id-5 div.sk-parallel {display: flex;align-items: stretch;justify-content: center;background-color: white;position: relative;}#sk-container-id-5 div.sk-item::before, #sk-container-id-5 div.sk-parallel-item::before {content: \"\";position: absolute;border-left: 1px solid gray;box-sizing: border-box;top: 0;bottom: 0;left: 50%;z-index: -1;}#sk-container-id-5 div.sk-parallel-item {display: flex;flex-direction: column;z-index: 1;position: relative;background-color: white;}#sk-container-id-5 div.sk-parallel-item:first-child::after {align-self: flex-end;width: 50%;}#sk-container-id-5 div.sk-parallel-item:last-child::after {align-self: flex-start;width: 50%;}#sk-container-id-5 div.sk-parallel-item:only-child::after {width: 0;}#sk-container-id-5 div.sk-dashed-wrapped {border: 1px dashed gray;margin: 0 0.4em 0.5em 0.4em;box-sizing: border-box;padding-bottom: 0.4em;background-color: white;}#sk-container-id-5 div.sk-label label {font-family: monospace;font-weight: bold;display: inline-block;line-height: 1.2em;}#sk-container-id-5 div.sk-label-container {text-align: center;}#sk-container-id-5 div.sk-container {/* jupyter's `normalize.less` sets `[hidden] { display: none; }` but bootstrap.min.css set `[hidden] { display: none !important; }` so we also need the `!important` here to be able to override the default hidden behavior on the sphinx rendered scikit-learn.org. See: https://github.com/scikit-learn/scikit-learn/issues/21755 */display: inline-block !important;position: relative;}#sk-container-id-5 div.sk-text-repr-fallback {display: none;}</style><div id=\"sk-container-id-5\" class=\"sk-top-container\"><div class=\"sk-text-repr-fallback\"><pre>KNeighborsClassifier(n_neighbors=9)</pre><b>In a Jupyter environment, please rerun this cell to show the HTML representation or trust the notebook. <br />On GitHub, the HTML representation is unable to render, please try loading this page with nbviewer.org.</b></div><div class=\"sk-container\" hidden><div class=\"sk-item\"><div class=\"sk-estimator sk-toggleable\"><input class=\"sk-toggleable__control sk-hidden--visually\" id=\"sk-estimator-id-7\" type=\"checkbox\" checked><label for=\"sk-estimator-id-7\" class=\"sk-toggleable__label sk-toggleable__label-arrow\">KNeighborsClassifier</label><div class=\"sk-toggleable__content\"><pre>KNeighborsClassifier(n_neighbors=9)</pre></div></div></div></div></div>"
      ],
      "text/plain": [
       "KNeighborsClassifier(n_neighbors=9)"
      ]
     },
     "execution_count": 57,
     "metadata": {},
     "output_type": "execute_result"
    }
   ],
   "source": [
    "knn = KNeighborsClassifier(n_neighbors=9)\n",
    "knn.fit(X_smote, y_smote) # Training the model"
   ]
  },
  {
   "cell_type": "code",
   "execution_count": 58,
   "id": "1b0c1c68",
   "metadata": {},
   "outputs": [],
   "source": [
    "X_pred = knn.predict(X_test) #testing\n",
    "X_pred_train = knn.predict(X_smote) #training"
   ]
  },
  {
   "cell_type": "code",
   "execution_count": 59,
   "id": "46a7467b",
   "metadata": {},
   "outputs": [
    {
     "name": "stdout",
     "output_type": "stream",
     "text": [
      "0.7724137931034482\n",
      "0.8263943440691279\n"
     ]
    }
   ],
   "source": [
    "print(f1_score(y_test,X_pred))\n",
    "print(f1_score(y_smote,X_pred_train))"
   ]
  },
  {
   "cell_type": "code",
   "execution_count": 60,
   "id": "c13c5361",
   "metadata": {},
   "outputs": [
    {
     "name": "stdout",
     "output_type": "stream",
     "text": [
      "0.67\n",
      "0.851278600269179\n"
     ]
    }
   ],
   "source": [
    "print(accuracy_score(y_test,X_pred))\n",
    "print(accuracy_score(y_smote,X_pred_train))"
   ]
  },
  {
   "cell_type": "code",
   "execution_count": 61,
   "id": "53217fb7",
   "metadata": {},
   "outputs": [
    {
     "name": "stdout",
     "output_type": "stream",
     "text": [
      "0.6387832699619772\n",
      "0.7079407806191117\n"
     ]
    }
   ],
   "source": [
    "print(recall_score(y_test,X_pred))\n",
    "print(recall_score(y_smote,X_pred_train))"
   ]
  },
  {
   "cell_type": "code",
   "execution_count": 62,
   "id": "eaf7668a",
   "metadata": {},
   "outputs": [
    {
     "name": "stdout",
     "output_type": "stream",
     "text": [
      "0.9767441860465116\n",
      "0.9924528301886792\n"
     ]
    }
   ],
   "source": [
    "print(precision_score(y_test,X_pred))\n",
    "print(precision_score(y_smote,X_pred_train))\n"
   ]
  },
  {
   "cell_type": "code",
   "execution_count": 206,
   "id": "c9635d78",
   "metadata": {},
   "outputs": [],
   "source": [
    "#Creating objects of Preetytable\n",
    "x=PrettyTable()\n",
    "y=PrettyTable()"
   ]
  },
  {
   "cell_type": "code",
   "execution_count": 207,
   "id": "fecd2439",
   "metadata": {},
   "outputs": [],
   "source": [
    "x.field_names = [\"Model(Test)\", \"f1_score\",\"accuracy\",\"precision\",\"recall\"]\n",
    "x.add_row([\"# K Nearest Neighbor\", \"0.77\",'0.67','0.63','0.97'])"
   ]
  },
  {
   "cell_type": "code",
   "execution_count": 208,
   "id": "a02813d9",
   "metadata": {},
   "outputs": [],
   "source": [
    "y.field_names = [\"Model(Train)\", \"f1_score\",\"accuracy\",\"precision\",\"recall\"]\n",
    "y.add_row([\"# K Nearest Neighbor\", \"0.82\",'0.85','0.70','0.99'])"
   ]
  },
  {
   "cell_type": "code",
   "execution_count": 210,
   "id": "f1099718",
   "metadata": {},
   "outputs": [
    {
     "name": "stdout",
     "output_type": "stream",
     "text": [
      "+----------------------+----------+----------+-----------+--------+\n",
      "|     Model(Test)      | f1_score | accuracy | precision | recall |\n",
      "+----------------------+----------+----------+-----------+--------+\n",
      "| # K Nearest Neighbor |   0.77   |   0.67   |    0.63   |  0.97  |\n",
      "+----------------------+----------+----------+-----------+--------+\n",
      "+----------------------+----------+----------+-----------+--------+\n",
      "|     Model(Train)     | f1_score | accuracy | precision | recall |\n",
      "+----------------------+----------+----------+-----------+--------+\n",
      "| # K Nearest Neighbor |   0.82   |   0.85   |    0.70   |  0.99  |\n",
      "+----------------------+----------+----------+-----------+--------+\n"
     ]
    }
   ],
   "source": [
    "print(x)\n",
    "print(y)"
   ]
  },
  {
   "cell_type": "markdown",
   "id": "6f7765e3",
   "metadata": {},
   "source": [
    "## Observations-\n",
    "\n",
    "- The f1-score for test data is 0.77 and for train data is 0.82\n",
    "- The accuracy score for test data is 0.67 and for train data is 0.85\n",
    "- The precision score for test data is 0.63 and for train data is 0.70\n",
    "- The recall score for test data is 0.97 and for train data is 0.99\n",
    "- The model has low bias and low variance so it can't be considered as a generalised model."
   ]
  },
  {
   "cell_type": "markdown",
   "id": "8bf19187",
   "metadata": {},
   "source": [
    "# Bagging( KNN)"
   ]
  },
  {
   "cell_type": "code",
   "execution_count": 67,
   "id": "f7388676",
   "metadata": {},
   "outputs": [],
   "source": [
    "from sklearn.ensemble import BaggingClassifier\n",
    "\n",
    "model_bagg=BaggingClassifier(base_estimator=knn,n_estimators=10,n_jobs=-1,random_state=42)#n_estimator is number of times model repeated \n",
    "\n",
    "model_bagg.fit(X_train,y_train)\n",
    "\n",
    "y_hat_bagg=model_bagg.predict(X_test)\n",
    "y_hat_bagg_train=model_bagg.predict(X_train)"
   ]
  },
  {
   "cell_type": "code",
   "execution_count": 68,
   "id": "27ee960a",
   "metadata": {},
   "outputs": [
    {
     "name": "stdout",
     "output_type": "stream",
     "text": [
      "0.9523809523809524\n",
      "0.9351969504447268\n"
     ]
    }
   ],
   "source": [
    "print((f1_score(y_test,y_hat_bagg)))\n",
    "print((f1_score(y_train,y_hat_bagg_train)))"
   ]
  },
  {
   "cell_type": "code",
   "execution_count": 69,
   "id": "d5b1acbc",
   "metadata": {},
   "outputs": [
    {
     "name": "stdout",
     "output_type": "stream",
     "text": [
      "0.9133333333333333\n",
      "0.8866666666666667\n"
     ]
    }
   ],
   "source": [
    "print(accuracy_score(y_test,y_hat_bagg))\n",
    "print(accuracy_score(y_train,y_hat_bagg_train))"
   ]
  },
  {
   "cell_type": "code",
   "execution_count": 70,
   "id": "638627bf",
   "metadata": {},
   "outputs": [
    {
     "name": "stdout",
     "output_type": "stream",
     "text": [
      "0.9885931558935361\n",
      "0.990578734858681\n"
     ]
    }
   ],
   "source": [
    "print(recall_score(y_test,y_hat_bagg))\n",
    "print(recall_score(y_train,y_hat_bagg_train))"
   ]
  },
  {
   "cell_type": "code",
   "execution_count": 71,
   "id": "3169f693",
   "metadata": {},
   "outputs": [
    {
     "name": "stdout",
     "output_type": "stream",
     "text": [
      "0.9187279151943463\n",
      "0.8856799037304453\n"
     ]
    }
   ],
   "source": [
    "print(precision_score(y_test,y_hat_bagg))\n",
    "print(precision_score(y_train,y_hat_bagg_train))"
   ]
  },
  {
   "cell_type": "code",
   "execution_count": 212,
   "id": "54d41016",
   "metadata": {},
   "outputs": [],
   "source": [
    "#Creating objects of Preetytable\n",
    "x=PrettyTable()\n",
    "y=PrettyTable()"
   ]
  },
  {
   "cell_type": "code",
   "execution_count": 213,
   "id": "6a8ca879",
   "metadata": {},
   "outputs": [],
   "source": [
    "x.field_names = [\"Model(Test)\", \"f1_score\",\"accuracy\",\"precision\",\"recall\"]\n",
    "x.add_row([\"# Bagging\", \"0.95\",'0.91','0.98','0.91'])"
   ]
  },
  {
   "cell_type": "code",
   "execution_count": 214,
   "id": "69dcf869",
   "metadata": {},
   "outputs": [],
   "source": [
    "y.field_names = [\"Model(Train)\", \"f1_score\",\"accuracy\",\"precision\",\"recall\"]\n",
    "y.add_row([\"# Bagging\", \"0.93\",'0.88','0.99','0.88'])"
   ]
  },
  {
   "cell_type": "code",
   "execution_count": 215,
   "id": "7b5b93b6",
   "metadata": {},
   "outputs": [
    {
     "name": "stdout",
     "output_type": "stream",
     "text": [
      "+-------------+----------+----------+-----------+--------+\n",
      "| Model(Test) | f1_score | accuracy | precision | recall |\n",
      "+-------------+----------+----------+-----------+--------+\n",
      "|  # Bagging  |   0.95   |   0.91   |    0.98   |  0.91  |\n",
      "+-------------+----------+----------+-----------+--------+\n",
      "+--------------+----------+----------+-----------+--------+\n",
      "| Model(Train) | f1_score | accuracy | precision | recall |\n",
      "+--------------+----------+----------+-----------+--------+\n",
      "|  # Bagging   |   0.93   |   0.88   |    0.99   |  0.88  |\n",
      "+--------------+----------+----------+-----------+--------+\n"
     ]
    }
   ],
   "source": [
    "print(x)\n",
    "print(y)"
   ]
  },
  {
   "cell_type": "markdown",
   "id": "e62cd4c8",
   "metadata": {},
   "source": [
    "## Observations-\n",
    "\n",
    "- The f1-score for test data is 0.95 and for train data is 0.93\n",
    "- The accuracy score for test data is 0.91 and for train data is 0.88\n",
    "- The precision score for test data is 0.98 and for train data is 0.99\n",
    "- The recall score for test data is 0.91 and for train data is 0.88\n",
    "- The model has low bias and low variance so it can be considered as a generalised model.\n",
    "- After performing bagging, the scores were improved."
   ]
  },
  {
   "cell_type": "markdown",
   "id": "829b4740",
   "metadata": {},
   "source": [
    "# Decision Tree:-"
   ]
  },
  {
   "cell_type": "code",
   "execution_count": 76,
   "id": "af142ae0",
   "metadata": {},
   "outputs": [],
   "source": [
    "from sklearn.tree import DecisionTreeClassifier\n",
    "dtr=DecisionTreeClassifier(random_state=42)"
   ]
  },
  {
   "cell_type": "code",
   "execution_count": 77,
   "id": "10e49836",
   "metadata": {},
   "outputs": [
    {
     "data": {
      "text/html": [
       "<style>#sk-container-id-6 {color: black;background-color: white;}#sk-container-id-6 pre{padding: 0;}#sk-container-id-6 div.sk-toggleable {background-color: white;}#sk-container-id-6 label.sk-toggleable__label {cursor: pointer;display: block;width: 100%;margin-bottom: 0;padding: 0.3em;box-sizing: border-box;text-align: center;}#sk-container-id-6 label.sk-toggleable__label-arrow:before {content: \"▸\";float: left;margin-right: 0.25em;color: #696969;}#sk-container-id-6 label.sk-toggleable__label-arrow:hover:before {color: black;}#sk-container-id-6 div.sk-estimator:hover label.sk-toggleable__label-arrow:before {color: black;}#sk-container-id-6 div.sk-toggleable__content {max-height: 0;max-width: 0;overflow: hidden;text-align: left;background-color: #f0f8ff;}#sk-container-id-6 div.sk-toggleable__content pre {margin: 0.2em;color: black;border-radius: 0.25em;background-color: #f0f8ff;}#sk-container-id-6 input.sk-toggleable__control:checked~div.sk-toggleable__content {max-height: 200px;max-width: 100%;overflow: auto;}#sk-container-id-6 input.sk-toggleable__control:checked~label.sk-toggleable__label-arrow:before {content: \"▾\";}#sk-container-id-6 div.sk-estimator input.sk-toggleable__control:checked~label.sk-toggleable__label {background-color: #d4ebff;}#sk-container-id-6 div.sk-label input.sk-toggleable__control:checked~label.sk-toggleable__label {background-color: #d4ebff;}#sk-container-id-6 input.sk-hidden--visually {border: 0;clip: rect(1px 1px 1px 1px);clip: rect(1px, 1px, 1px, 1px);height: 1px;margin: -1px;overflow: hidden;padding: 0;position: absolute;width: 1px;}#sk-container-id-6 div.sk-estimator {font-family: monospace;background-color: #f0f8ff;border: 1px dotted black;border-radius: 0.25em;box-sizing: border-box;margin-bottom: 0.5em;}#sk-container-id-6 div.sk-estimator:hover {background-color: #d4ebff;}#sk-container-id-6 div.sk-parallel-item::after {content: \"\";width: 100%;border-bottom: 1px solid gray;flex-grow: 1;}#sk-container-id-6 div.sk-label:hover label.sk-toggleable__label {background-color: #d4ebff;}#sk-container-id-6 div.sk-serial::before {content: \"\";position: absolute;border-left: 1px solid gray;box-sizing: border-box;top: 0;bottom: 0;left: 50%;z-index: 0;}#sk-container-id-6 div.sk-serial {display: flex;flex-direction: column;align-items: center;background-color: white;padding-right: 0.2em;padding-left: 0.2em;position: relative;}#sk-container-id-6 div.sk-item {position: relative;z-index: 1;}#sk-container-id-6 div.sk-parallel {display: flex;align-items: stretch;justify-content: center;background-color: white;position: relative;}#sk-container-id-6 div.sk-item::before, #sk-container-id-6 div.sk-parallel-item::before {content: \"\";position: absolute;border-left: 1px solid gray;box-sizing: border-box;top: 0;bottom: 0;left: 50%;z-index: -1;}#sk-container-id-6 div.sk-parallel-item {display: flex;flex-direction: column;z-index: 1;position: relative;background-color: white;}#sk-container-id-6 div.sk-parallel-item:first-child::after {align-self: flex-end;width: 50%;}#sk-container-id-6 div.sk-parallel-item:last-child::after {align-self: flex-start;width: 50%;}#sk-container-id-6 div.sk-parallel-item:only-child::after {width: 0;}#sk-container-id-6 div.sk-dashed-wrapped {border: 1px dashed gray;margin: 0 0.4em 0.5em 0.4em;box-sizing: border-box;padding-bottom: 0.4em;background-color: white;}#sk-container-id-6 div.sk-label label {font-family: monospace;font-weight: bold;display: inline-block;line-height: 1.2em;}#sk-container-id-6 div.sk-label-container {text-align: center;}#sk-container-id-6 div.sk-container {/* jupyter's `normalize.less` sets `[hidden] { display: none; }` but bootstrap.min.css set `[hidden] { display: none !important; }` so we also need the `!important` here to be able to override the default hidden behavior on the sphinx rendered scikit-learn.org. See: https://github.com/scikit-learn/scikit-learn/issues/21755 */display: inline-block !important;position: relative;}#sk-container-id-6 div.sk-text-repr-fallback {display: none;}</style><div id=\"sk-container-id-6\" class=\"sk-top-container\"><div class=\"sk-text-repr-fallback\"><pre>DecisionTreeClassifier(random_state=42)</pre><b>In a Jupyter environment, please rerun this cell to show the HTML representation or trust the notebook. <br />On GitHub, the HTML representation is unable to render, please try loading this page with nbviewer.org.</b></div><div class=\"sk-container\" hidden><div class=\"sk-item\"><div class=\"sk-estimator sk-toggleable\"><input class=\"sk-toggleable__control sk-hidden--visually\" id=\"sk-estimator-id-8\" type=\"checkbox\" checked><label for=\"sk-estimator-id-8\" class=\"sk-toggleable__label sk-toggleable__label-arrow\">DecisionTreeClassifier</label><div class=\"sk-toggleable__content\"><pre>DecisionTreeClassifier(random_state=42)</pre></div></div></div></div></div>"
      ],
      "text/plain": [
       "DecisionTreeClassifier(random_state=42)"
      ]
     },
     "execution_count": 77,
     "metadata": {},
     "output_type": "execute_result"
    }
   ],
   "source": [
    "dtr.fit(X_smote,y_smote)"
   ]
  },
  {
   "cell_type": "code",
   "execution_count": 78,
   "id": "d7a9afc4",
   "metadata": {},
   "outputs": [],
   "source": [
    "X_pred13 = dtr.predict(X_test)\n",
    "X_pred_train13 = dtr.predict(X_smote)"
   ]
  },
  {
   "cell_type": "code",
   "execution_count": 79,
   "id": "a27d0f63",
   "metadata": {},
   "outputs": [
    {
     "name": "stdout",
     "output_type": "stream",
     "text": [
      "0.9731800766283526\n",
      "1.0\n"
     ]
    }
   ],
   "source": [
    "print(f1_score(y_test,X_pred13))\n",
    "print(f1_score(y_smote,X_pred_train13))"
   ]
  },
  {
   "cell_type": "code",
   "execution_count": 80,
   "id": "25e5777c",
   "metadata": {},
   "outputs": [
    {
     "name": "stdout",
     "output_type": "stream",
     "text": [
      "0.9533333333333334\n",
      "1.0\n"
     ]
    }
   ],
   "source": [
    "print(accuracy_score(y_test,X_pred13))\n",
    "print(accuracy_score(y_smote,X_pred_train13))"
   ]
  },
  {
   "cell_type": "code",
   "execution_count": 81,
   "id": "b443bdb7",
   "metadata": {},
   "outputs": [
    {
     "name": "stdout",
     "output_type": "stream",
     "text": [
      "0.9806949806949807\n",
      "1.0\n"
     ]
    }
   ],
   "source": [
    "print(precision_score(y_test,X_pred13))\n",
    "print(precision_score(y_smote,X_pred_train13))"
   ]
  },
  {
   "cell_type": "code",
   "execution_count": 82,
   "id": "455d5f3f",
   "metadata": {},
   "outputs": [
    {
     "name": "stdout",
     "output_type": "stream",
     "text": [
      "0.9657794676806084\n",
      "1.0\n"
     ]
    }
   ],
   "source": [
    "print(recall_score(y_test,X_pred13))\n",
    "print(recall_score(y_smote,X_pred_train13))"
   ]
  },
  {
   "cell_type": "code",
   "execution_count": 153,
   "id": "bbe39deb",
   "metadata": {},
   "outputs": [],
   "source": [
    "#Creating objects of Preetytable\n",
    "x=PrettyTable()\n",
    "y=PrettyTable()"
   ]
  },
  {
   "cell_type": "code",
   "execution_count": 154,
   "id": "867e232f",
   "metadata": {},
   "outputs": [],
   "source": [
    "x.field_names = [\"Model(Test)\", \"f1_score\",\"accuracy\",\"precision\",\"recall\"]\n",
    "x.add_row([\"# Decision Tree\", \"0.97\",'0.95','0.98','0.96'])"
   ]
  },
  {
   "cell_type": "code",
   "execution_count": 155,
   "id": "b809cd9d",
   "metadata": {},
   "outputs": [],
   "source": [
    "y.field_names = [\"Model(Train)\", \"f1_score\",\"accuracy\",\"precision\",\"recall\"]\n",
    "y.add_row([\"# Decision Tree\", \"1.0\",'1.0','1.0','1.0'])"
   ]
  },
  {
   "cell_type": "code",
   "execution_count": 156,
   "id": "19f340df",
   "metadata": {},
   "outputs": [
    {
     "name": "stdout",
     "output_type": "stream",
     "text": [
      "+-----------------+----------+----------+-----------+--------+\n",
      "|   Model(Test)   | f1_score | accuracy | precision | recall |\n",
      "+-----------------+----------+----------+-----------+--------+\n",
      "| # Decision Tree |   0.97   |   0.95   |    0.98   |  0.96  |\n",
      "+-----------------+----------+----------+-----------+--------+\n",
      "+-----------------+----------+----------+-----------+--------+\n",
      "|   Model(Train)  | f1_score | accuracy | precision | recall |\n",
      "+-----------------+----------+----------+-----------+--------+\n",
      "| # Decision Tree |   1.0    |   1.0    |    1.0    |  1.0   |\n",
      "+-----------------+----------+----------+-----------+--------+\n"
     ]
    }
   ],
   "source": [
    "print(x)\n",
    "print(y)"
   ]
  },
  {
   "cell_type": "markdown",
   "id": "b7b9831c",
   "metadata": {},
   "source": [
    "## Observations-\n",
    "\n",
    "- The f1-score for test data is 0.97 and for train data is 1.0\n",
    "- The accuracy score for test data is 0.95 and for train data is 1.0\n",
    "- The precision score for test data is 0.98 and for train data is 1.0\n",
    "- The recall score for test data is 0.96 and for train data is 0.99\n",
    "- The model has high bias and low variance so it can't be considered as a generalised model.\n",
    "- Since,the model has high bias and low variance so hyperparameter tuning is performed."
   ]
  },
  {
   "cell_type": "markdown",
   "id": "0b75ad0c",
   "metadata": {},
   "source": [
    "# Hyperparameter tuning:-"
   ]
  },
  {
   "cell_type": "code",
   "execution_count": 87,
   "id": "d4042e58",
   "metadata": {},
   "outputs": [],
   "source": [
    "params = {\n",
    "    \"criterion\":(\"gini\", \"entropy\"), #quality of split\n",
    "    \"splitter\":(\"best\", \"random\"), # searches the features for a split\n",
    "    \"max_depth\":(list(range(1, 20))), #depth of tree range from 1 to 19\n",
    "    \"min_samples_split\":(list(range(2, 20))),    #the minimum number of samples required to split internal node\n",
    "    \"min_samples_leaf\":list(range(1, 20)),#minimum number of samples required to be at a leaf node,we are passing list which is range from 1 to 19 \n",
    "}"
   ]
  },
  {
   "cell_type": "code",
   "execution_count": 88,
   "id": "38b9e3cf",
   "metadata": {},
   "outputs": [],
   "source": [
    "tree_clf = DecisionTreeClassifier(random_state=1000)#object creation for decision tree with random state 3"
   ]
  },
  {
   "cell_type": "code",
   "execution_count": 89,
   "id": "ec571644",
   "metadata": {},
   "outputs": [],
   "source": [
    "tree_cv = GridSearchCV(tree_clf, params, scoring=\"f1\", n_jobs=-1, verbose=1, cv=3)"
   ]
  },
  {
   "cell_type": "code",
   "execution_count": 90,
   "id": "fbd3c81d",
   "metadata": {},
   "outputs": [
    {
     "name": "stdout",
     "output_type": "stream",
     "text": [
      "Fitting 3 folds for each of 25992 candidates, totalling 77976 fits\n"
     ]
    },
    {
     "data": {
      "text/html": [
       "<style>#sk-container-id-7 {color: black;background-color: white;}#sk-container-id-7 pre{padding: 0;}#sk-container-id-7 div.sk-toggleable {background-color: white;}#sk-container-id-7 label.sk-toggleable__label {cursor: pointer;display: block;width: 100%;margin-bottom: 0;padding: 0.3em;box-sizing: border-box;text-align: center;}#sk-container-id-7 label.sk-toggleable__label-arrow:before {content: \"▸\";float: left;margin-right: 0.25em;color: #696969;}#sk-container-id-7 label.sk-toggleable__label-arrow:hover:before {color: black;}#sk-container-id-7 div.sk-estimator:hover label.sk-toggleable__label-arrow:before {color: black;}#sk-container-id-7 div.sk-toggleable__content {max-height: 0;max-width: 0;overflow: hidden;text-align: left;background-color: #f0f8ff;}#sk-container-id-7 div.sk-toggleable__content pre {margin: 0.2em;color: black;border-radius: 0.25em;background-color: #f0f8ff;}#sk-container-id-7 input.sk-toggleable__control:checked~div.sk-toggleable__content {max-height: 200px;max-width: 100%;overflow: auto;}#sk-container-id-7 input.sk-toggleable__control:checked~label.sk-toggleable__label-arrow:before {content: \"▾\";}#sk-container-id-7 div.sk-estimator input.sk-toggleable__control:checked~label.sk-toggleable__label {background-color: #d4ebff;}#sk-container-id-7 div.sk-label input.sk-toggleable__control:checked~label.sk-toggleable__label {background-color: #d4ebff;}#sk-container-id-7 input.sk-hidden--visually {border: 0;clip: rect(1px 1px 1px 1px);clip: rect(1px, 1px, 1px, 1px);height: 1px;margin: -1px;overflow: hidden;padding: 0;position: absolute;width: 1px;}#sk-container-id-7 div.sk-estimator {font-family: monospace;background-color: #f0f8ff;border: 1px dotted black;border-radius: 0.25em;box-sizing: border-box;margin-bottom: 0.5em;}#sk-container-id-7 div.sk-estimator:hover {background-color: #d4ebff;}#sk-container-id-7 div.sk-parallel-item::after {content: \"\";width: 100%;border-bottom: 1px solid gray;flex-grow: 1;}#sk-container-id-7 div.sk-label:hover label.sk-toggleable__label {background-color: #d4ebff;}#sk-container-id-7 div.sk-serial::before {content: \"\";position: absolute;border-left: 1px solid gray;box-sizing: border-box;top: 0;bottom: 0;left: 50%;z-index: 0;}#sk-container-id-7 div.sk-serial {display: flex;flex-direction: column;align-items: center;background-color: white;padding-right: 0.2em;padding-left: 0.2em;position: relative;}#sk-container-id-7 div.sk-item {position: relative;z-index: 1;}#sk-container-id-7 div.sk-parallel {display: flex;align-items: stretch;justify-content: center;background-color: white;position: relative;}#sk-container-id-7 div.sk-item::before, #sk-container-id-7 div.sk-parallel-item::before {content: \"\";position: absolute;border-left: 1px solid gray;box-sizing: border-box;top: 0;bottom: 0;left: 50%;z-index: -1;}#sk-container-id-7 div.sk-parallel-item {display: flex;flex-direction: column;z-index: 1;position: relative;background-color: white;}#sk-container-id-7 div.sk-parallel-item:first-child::after {align-self: flex-end;width: 50%;}#sk-container-id-7 div.sk-parallel-item:last-child::after {align-self: flex-start;width: 50%;}#sk-container-id-7 div.sk-parallel-item:only-child::after {width: 0;}#sk-container-id-7 div.sk-dashed-wrapped {border: 1px dashed gray;margin: 0 0.4em 0.5em 0.4em;box-sizing: border-box;padding-bottom: 0.4em;background-color: white;}#sk-container-id-7 div.sk-label label {font-family: monospace;font-weight: bold;display: inline-block;line-height: 1.2em;}#sk-container-id-7 div.sk-label-container {text-align: center;}#sk-container-id-7 div.sk-container {/* jupyter's `normalize.less` sets `[hidden] { display: none; }` but bootstrap.min.css set `[hidden] { display: none !important; }` so we also need the `!important` here to be able to override the default hidden behavior on the sphinx rendered scikit-learn.org. See: https://github.com/scikit-learn/scikit-learn/issues/21755 */display: inline-block !important;position: relative;}#sk-container-id-7 div.sk-text-repr-fallback {display: none;}</style><div id=\"sk-container-id-7\" class=\"sk-top-container\"><div class=\"sk-text-repr-fallback\"><pre>GridSearchCV(cv=3, estimator=DecisionTreeClassifier(random_state=1000),\n",
       "             n_jobs=-1,\n",
       "             param_grid={&#x27;criterion&#x27;: (&#x27;gini&#x27;, &#x27;entropy&#x27;),\n",
       "                         &#x27;max_depth&#x27;: [1, 2, 3, 4, 5, 6, 7, 8, 9, 10, 11, 12,\n",
       "                                       13, 14, 15, 16, 17, 18, 19],\n",
       "                         &#x27;min_samples_leaf&#x27;: [1, 2, 3, 4, 5, 6, 7, 8, 9, 10, 11,\n",
       "                                              12, 13, 14, 15, 16, 17, 18, 19],\n",
       "                         &#x27;min_samples_split&#x27;: [2, 3, 4, 5, 6, 7, 8, 9, 10, 11,\n",
       "                                               12, 13, 14, 15, 16, 17, 18, 19],\n",
       "                         &#x27;splitter&#x27;: (&#x27;best&#x27;, &#x27;random&#x27;)},\n",
       "             scoring=&#x27;f1&#x27;, verbose=1)</pre><b>In a Jupyter environment, please rerun this cell to show the HTML representation or trust the notebook. <br />On GitHub, the HTML representation is unable to render, please try loading this page with nbviewer.org.</b></div><div class=\"sk-container\" hidden><div class=\"sk-item sk-dashed-wrapped\"><div class=\"sk-label-container\"><div class=\"sk-label sk-toggleable\"><input class=\"sk-toggleable__control sk-hidden--visually\" id=\"sk-estimator-id-9\" type=\"checkbox\" ><label for=\"sk-estimator-id-9\" class=\"sk-toggleable__label sk-toggleable__label-arrow\">GridSearchCV</label><div class=\"sk-toggleable__content\"><pre>GridSearchCV(cv=3, estimator=DecisionTreeClassifier(random_state=1000),\n",
       "             n_jobs=-1,\n",
       "             param_grid={&#x27;criterion&#x27;: (&#x27;gini&#x27;, &#x27;entropy&#x27;),\n",
       "                         &#x27;max_depth&#x27;: [1, 2, 3, 4, 5, 6, 7, 8, 9, 10, 11, 12,\n",
       "                                       13, 14, 15, 16, 17, 18, 19],\n",
       "                         &#x27;min_samples_leaf&#x27;: [1, 2, 3, 4, 5, 6, 7, 8, 9, 10, 11,\n",
       "                                              12, 13, 14, 15, 16, 17, 18, 19],\n",
       "                         &#x27;min_samples_split&#x27;: [2, 3, 4, 5, 6, 7, 8, 9, 10, 11,\n",
       "                                               12, 13, 14, 15, 16, 17, 18, 19],\n",
       "                         &#x27;splitter&#x27;: (&#x27;best&#x27;, &#x27;random&#x27;)},\n",
       "             scoring=&#x27;f1&#x27;, verbose=1)</pre></div></div></div><div class=\"sk-parallel\"><div class=\"sk-parallel-item\"><div class=\"sk-item\"><div class=\"sk-label-container\"><div class=\"sk-label sk-toggleable\"><input class=\"sk-toggleable__control sk-hidden--visually\" id=\"sk-estimator-id-10\" type=\"checkbox\" ><label for=\"sk-estimator-id-10\" class=\"sk-toggleable__label sk-toggleable__label-arrow\">estimator: DecisionTreeClassifier</label><div class=\"sk-toggleable__content\"><pre>DecisionTreeClassifier(random_state=1000)</pre></div></div></div><div class=\"sk-serial\"><div class=\"sk-item\"><div class=\"sk-estimator sk-toggleable\"><input class=\"sk-toggleable__control sk-hidden--visually\" id=\"sk-estimator-id-11\" type=\"checkbox\" ><label for=\"sk-estimator-id-11\" class=\"sk-toggleable__label sk-toggleable__label-arrow\">DecisionTreeClassifier</label><div class=\"sk-toggleable__content\"><pre>DecisionTreeClassifier(random_state=1000)</pre></div></div></div></div></div></div></div></div></div></div>"
      ],
      "text/plain": [
       "GridSearchCV(cv=3, estimator=DecisionTreeClassifier(random_state=1000),\n",
       "             n_jobs=-1,\n",
       "             param_grid={'criterion': ('gini', 'entropy'),\n",
       "                         'max_depth': [1, 2, 3, 4, 5, 6, 7, 8, 9, 10, 11, 12,\n",
       "                                       13, 14, 15, 16, 17, 18, 19],\n",
       "                         'min_samples_leaf': [1, 2, 3, 4, 5, 6, 7, 8, 9, 10, 11,\n",
       "                                              12, 13, 14, 15, 16, 17, 18, 19],\n",
       "                         'min_samples_split': [2, 3, 4, 5, 6, 7, 8, 9, 10, 11,\n",
       "                                               12, 13, 14, 15, 16, 17, 18, 19],\n",
       "                         'splitter': ('best', 'random')},\n",
       "             scoring='f1', verbose=1)"
      ]
     },
     "execution_count": 90,
     "metadata": {},
     "output_type": "execute_result"
    }
   ],
   "source": [
    "tree_cv.fit(X_smote,y_smote)#training data on gridsearch cv"
   ]
  },
  {
   "cell_type": "code",
   "execution_count": 91,
   "id": "fd0f1543",
   "metadata": {},
   "outputs": [
    {
     "name": "stdout",
     "output_type": "stream",
     "text": [
      "Best paramters: {'criterion': 'entropy', 'max_depth': 10, 'min_samples_leaf': 1, 'min_samples_split': 19, 'splitter': 'random'})\n"
     ]
    }
   ],
   "source": [
    "best_params = tree_cv.best_params_#it will give you best parameters \n",
    "print(f\"Best paramters: {best_params})\")#printing  best parameters"
   ]
  },
  {
   "cell_type": "code",
   "execution_count": 92,
   "id": "181b0f05",
   "metadata": {},
   "outputs": [],
   "source": [
    "dt1=DecisionTreeClassifier(criterion='entropy',max_depth=10,min_samples_leaf=1,min_samples_split=19,splitter='random')#passing best parameter to decision tree"
   ]
  },
  {
   "cell_type": "code",
   "execution_count": 93,
   "id": "f6d0e49c",
   "metadata": {},
   "outputs": [
    {
     "data": {
      "text/html": [
       "<style>#sk-container-id-8 {color: black;background-color: white;}#sk-container-id-8 pre{padding: 0;}#sk-container-id-8 div.sk-toggleable {background-color: white;}#sk-container-id-8 label.sk-toggleable__label {cursor: pointer;display: block;width: 100%;margin-bottom: 0;padding: 0.3em;box-sizing: border-box;text-align: center;}#sk-container-id-8 label.sk-toggleable__label-arrow:before {content: \"▸\";float: left;margin-right: 0.25em;color: #696969;}#sk-container-id-8 label.sk-toggleable__label-arrow:hover:before {color: black;}#sk-container-id-8 div.sk-estimator:hover label.sk-toggleable__label-arrow:before {color: black;}#sk-container-id-8 div.sk-toggleable__content {max-height: 0;max-width: 0;overflow: hidden;text-align: left;background-color: #f0f8ff;}#sk-container-id-8 div.sk-toggleable__content pre {margin: 0.2em;color: black;border-radius: 0.25em;background-color: #f0f8ff;}#sk-container-id-8 input.sk-toggleable__control:checked~div.sk-toggleable__content {max-height: 200px;max-width: 100%;overflow: auto;}#sk-container-id-8 input.sk-toggleable__control:checked~label.sk-toggleable__label-arrow:before {content: \"▾\";}#sk-container-id-8 div.sk-estimator input.sk-toggleable__control:checked~label.sk-toggleable__label {background-color: #d4ebff;}#sk-container-id-8 div.sk-label input.sk-toggleable__control:checked~label.sk-toggleable__label {background-color: #d4ebff;}#sk-container-id-8 input.sk-hidden--visually {border: 0;clip: rect(1px 1px 1px 1px);clip: rect(1px, 1px, 1px, 1px);height: 1px;margin: -1px;overflow: hidden;padding: 0;position: absolute;width: 1px;}#sk-container-id-8 div.sk-estimator {font-family: monospace;background-color: #f0f8ff;border: 1px dotted black;border-radius: 0.25em;box-sizing: border-box;margin-bottom: 0.5em;}#sk-container-id-8 div.sk-estimator:hover {background-color: #d4ebff;}#sk-container-id-8 div.sk-parallel-item::after {content: \"\";width: 100%;border-bottom: 1px solid gray;flex-grow: 1;}#sk-container-id-8 div.sk-label:hover label.sk-toggleable__label {background-color: #d4ebff;}#sk-container-id-8 div.sk-serial::before {content: \"\";position: absolute;border-left: 1px solid gray;box-sizing: border-box;top: 0;bottom: 0;left: 50%;z-index: 0;}#sk-container-id-8 div.sk-serial {display: flex;flex-direction: column;align-items: center;background-color: white;padding-right: 0.2em;padding-left: 0.2em;position: relative;}#sk-container-id-8 div.sk-item {position: relative;z-index: 1;}#sk-container-id-8 div.sk-parallel {display: flex;align-items: stretch;justify-content: center;background-color: white;position: relative;}#sk-container-id-8 div.sk-item::before, #sk-container-id-8 div.sk-parallel-item::before {content: \"\";position: absolute;border-left: 1px solid gray;box-sizing: border-box;top: 0;bottom: 0;left: 50%;z-index: -1;}#sk-container-id-8 div.sk-parallel-item {display: flex;flex-direction: column;z-index: 1;position: relative;background-color: white;}#sk-container-id-8 div.sk-parallel-item:first-child::after {align-self: flex-end;width: 50%;}#sk-container-id-8 div.sk-parallel-item:last-child::after {align-self: flex-start;width: 50%;}#sk-container-id-8 div.sk-parallel-item:only-child::after {width: 0;}#sk-container-id-8 div.sk-dashed-wrapped {border: 1px dashed gray;margin: 0 0.4em 0.5em 0.4em;box-sizing: border-box;padding-bottom: 0.4em;background-color: white;}#sk-container-id-8 div.sk-label label {font-family: monospace;font-weight: bold;display: inline-block;line-height: 1.2em;}#sk-container-id-8 div.sk-label-container {text-align: center;}#sk-container-id-8 div.sk-container {/* jupyter's `normalize.less` sets `[hidden] { display: none; }` but bootstrap.min.css set `[hidden] { display: none !important; }` so we also need the `!important` here to be able to override the default hidden behavior on the sphinx rendered scikit-learn.org. See: https://github.com/scikit-learn/scikit-learn/issues/21755 */display: inline-block !important;position: relative;}#sk-container-id-8 div.sk-text-repr-fallback {display: none;}</style><div id=\"sk-container-id-8\" class=\"sk-top-container\"><div class=\"sk-text-repr-fallback\"><pre>DecisionTreeClassifier(criterion=&#x27;entropy&#x27;, max_depth=10, min_samples_split=19,\n",
       "                       splitter=&#x27;random&#x27;)</pre><b>In a Jupyter environment, please rerun this cell to show the HTML representation or trust the notebook. <br />On GitHub, the HTML representation is unable to render, please try loading this page with nbviewer.org.</b></div><div class=\"sk-container\" hidden><div class=\"sk-item\"><div class=\"sk-estimator sk-toggleable\"><input class=\"sk-toggleable__control sk-hidden--visually\" id=\"sk-estimator-id-12\" type=\"checkbox\" checked><label for=\"sk-estimator-id-12\" class=\"sk-toggleable__label sk-toggleable__label-arrow\">DecisionTreeClassifier</label><div class=\"sk-toggleable__content\"><pre>DecisionTreeClassifier(criterion=&#x27;entropy&#x27;, max_depth=10, min_samples_split=19,\n",
       "                       splitter=&#x27;random&#x27;)</pre></div></div></div></div></div>"
      ],
      "text/plain": [
       "DecisionTreeClassifier(criterion='entropy', max_depth=10, min_samples_split=19,\n",
       "                       splitter='random')"
      ]
     },
     "execution_count": 93,
     "metadata": {},
     "output_type": "execute_result"
    }
   ],
   "source": [
    "dt1.fit(X_smote,y_smote)#training model with best parameter"
   ]
  },
  {
   "cell_type": "code",
   "execution_count": 94,
   "id": "1f483ddc",
   "metadata": {},
   "outputs": [],
   "source": [
    "X_pred14 = dt1.predict(X_test)\n",
    "X_pred_train14 = dt1.predict(X_smote)"
   ]
  },
  {
   "cell_type": "code",
   "execution_count": 95,
   "id": "99015e94",
   "metadata": {},
   "outputs": [
    {
     "name": "stdout",
     "output_type": "stream",
     "text": [
      "0.9575289575289575\n",
      "0.9727891156462586\n"
     ]
    }
   ],
   "source": [
    "print(f1_score(y_test,X_pred14))\n",
    "print(f1_score(y_smote,X_pred_train14))"
   ]
  },
  {
   "cell_type": "code",
   "execution_count": 96,
   "id": "0cfd15e5",
   "metadata": {},
   "outputs": [
    {
     "name": "stdout",
     "output_type": "stream",
     "text": [
      "0.9266666666666666\n",
      "0.9730820995962315\n"
     ]
    }
   ],
   "source": [
    "print(accuracy_score(y_test,X_pred14))\n",
    "print(accuracy_score(y_smote,X_pred_train14))"
   ]
  },
  {
   "cell_type": "code",
   "execution_count": 97,
   "id": "1cdde7d4",
   "metadata": {},
   "outputs": [
    {
     "name": "stdout",
     "output_type": "stream",
     "text": [
      "0.9725490196078431\n",
      "0.9834938101788171\n"
     ]
    }
   ],
   "source": [
    "print(precision_score(y_test,X_pred14))\n",
    "print(precision_score(y_smote,X_pred_train14))"
   ]
  },
  {
   "cell_type": "code",
   "execution_count": 98,
   "id": "c8f0ccf8",
   "metadata": {},
   "outputs": [
    {
     "name": "stdout",
     "output_type": "stream",
     "text": [
      "0.9429657794676806\n",
      "0.9623149394347241\n"
     ]
    }
   ],
   "source": [
    "print(recall_score(y_test,X_pred14))\n",
    "print(recall_score(y_smote,X_pred_train14))"
   ]
  },
  {
   "cell_type": "code",
   "execution_count": 216,
   "id": "c8df4a4b",
   "metadata": {},
   "outputs": [],
   "source": [
    "#Creating objects of Preetytable\n",
    "x=PrettyTable()\n",
    "y=PrettyTable()"
   ]
  },
  {
   "cell_type": "code",
   "execution_count": 217,
   "id": "dc296b30",
   "metadata": {},
   "outputs": [],
   "source": [
    "x.field_names = [\"Model(Test)\", \"f1_score\",\"accuracy\",\"precision\",\"recall\"]\n",
    "x.add_row([\"# Decision Tree\", \"0.95\",'0.92','0.97','0.94'])"
   ]
  },
  {
   "cell_type": "code",
   "execution_count": 218,
   "id": "db21712a",
   "metadata": {},
   "outputs": [],
   "source": [
    "y.field_names = [\"Model(Train)\", \"f1_score\",\"accuracy\",\"precision\",\"recall\"]\n",
    "y.add_row([\"# Decision Tree\", \"0.97\",'0.97','0.98','0.96'])"
   ]
  },
  {
   "cell_type": "code",
   "execution_count": 219,
   "id": "f67f3859",
   "metadata": {},
   "outputs": [
    {
     "name": "stdout",
     "output_type": "stream",
     "text": [
      "+-----------------+----------+----------+-----------+--------+\n",
      "|   Model(Test)   | f1_score | accuracy | precision | recall |\n",
      "+-----------------+----------+----------+-----------+--------+\n",
      "| # Decision Tree |   0.95   |   0.92   |    0.97   |  0.94  |\n",
      "+-----------------+----------+----------+-----------+--------+\n",
      "+-----------------+----------+----------+-----------+--------+\n",
      "|   Model(Train)  | f1_score | accuracy | precision | recall |\n",
      "+-----------------+----------+----------+-----------+--------+\n",
      "| # Decision Tree |   0.97   |   0.97   |    0.98   |  0.96  |\n",
      "+-----------------+----------+----------+-----------+--------+\n"
     ]
    }
   ],
   "source": [
    "print(x)\n",
    "print(y)"
   ]
  },
  {
   "cell_type": "markdown",
   "id": "8f2019de",
   "metadata": {},
   "source": [
    "## Observations-\n",
    "\n",
    "- The f1-score for test data is 0.95 and for train data is 0.97\n",
    "- The accuracy score for test data is 0.92 and for train data is 0.97\n",
    "- The precision score for test data is 0.97 and for train data is 0.98\n",
    "- The recall score for test data is 0.94 and for train data is 0.96\n",
    "- The model has high bias and low variance so it can't be considered as a generalised model.\n",
    "- The scores are not satisfactory so bagging is performed."
   ]
  },
  {
   "cell_type": "markdown",
   "id": "400009fe",
   "metadata": {},
   "source": [
    "# Decision # Tree (Bagging)"
   ]
  },
  {
   "cell_type": "code",
   "execution_count": 200,
   "id": "5dfebd1b",
   "metadata": {},
   "outputs": [],
   "source": [
    "from sklearn.ensemble import BaggingClassifier\n",
    "\n",
    "# Create a decision tree classifier object\n",
    "dt = DecisionTreeClassifier()\n",
    "\n",
    "# Create a bagging classifier object\n",
    "bagging = BaggingClassifier(dt, n_estimators=100)"
   ]
  },
  {
   "cell_type": "code",
   "execution_count": 201,
   "id": "5fd8e648",
   "metadata": {},
   "outputs": [
    {
     "data": {
      "text/html": [
       "<style>#sk-container-id-15 {color: black;background-color: white;}#sk-container-id-15 pre{padding: 0;}#sk-container-id-15 div.sk-toggleable {background-color: white;}#sk-container-id-15 label.sk-toggleable__label {cursor: pointer;display: block;width: 100%;margin-bottom: 0;padding: 0.3em;box-sizing: border-box;text-align: center;}#sk-container-id-15 label.sk-toggleable__label-arrow:before {content: \"▸\";float: left;margin-right: 0.25em;color: #696969;}#sk-container-id-15 label.sk-toggleable__label-arrow:hover:before {color: black;}#sk-container-id-15 div.sk-estimator:hover label.sk-toggleable__label-arrow:before {color: black;}#sk-container-id-15 div.sk-toggleable__content {max-height: 0;max-width: 0;overflow: hidden;text-align: left;background-color: #f0f8ff;}#sk-container-id-15 div.sk-toggleable__content pre {margin: 0.2em;color: black;border-radius: 0.25em;background-color: #f0f8ff;}#sk-container-id-15 input.sk-toggleable__control:checked~div.sk-toggleable__content {max-height: 200px;max-width: 100%;overflow: auto;}#sk-container-id-15 input.sk-toggleable__control:checked~label.sk-toggleable__label-arrow:before {content: \"▾\";}#sk-container-id-15 div.sk-estimator input.sk-toggleable__control:checked~label.sk-toggleable__label {background-color: #d4ebff;}#sk-container-id-15 div.sk-label input.sk-toggleable__control:checked~label.sk-toggleable__label {background-color: #d4ebff;}#sk-container-id-15 input.sk-hidden--visually {border: 0;clip: rect(1px 1px 1px 1px);clip: rect(1px, 1px, 1px, 1px);height: 1px;margin: -1px;overflow: hidden;padding: 0;position: absolute;width: 1px;}#sk-container-id-15 div.sk-estimator {font-family: monospace;background-color: #f0f8ff;border: 1px dotted black;border-radius: 0.25em;box-sizing: border-box;margin-bottom: 0.5em;}#sk-container-id-15 div.sk-estimator:hover {background-color: #d4ebff;}#sk-container-id-15 div.sk-parallel-item::after {content: \"\";width: 100%;border-bottom: 1px solid gray;flex-grow: 1;}#sk-container-id-15 div.sk-label:hover label.sk-toggleable__label {background-color: #d4ebff;}#sk-container-id-15 div.sk-serial::before {content: \"\";position: absolute;border-left: 1px solid gray;box-sizing: border-box;top: 0;bottom: 0;left: 50%;z-index: 0;}#sk-container-id-15 div.sk-serial {display: flex;flex-direction: column;align-items: center;background-color: white;padding-right: 0.2em;padding-left: 0.2em;position: relative;}#sk-container-id-15 div.sk-item {position: relative;z-index: 1;}#sk-container-id-15 div.sk-parallel {display: flex;align-items: stretch;justify-content: center;background-color: white;position: relative;}#sk-container-id-15 div.sk-item::before, #sk-container-id-15 div.sk-parallel-item::before {content: \"\";position: absolute;border-left: 1px solid gray;box-sizing: border-box;top: 0;bottom: 0;left: 50%;z-index: -1;}#sk-container-id-15 div.sk-parallel-item {display: flex;flex-direction: column;z-index: 1;position: relative;background-color: white;}#sk-container-id-15 div.sk-parallel-item:first-child::after {align-self: flex-end;width: 50%;}#sk-container-id-15 div.sk-parallel-item:last-child::after {align-self: flex-start;width: 50%;}#sk-container-id-15 div.sk-parallel-item:only-child::after {width: 0;}#sk-container-id-15 div.sk-dashed-wrapped {border: 1px dashed gray;margin: 0 0.4em 0.5em 0.4em;box-sizing: border-box;padding-bottom: 0.4em;background-color: white;}#sk-container-id-15 div.sk-label label {font-family: monospace;font-weight: bold;display: inline-block;line-height: 1.2em;}#sk-container-id-15 div.sk-label-container {text-align: center;}#sk-container-id-15 div.sk-container {/* jupyter's `normalize.less` sets `[hidden] { display: none; }` but bootstrap.min.css set `[hidden] { display: none !important; }` so we also need the `!important` here to be able to override the default hidden behavior on the sphinx rendered scikit-learn.org. See: https://github.com/scikit-learn/scikit-learn/issues/21755 */display: inline-block !important;position: relative;}#sk-container-id-15 div.sk-text-repr-fallback {display: none;}</style><div id=\"sk-container-id-15\" class=\"sk-top-container\"><div class=\"sk-text-repr-fallback\"><pre>BaggingClassifier(estimator=DecisionTreeClassifier(), n_estimators=100)</pre><b>In a Jupyter environment, please rerun this cell to show the HTML representation or trust the notebook. <br />On GitHub, the HTML representation is unable to render, please try loading this page with nbviewer.org.</b></div><div class=\"sk-container\" hidden><div class=\"sk-item sk-dashed-wrapped\"><div class=\"sk-label-container\"><div class=\"sk-label sk-toggleable\"><input class=\"sk-toggleable__control sk-hidden--visually\" id=\"sk-estimator-id-23\" type=\"checkbox\" ><label for=\"sk-estimator-id-23\" class=\"sk-toggleable__label sk-toggleable__label-arrow\">BaggingClassifier</label><div class=\"sk-toggleable__content\"><pre>BaggingClassifier(estimator=DecisionTreeClassifier(), n_estimators=100)</pre></div></div></div><div class=\"sk-parallel\"><div class=\"sk-parallel-item\"><div class=\"sk-item\"><div class=\"sk-label-container\"><div class=\"sk-label sk-toggleable\"><input class=\"sk-toggleable__control sk-hidden--visually\" id=\"sk-estimator-id-24\" type=\"checkbox\" ><label for=\"sk-estimator-id-24\" class=\"sk-toggleable__label sk-toggleable__label-arrow\">estimator: DecisionTreeClassifier</label><div class=\"sk-toggleable__content\"><pre>DecisionTreeClassifier()</pre></div></div></div><div class=\"sk-serial\"><div class=\"sk-item\"><div class=\"sk-estimator sk-toggleable\"><input class=\"sk-toggleable__control sk-hidden--visually\" id=\"sk-estimator-id-25\" type=\"checkbox\" ><label for=\"sk-estimator-id-25\" class=\"sk-toggleable__label sk-toggleable__label-arrow\">DecisionTreeClassifier</label><div class=\"sk-toggleable__content\"><pre>DecisionTreeClassifier()</pre></div></div></div></div></div></div></div></div></div></div>"
      ],
      "text/plain": [
       "BaggingClassifier(estimator=DecisionTreeClassifier(), n_estimators=100)"
      ]
     },
     "execution_count": 201,
     "metadata": {},
     "output_type": "execute_result"
    }
   ],
   "source": [
    "bagging.fit(X_smote,y_smote)"
   ]
  },
  {
   "cell_type": "code",
   "execution_count": 105,
   "id": "bb180fbf",
   "metadata": {},
   "outputs": [],
   "source": [
    "bagg1 = bagging.predict(X_test)\n",
    "bagg2 = bagging.predict(X_smote)"
   ]
  },
  {
   "cell_type": "code",
   "execution_count": 106,
   "id": "aa597d8f",
   "metadata": {},
   "outputs": [
    {
     "name": "stdout",
     "output_type": "stream",
     "text": [
      "0.9788867562380039\n",
      "1.0\n"
     ]
    }
   ],
   "source": [
    "print(f1_score(y_test,bagg1))\n",
    "print(f1_score(y_smote,bagg2))"
   ]
  },
  {
   "cell_type": "code",
   "execution_count": 107,
   "id": "23817fce",
   "metadata": {},
   "outputs": [
    {
     "name": "stdout",
     "output_type": "stream",
     "text": [
      "0.9633333333333334\n",
      "1.0\n"
     ]
    }
   ],
   "source": [
    "print(accuracy_score(y_test,bagg1))\n",
    "print(accuracy_score(y_smote,bagg2))"
   ]
  },
  {
   "cell_type": "code",
   "execution_count": 108,
   "id": "ddb95673",
   "metadata": {},
   "outputs": [
    {
     "name": "stdout",
     "output_type": "stream",
     "text": [
      "0.9883720930232558\n",
      "1.0\n"
     ]
    }
   ],
   "source": [
    "print(precision_score(y_test,bagg1))\n",
    "print(precision_score(y_smote,bagg2))"
   ]
  },
  {
   "cell_type": "code",
   "execution_count": 109,
   "id": "8003ec3b",
   "metadata": {},
   "outputs": [
    {
     "name": "stdout",
     "output_type": "stream",
     "text": [
      "0.9695817490494296\n",
      "1.0\n"
     ]
    }
   ],
   "source": [
    "print(recall_score(y_test,bagg1))\n",
    "print(recall_score(y_smote,bagg2))"
   ]
  },
  {
   "cell_type": "code",
   "execution_count": 221,
   "id": "c12c2c10",
   "metadata": {},
   "outputs": [],
   "source": [
    "#Creating objects of Preetytable\n",
    "x=PrettyTable()\n",
    "y=PrettyTable()"
   ]
  },
  {
   "cell_type": "code",
   "execution_count": 222,
   "id": "58e6f41e",
   "metadata": {},
   "outputs": [],
   "source": [
    "x.field_names = [\"Model(Test)\", \"f1_score\",\"accuracy\",\"precision\",\"recall\"]\n",
    "x.add_row([\"# Decision Tree (Bagging)\", \"0.97\",'0.96','0.98','0.96'])"
   ]
  },
  {
   "cell_type": "code",
   "execution_count": 223,
   "id": "2a584895",
   "metadata": {},
   "outputs": [],
   "source": [
    "y.field_names = [\"Model(Train)\", \"f1_score\",\"accuracy\",\"precision\",\"recall\"]\n",
    "y.add_row([\"# Decision Tree (Bagging)\", \"1.0\",'1.0','1.0','1.0'])"
   ]
  },
  {
   "cell_type": "code",
   "execution_count": 224,
   "id": "ec8d2e42",
   "metadata": {},
   "outputs": [
    {
     "name": "stdout",
     "output_type": "stream",
     "text": [
      "+---------------------------+----------+----------+-----------+--------+\n",
      "|        Model(Test)        | f1_score | accuracy | precision | recall |\n",
      "+---------------------------+----------+----------+-----------+--------+\n",
      "| # Decision Tree (Bagging) |   0.97   |   0.96   |    0.98   |  0.96  |\n",
      "+---------------------------+----------+----------+-----------+--------+\n",
      "+---------------------------+----------+----------+-----------+--------+\n",
      "|        Model(Train)       | f1_score | accuracy | precision | recall |\n",
      "+---------------------------+----------+----------+-----------+--------+\n",
      "| # Decision Tree (Bagging) |   1.0    |   1.0    |    1.0    |  1.0   |\n",
      "+---------------------------+----------+----------+-----------+--------+\n"
     ]
    }
   ],
   "source": [
    "print(x)\n",
    "print(y)"
   ]
  },
  {
   "cell_type": "markdown",
   "id": "0bd63c9d",
   "metadata": {},
   "source": [
    "## Observations-\n",
    "\n",
    "- The f1-score for test data is 0.97 and for train data is 1.0.\n",
    "- The accuracy score for test data is 0.96 and for train data is 1.0.\n",
    "- The precision score for test data is 0.98 and for train data is 1.0.\n",
    "- The recall score for test data is 0.96 and for train data is 1.0.\n",
    "- The model has high bias and low variance so it can't be considered as a generalised model."
   ]
  },
  {
   "cell_type": "markdown",
   "id": "9de79de9",
   "metadata": {},
   "source": [
    "# Random Forest:-"
   ]
  },
  {
   "cell_type": "code",
   "execution_count": 114,
   "id": "dd9eb943",
   "metadata": {},
   "outputs": [],
   "source": [
    "from sklearn.ensemble import RandomForestClassifier\n",
    "rf_clf = RandomForestClassifier(n_estimators=100)"
   ]
  },
  {
   "cell_type": "code",
   "execution_count": 115,
   "id": "5dafaaff",
   "metadata": {},
   "outputs": [
    {
     "data": {
      "text/html": [
       "<style>#sk-container-id-10 {color: black;background-color: white;}#sk-container-id-10 pre{padding: 0;}#sk-container-id-10 div.sk-toggleable {background-color: white;}#sk-container-id-10 label.sk-toggleable__label {cursor: pointer;display: block;width: 100%;margin-bottom: 0;padding: 0.3em;box-sizing: border-box;text-align: center;}#sk-container-id-10 label.sk-toggleable__label-arrow:before {content: \"▸\";float: left;margin-right: 0.25em;color: #696969;}#sk-container-id-10 label.sk-toggleable__label-arrow:hover:before {color: black;}#sk-container-id-10 div.sk-estimator:hover label.sk-toggleable__label-arrow:before {color: black;}#sk-container-id-10 div.sk-toggleable__content {max-height: 0;max-width: 0;overflow: hidden;text-align: left;background-color: #f0f8ff;}#sk-container-id-10 div.sk-toggleable__content pre {margin: 0.2em;color: black;border-radius: 0.25em;background-color: #f0f8ff;}#sk-container-id-10 input.sk-toggleable__control:checked~div.sk-toggleable__content {max-height: 200px;max-width: 100%;overflow: auto;}#sk-container-id-10 input.sk-toggleable__control:checked~label.sk-toggleable__label-arrow:before {content: \"▾\";}#sk-container-id-10 div.sk-estimator input.sk-toggleable__control:checked~label.sk-toggleable__label {background-color: #d4ebff;}#sk-container-id-10 div.sk-label input.sk-toggleable__control:checked~label.sk-toggleable__label {background-color: #d4ebff;}#sk-container-id-10 input.sk-hidden--visually {border: 0;clip: rect(1px 1px 1px 1px);clip: rect(1px, 1px, 1px, 1px);height: 1px;margin: -1px;overflow: hidden;padding: 0;position: absolute;width: 1px;}#sk-container-id-10 div.sk-estimator {font-family: monospace;background-color: #f0f8ff;border: 1px dotted black;border-radius: 0.25em;box-sizing: border-box;margin-bottom: 0.5em;}#sk-container-id-10 div.sk-estimator:hover {background-color: #d4ebff;}#sk-container-id-10 div.sk-parallel-item::after {content: \"\";width: 100%;border-bottom: 1px solid gray;flex-grow: 1;}#sk-container-id-10 div.sk-label:hover label.sk-toggleable__label {background-color: #d4ebff;}#sk-container-id-10 div.sk-serial::before {content: \"\";position: absolute;border-left: 1px solid gray;box-sizing: border-box;top: 0;bottom: 0;left: 50%;z-index: 0;}#sk-container-id-10 div.sk-serial {display: flex;flex-direction: column;align-items: center;background-color: white;padding-right: 0.2em;padding-left: 0.2em;position: relative;}#sk-container-id-10 div.sk-item {position: relative;z-index: 1;}#sk-container-id-10 div.sk-parallel {display: flex;align-items: stretch;justify-content: center;background-color: white;position: relative;}#sk-container-id-10 div.sk-item::before, #sk-container-id-10 div.sk-parallel-item::before {content: \"\";position: absolute;border-left: 1px solid gray;box-sizing: border-box;top: 0;bottom: 0;left: 50%;z-index: -1;}#sk-container-id-10 div.sk-parallel-item {display: flex;flex-direction: column;z-index: 1;position: relative;background-color: white;}#sk-container-id-10 div.sk-parallel-item:first-child::after {align-self: flex-end;width: 50%;}#sk-container-id-10 div.sk-parallel-item:last-child::after {align-self: flex-start;width: 50%;}#sk-container-id-10 div.sk-parallel-item:only-child::after {width: 0;}#sk-container-id-10 div.sk-dashed-wrapped {border: 1px dashed gray;margin: 0 0.4em 0.5em 0.4em;box-sizing: border-box;padding-bottom: 0.4em;background-color: white;}#sk-container-id-10 div.sk-label label {font-family: monospace;font-weight: bold;display: inline-block;line-height: 1.2em;}#sk-container-id-10 div.sk-label-container {text-align: center;}#sk-container-id-10 div.sk-container {/* jupyter's `normalize.less` sets `[hidden] { display: none; }` but bootstrap.min.css set `[hidden] { display: none !important; }` so we also need the `!important` here to be able to override the default hidden behavior on the sphinx rendered scikit-learn.org. See: https://github.com/scikit-learn/scikit-learn/issues/21755 */display: inline-block !important;position: relative;}#sk-container-id-10 div.sk-text-repr-fallback {display: none;}</style><div id=\"sk-container-id-10\" class=\"sk-top-container\"><div class=\"sk-text-repr-fallback\"><pre>RandomForestClassifier()</pre><b>In a Jupyter environment, please rerun this cell to show the HTML representation or trust the notebook. <br />On GitHub, the HTML representation is unable to render, please try loading this page with nbviewer.org.</b></div><div class=\"sk-container\" hidden><div class=\"sk-item\"><div class=\"sk-estimator sk-toggleable\"><input class=\"sk-toggleable__control sk-hidden--visually\" id=\"sk-estimator-id-16\" type=\"checkbox\" checked><label for=\"sk-estimator-id-16\" class=\"sk-toggleable__label sk-toggleable__label-arrow\">RandomForestClassifier</label><div class=\"sk-toggleable__content\"><pre>RandomForestClassifier()</pre></div></div></div></div></div>"
      ],
      "text/plain": [
       "RandomForestClassifier()"
      ]
     },
     "execution_count": 115,
     "metadata": {},
     "output_type": "execute_result"
    }
   ],
   "source": [
    "rf_clf.fit(X_smote,y_smote)"
   ]
  },
  {
   "cell_type": "code",
   "execution_count": 116,
   "id": "53c2a5c6",
   "metadata": {},
   "outputs": [],
   "source": [
    "X_pred15 = rf_clf.predict(X_test)\n",
    "X_pred_train15 = rf_clf.predict(X_smote)"
   ]
  },
  {
   "cell_type": "code",
   "execution_count": 117,
   "id": "57cf8407",
   "metadata": {},
   "outputs": [
    {
     "name": "stdout",
     "output_type": "stream",
     "text": [
      "0.9828571428571429\n",
      "1.0\n"
     ]
    }
   ],
   "source": [
    "print(f1_score(y_test,X_pred15))\n",
    "print(f1_score(y_smote,X_pred_train15))"
   ]
  },
  {
   "cell_type": "code",
   "execution_count": 118,
   "id": "b72da34e",
   "metadata": {},
   "outputs": [
    {
     "name": "stdout",
     "output_type": "stream",
     "text": [
      "0.97\n",
      "1.0\n"
     ]
    }
   ],
   "source": [
    "print(accuracy_score(y_test,X_pred15))\n",
    "print(accuracy_score(y_smote,X_pred_train15))"
   ]
  },
  {
   "cell_type": "code",
   "execution_count": 119,
   "id": "1fcf6e71",
   "metadata": {},
   "outputs": [
    {
     "name": "stdout",
     "output_type": "stream",
     "text": [
      "0.9847328244274809\n",
      "1.0\n"
     ]
    }
   ],
   "source": [
    "print(precision_score(y_test,X_pred15))\n",
    "print(precision_score(y_smote,X_pred_train15))"
   ]
  },
  {
   "cell_type": "code",
   "execution_count": 120,
   "id": "0eb0ece3",
   "metadata": {},
   "outputs": [
    {
     "name": "stdout",
     "output_type": "stream",
     "text": [
      "0.9809885931558935\n",
      "1.0\n"
     ]
    }
   ],
   "source": [
    "print(recall_score(y_test,X_pred15))\n",
    "print(recall_score(y_smote,X_pred_train15))"
   ]
  },
  {
   "cell_type": "code",
   "execution_count": 225,
   "id": "a40e9189",
   "metadata": {},
   "outputs": [],
   "source": [
    "#Creating objects of Preetytable\n",
    "x=PrettyTable()\n",
    "y=PrettyTable()"
   ]
  },
  {
   "cell_type": "code",
   "execution_count": 226,
   "id": "8f0c2b31",
   "metadata": {},
   "outputs": [],
   "source": [
    "x.field_names = [\"Model(Test)\", \"f1_score\",\"accuracy\",\"precision\",\"recall\"]\n",
    "x.add_row([\"# Random Forest\", \"0.98\",'0.97','0.98','0.98'])"
   ]
  },
  {
   "cell_type": "code",
   "execution_count": 227,
   "id": "53eecf24",
   "metadata": {},
   "outputs": [],
   "source": [
    "y.field_names = [\"Model(Train)\", \"f1_score\",\"accuracy\",\"precision\",\"recall\"]\n",
    "y.add_row([\"# Random Forest\", \"1.0\",'1.0','1.0','1.0'])"
   ]
  },
  {
   "cell_type": "code",
   "execution_count": 228,
   "id": "b4480e78",
   "metadata": {},
   "outputs": [
    {
     "name": "stdout",
     "output_type": "stream",
     "text": [
      "+-----------------+----------+----------+-----------+--------+\n",
      "|   Model(Test)   | f1_score | accuracy | precision | recall |\n",
      "+-----------------+----------+----------+-----------+--------+\n",
      "| # Random Forest |   0.98   |   0.97   |    0.98   |  0.98  |\n",
      "+-----------------+----------+----------+-----------+--------+\n",
      "+-----------------+----------+----------+-----------+--------+\n",
      "|   Model(Train)  | f1_score | accuracy | precision | recall |\n",
      "+-----------------+----------+----------+-----------+--------+\n",
      "| # Random Forest |   1.0    |   1.0    |    1.0    |  1.0   |\n",
      "+-----------------+----------+----------+-----------+--------+\n"
     ]
    }
   ],
   "source": [
    "print(x)\n",
    "print(y)"
   ]
  },
  {
   "cell_type": "markdown",
   "id": "70366e06",
   "metadata": {},
   "source": [
    "## Observations-\n",
    "\n",
    "- The f1-score for test data is 0.98 and for train data is 1.0\n",
    "- The accuracy score for test data is 0.97 and for train data is 1.0\n",
    "- The precision score for test data is 0.98 and for train data is 1.0\n",
    "- The recall score for test data is 0.98 and for train data is 1.0\n",
    "- The model has high bias and low variance so it can't be considered as a generalised model."
   ]
  },
  {
   "cell_type": "markdown",
   "id": "8e27ec7f",
   "metadata": {},
   "source": [
    "# Hyperparameter tuning( Random Forest):-"
   ]
  },
  {
   "cell_type": "code",
   "execution_count": 125,
   "id": "918f9240",
   "metadata": {},
   "outputs": [],
   "source": [
    "from sklearn.model_selection import RandomizedSearchCV\n",
    "\n",
    "n_estimators = [int(x) for x in np.linspace(start=200, stop=2000, num=10)]       #Number of decision trees\n",
    "max_features = ['log2', 'sqrt']                                  #maximum number of features allowed to try in individual tree\n",
    "max_depth = [int(x) for x in np.linspace(10, 110, num=11)]      #List Comprehension-using for loop in list\n",
    "min_samples_split = (list(range(2, 20)))#minimum number of samples required to split an internal node\n",
    "min_samples_leaf = (list(range(2, 20)))#minimum number of samples required to be at a leaf node.\n"
   ]
  },
  {
   "cell_type": "code",
   "execution_count": 126,
   "id": "05272774",
   "metadata": {},
   "outputs": [],
   "source": [
    "#dictionary for hyperparameters\n",
    "random_grid = {'n_estimators': n_estimators, 'max_features': max_features,\n",
    "               'max_depth': max_depth, 'min_samples_split': min_samples_split,\n",
    "               'min_samples_leaf': min_samples_leaf}"
   ]
  },
  {
   "cell_type": "code",
   "execution_count": 127,
   "id": "89246d5a",
   "metadata": {},
   "outputs": [],
   "source": [
    "#MODEL Creation\n",
    "rf_clf1 = RandomForestClassifier(random_state=42)#model"
   ]
  },
  {
   "cell_type": "code",
   "execution_count": 128,
   "id": "9c996dea",
   "metadata": {},
   "outputs": [],
   "source": [
    "rf_cv = RandomizedSearchCV(estimator=rf_clf1, scoring='f1',param_distributions=random_grid, n_iter=100, cv=3, \n",
    "                               verbose=2, random_state=42, n_jobs=-1)"
   ]
  },
  {
   "cell_type": "code",
   "execution_count": 129,
   "id": "2082b55c",
   "metadata": {},
   "outputs": [
    {
     "name": "stdout",
     "output_type": "stream",
     "text": [
      "Fitting 3 folds for each of 100 candidates, totalling 300 fits\n"
     ]
    },
    {
     "data": {
      "text/html": [
       "<style>#sk-container-id-11 {color: black;background-color: white;}#sk-container-id-11 pre{padding: 0;}#sk-container-id-11 div.sk-toggleable {background-color: white;}#sk-container-id-11 label.sk-toggleable__label {cursor: pointer;display: block;width: 100%;margin-bottom: 0;padding: 0.3em;box-sizing: border-box;text-align: center;}#sk-container-id-11 label.sk-toggleable__label-arrow:before {content: \"▸\";float: left;margin-right: 0.25em;color: #696969;}#sk-container-id-11 label.sk-toggleable__label-arrow:hover:before {color: black;}#sk-container-id-11 div.sk-estimator:hover label.sk-toggleable__label-arrow:before {color: black;}#sk-container-id-11 div.sk-toggleable__content {max-height: 0;max-width: 0;overflow: hidden;text-align: left;background-color: #f0f8ff;}#sk-container-id-11 div.sk-toggleable__content pre {margin: 0.2em;color: black;border-radius: 0.25em;background-color: #f0f8ff;}#sk-container-id-11 input.sk-toggleable__control:checked~div.sk-toggleable__content {max-height: 200px;max-width: 100%;overflow: auto;}#sk-container-id-11 input.sk-toggleable__control:checked~label.sk-toggleable__label-arrow:before {content: \"▾\";}#sk-container-id-11 div.sk-estimator input.sk-toggleable__control:checked~label.sk-toggleable__label {background-color: #d4ebff;}#sk-container-id-11 div.sk-label input.sk-toggleable__control:checked~label.sk-toggleable__label {background-color: #d4ebff;}#sk-container-id-11 input.sk-hidden--visually {border: 0;clip: rect(1px 1px 1px 1px);clip: rect(1px, 1px, 1px, 1px);height: 1px;margin: -1px;overflow: hidden;padding: 0;position: absolute;width: 1px;}#sk-container-id-11 div.sk-estimator {font-family: monospace;background-color: #f0f8ff;border: 1px dotted black;border-radius: 0.25em;box-sizing: border-box;margin-bottom: 0.5em;}#sk-container-id-11 div.sk-estimator:hover {background-color: #d4ebff;}#sk-container-id-11 div.sk-parallel-item::after {content: \"\";width: 100%;border-bottom: 1px solid gray;flex-grow: 1;}#sk-container-id-11 div.sk-label:hover label.sk-toggleable__label {background-color: #d4ebff;}#sk-container-id-11 div.sk-serial::before {content: \"\";position: absolute;border-left: 1px solid gray;box-sizing: border-box;top: 0;bottom: 0;left: 50%;z-index: 0;}#sk-container-id-11 div.sk-serial {display: flex;flex-direction: column;align-items: center;background-color: white;padding-right: 0.2em;padding-left: 0.2em;position: relative;}#sk-container-id-11 div.sk-item {position: relative;z-index: 1;}#sk-container-id-11 div.sk-parallel {display: flex;align-items: stretch;justify-content: center;background-color: white;position: relative;}#sk-container-id-11 div.sk-item::before, #sk-container-id-11 div.sk-parallel-item::before {content: \"\";position: absolute;border-left: 1px solid gray;box-sizing: border-box;top: 0;bottom: 0;left: 50%;z-index: -1;}#sk-container-id-11 div.sk-parallel-item {display: flex;flex-direction: column;z-index: 1;position: relative;background-color: white;}#sk-container-id-11 div.sk-parallel-item:first-child::after {align-self: flex-end;width: 50%;}#sk-container-id-11 div.sk-parallel-item:last-child::after {align-self: flex-start;width: 50%;}#sk-container-id-11 div.sk-parallel-item:only-child::after {width: 0;}#sk-container-id-11 div.sk-dashed-wrapped {border: 1px dashed gray;margin: 0 0.4em 0.5em 0.4em;box-sizing: border-box;padding-bottom: 0.4em;background-color: white;}#sk-container-id-11 div.sk-label label {font-family: monospace;font-weight: bold;display: inline-block;line-height: 1.2em;}#sk-container-id-11 div.sk-label-container {text-align: center;}#sk-container-id-11 div.sk-container {/* jupyter's `normalize.less` sets `[hidden] { display: none; }` but bootstrap.min.css set `[hidden] { display: none !important; }` so we also need the `!important` here to be able to override the default hidden behavior on the sphinx rendered scikit-learn.org. See: https://github.com/scikit-learn/scikit-learn/issues/21755 */display: inline-block !important;position: relative;}#sk-container-id-11 div.sk-text-repr-fallback {display: none;}</style><div id=\"sk-container-id-11\" class=\"sk-top-container\"><div class=\"sk-text-repr-fallback\"><pre>RandomizedSearchCV(cv=3, estimator=RandomForestClassifier(random_state=42),\n",
       "                   n_iter=100, n_jobs=-1,\n",
       "                   param_distributions={&#x27;max_depth&#x27;: [10, 20, 30, 40, 50, 60,\n",
       "                                                      70, 80, 90, 100, 110],\n",
       "                                        &#x27;max_features&#x27;: [&#x27;log2&#x27;, &#x27;sqrt&#x27;],\n",
       "                                        &#x27;min_samples_leaf&#x27;: [2, 3, 4, 5, 6, 7,\n",
       "                                                             8, 9, 10, 11, 12,\n",
       "                                                             13, 14, 15, 16, 17,\n",
       "                                                             18, 19],\n",
       "                                        &#x27;min_samples_split&#x27;: [2, 3, 4, 5, 6, 7,\n",
       "                                                              8, 9, 10, 11, 12,\n",
       "                                                              13, 14, 15, 16,\n",
       "                                                              17, 18, 19],\n",
       "                                        &#x27;n_estimators&#x27;: [200, 400, 600, 800,\n",
       "                                                         1000, 1200, 1400, 1600,\n",
       "                                                         1800, 2000]},\n",
       "                   random_state=42, scoring=&#x27;f1&#x27;, verbose=2)</pre><b>In a Jupyter environment, please rerun this cell to show the HTML representation or trust the notebook. <br />On GitHub, the HTML representation is unable to render, please try loading this page with nbviewer.org.</b></div><div class=\"sk-container\" hidden><div class=\"sk-item sk-dashed-wrapped\"><div class=\"sk-label-container\"><div class=\"sk-label sk-toggleable\"><input class=\"sk-toggleable__control sk-hidden--visually\" id=\"sk-estimator-id-17\" type=\"checkbox\" ><label for=\"sk-estimator-id-17\" class=\"sk-toggleable__label sk-toggleable__label-arrow\">RandomizedSearchCV</label><div class=\"sk-toggleable__content\"><pre>RandomizedSearchCV(cv=3, estimator=RandomForestClassifier(random_state=42),\n",
       "                   n_iter=100, n_jobs=-1,\n",
       "                   param_distributions={&#x27;max_depth&#x27;: [10, 20, 30, 40, 50, 60,\n",
       "                                                      70, 80, 90, 100, 110],\n",
       "                                        &#x27;max_features&#x27;: [&#x27;log2&#x27;, &#x27;sqrt&#x27;],\n",
       "                                        &#x27;min_samples_leaf&#x27;: [2, 3, 4, 5, 6, 7,\n",
       "                                                             8, 9, 10, 11, 12,\n",
       "                                                             13, 14, 15, 16, 17,\n",
       "                                                             18, 19],\n",
       "                                        &#x27;min_samples_split&#x27;: [2, 3, 4, 5, 6, 7,\n",
       "                                                              8, 9, 10, 11, 12,\n",
       "                                                              13, 14, 15, 16,\n",
       "                                                              17, 18, 19],\n",
       "                                        &#x27;n_estimators&#x27;: [200, 400, 600, 800,\n",
       "                                                         1000, 1200, 1400, 1600,\n",
       "                                                         1800, 2000]},\n",
       "                   random_state=42, scoring=&#x27;f1&#x27;, verbose=2)</pre></div></div></div><div class=\"sk-parallel\"><div class=\"sk-parallel-item\"><div class=\"sk-item\"><div class=\"sk-label-container\"><div class=\"sk-label sk-toggleable\"><input class=\"sk-toggleable__control sk-hidden--visually\" id=\"sk-estimator-id-18\" type=\"checkbox\" ><label for=\"sk-estimator-id-18\" class=\"sk-toggleable__label sk-toggleable__label-arrow\">estimator: RandomForestClassifier</label><div class=\"sk-toggleable__content\"><pre>RandomForestClassifier(random_state=42)</pre></div></div></div><div class=\"sk-serial\"><div class=\"sk-item\"><div class=\"sk-estimator sk-toggleable\"><input class=\"sk-toggleable__control sk-hidden--visually\" id=\"sk-estimator-id-19\" type=\"checkbox\" ><label for=\"sk-estimator-id-19\" class=\"sk-toggleable__label sk-toggleable__label-arrow\">RandomForestClassifier</label><div class=\"sk-toggleable__content\"><pre>RandomForestClassifier(random_state=42)</pre></div></div></div></div></div></div></div></div></div></div>"
      ],
      "text/plain": [
       "RandomizedSearchCV(cv=3, estimator=RandomForestClassifier(random_state=42),\n",
       "                   n_iter=100, n_jobs=-1,\n",
       "                   param_distributions={'max_depth': [10, 20, 30, 40, 50, 60,\n",
       "                                                      70, 80, 90, 100, 110],\n",
       "                                        'max_features': ['log2', 'sqrt'],\n",
       "                                        'min_samples_leaf': [2, 3, 4, 5, 6, 7,\n",
       "                                                             8, 9, 10, 11, 12,\n",
       "                                                             13, 14, 15, 16, 17,\n",
       "                                                             18, 19],\n",
       "                                        'min_samples_split': [2, 3, 4, 5, 6, 7,\n",
       "                                                              8, 9, 10, 11, 12,\n",
       "                                                              13, 14, 15, 16,\n",
       "                                                              17, 18, 19],\n",
       "                                        'n_estimators': [200, 400, 600, 800,\n",
       "                                                         1000, 1200, 1400, 1600,\n",
       "                                                         1800, 2000]},\n",
       "                   random_state=42, scoring='f1', verbose=2)"
      ]
     },
     "execution_count": 129,
     "metadata": {},
     "output_type": "execute_result"
    }
   ],
   "source": [
    "rf_cv.fit(X_smote, y_smote) #training the model"
   ]
  },
  {
   "cell_type": "code",
   "execution_count": 130,
   "id": "14e5b621",
   "metadata": {},
   "outputs": [
    {
     "name": "stdout",
     "output_type": "stream",
     "text": [
      "Best paramters: {'n_estimators': 200, 'min_samples_split': 4, 'min_samples_leaf': 2, 'max_features': 'log2', 'max_depth': 110})\n"
     ]
    }
   ],
   "source": [
    "rf_best_params = rf_cv.best_params_                          ##it will give you best parameters \n",
    "print(f\"Best paramters: {rf_best_params})\") "
   ]
  },
  {
   "cell_type": "code",
   "execution_count": 169,
   "id": "36cbb1cc",
   "metadata": {},
   "outputs": [],
   "source": [
    "#passing best parameter to randomforest\n",
    "rf_clf2 = RandomForestClassifier(n_estimators= 200, min_samples_split= 4, min_samples_leaf= 2, \n",
    "                                 max_features= 'log2', max_depth= 110)"
   ]
  },
  {
   "cell_type": "code",
   "execution_count": 170,
   "id": "cc3281be",
   "metadata": {},
   "outputs": [
    {
     "data": {
      "text/html": [
       "<style>#sk-container-id-13 {color: black;background-color: white;}#sk-container-id-13 pre{padding: 0;}#sk-container-id-13 div.sk-toggleable {background-color: white;}#sk-container-id-13 label.sk-toggleable__label {cursor: pointer;display: block;width: 100%;margin-bottom: 0;padding: 0.3em;box-sizing: border-box;text-align: center;}#sk-container-id-13 label.sk-toggleable__label-arrow:before {content: \"▸\";float: left;margin-right: 0.25em;color: #696969;}#sk-container-id-13 label.sk-toggleable__label-arrow:hover:before {color: black;}#sk-container-id-13 div.sk-estimator:hover label.sk-toggleable__label-arrow:before {color: black;}#sk-container-id-13 div.sk-toggleable__content {max-height: 0;max-width: 0;overflow: hidden;text-align: left;background-color: #f0f8ff;}#sk-container-id-13 div.sk-toggleable__content pre {margin: 0.2em;color: black;border-radius: 0.25em;background-color: #f0f8ff;}#sk-container-id-13 input.sk-toggleable__control:checked~div.sk-toggleable__content {max-height: 200px;max-width: 100%;overflow: auto;}#sk-container-id-13 input.sk-toggleable__control:checked~label.sk-toggleable__label-arrow:before {content: \"▾\";}#sk-container-id-13 div.sk-estimator input.sk-toggleable__control:checked~label.sk-toggleable__label {background-color: #d4ebff;}#sk-container-id-13 div.sk-label input.sk-toggleable__control:checked~label.sk-toggleable__label {background-color: #d4ebff;}#sk-container-id-13 input.sk-hidden--visually {border: 0;clip: rect(1px 1px 1px 1px);clip: rect(1px, 1px, 1px, 1px);height: 1px;margin: -1px;overflow: hidden;padding: 0;position: absolute;width: 1px;}#sk-container-id-13 div.sk-estimator {font-family: monospace;background-color: #f0f8ff;border: 1px dotted black;border-radius: 0.25em;box-sizing: border-box;margin-bottom: 0.5em;}#sk-container-id-13 div.sk-estimator:hover {background-color: #d4ebff;}#sk-container-id-13 div.sk-parallel-item::after {content: \"\";width: 100%;border-bottom: 1px solid gray;flex-grow: 1;}#sk-container-id-13 div.sk-label:hover label.sk-toggleable__label {background-color: #d4ebff;}#sk-container-id-13 div.sk-serial::before {content: \"\";position: absolute;border-left: 1px solid gray;box-sizing: border-box;top: 0;bottom: 0;left: 50%;z-index: 0;}#sk-container-id-13 div.sk-serial {display: flex;flex-direction: column;align-items: center;background-color: white;padding-right: 0.2em;padding-left: 0.2em;position: relative;}#sk-container-id-13 div.sk-item {position: relative;z-index: 1;}#sk-container-id-13 div.sk-parallel {display: flex;align-items: stretch;justify-content: center;background-color: white;position: relative;}#sk-container-id-13 div.sk-item::before, #sk-container-id-13 div.sk-parallel-item::before {content: \"\";position: absolute;border-left: 1px solid gray;box-sizing: border-box;top: 0;bottom: 0;left: 50%;z-index: -1;}#sk-container-id-13 div.sk-parallel-item {display: flex;flex-direction: column;z-index: 1;position: relative;background-color: white;}#sk-container-id-13 div.sk-parallel-item:first-child::after {align-self: flex-end;width: 50%;}#sk-container-id-13 div.sk-parallel-item:last-child::after {align-self: flex-start;width: 50%;}#sk-container-id-13 div.sk-parallel-item:only-child::after {width: 0;}#sk-container-id-13 div.sk-dashed-wrapped {border: 1px dashed gray;margin: 0 0.4em 0.5em 0.4em;box-sizing: border-box;padding-bottom: 0.4em;background-color: white;}#sk-container-id-13 div.sk-label label {font-family: monospace;font-weight: bold;display: inline-block;line-height: 1.2em;}#sk-container-id-13 div.sk-label-container {text-align: center;}#sk-container-id-13 div.sk-container {/* jupyter's `normalize.less` sets `[hidden] { display: none; }` but bootstrap.min.css set `[hidden] { display: none !important; }` so we also need the `!important` here to be able to override the default hidden behavior on the sphinx rendered scikit-learn.org. See: https://github.com/scikit-learn/scikit-learn/issues/21755 */display: inline-block !important;position: relative;}#sk-container-id-13 div.sk-text-repr-fallback {display: none;}</style><div id=\"sk-container-id-13\" class=\"sk-top-container\"><div class=\"sk-text-repr-fallback\"><pre>RandomForestClassifier(max_depth=110, max_features=&#x27;log2&#x27;, min_samples_leaf=2,\n",
       "                       min_samples_split=4, n_estimators=200)</pre><b>In a Jupyter environment, please rerun this cell to show the HTML representation or trust the notebook. <br />On GitHub, the HTML representation is unable to render, please try loading this page with nbviewer.org.</b></div><div class=\"sk-container\" hidden><div class=\"sk-item\"><div class=\"sk-estimator sk-toggleable\"><input class=\"sk-toggleable__control sk-hidden--visually\" id=\"sk-estimator-id-21\" type=\"checkbox\" checked><label for=\"sk-estimator-id-21\" class=\"sk-toggleable__label sk-toggleable__label-arrow\">RandomForestClassifier</label><div class=\"sk-toggleable__content\"><pre>RandomForestClassifier(max_depth=110, max_features=&#x27;log2&#x27;, min_samples_leaf=2,\n",
       "                       min_samples_split=4, n_estimators=200)</pre></div></div></div></div></div>"
      ],
      "text/plain": [
       "RandomForestClassifier(max_depth=110, max_features='log2', min_samples_leaf=2,\n",
       "                       min_samples_split=4, n_estimators=200)"
      ]
     },
     "execution_count": 170,
     "metadata": {},
     "output_type": "execute_result"
    }
   ],
   "source": [
    "rf_clf2.fit(X_smote,y_smote)"
   ]
  },
  {
   "cell_type": "code",
   "execution_count": 171,
   "id": "6d2dd2d4",
   "metadata": {},
   "outputs": [],
   "source": [
    "X_pred16 = rf_clf2.predict(X_test)\n",
    "X_pred_train16 = rf_clf2.predict(X_smote)"
   ]
  },
  {
   "cell_type": "code",
   "execution_count": 172,
   "id": "f12d3e9b",
   "metadata": {},
   "outputs": [
    {
     "name": "stdout",
     "output_type": "stream",
     "text": [
      "0.9828571428571429\n",
      "0.9952988582941571\n"
     ]
    }
   ],
   "source": [
    "print(f1_score(y_test,X_pred16))\n",
    "print(f1_score(y_smote,X_pred_train16))"
   ]
  },
  {
   "cell_type": "code",
   "execution_count": 173,
   "id": "901c1009",
   "metadata": {},
   "outputs": [
    {
     "name": "stdout",
     "output_type": "stream",
     "text": [
      "0.97\n",
      "0.9952893674293405\n"
     ]
    }
   ],
   "source": [
    "print(accuracy_score(y_test,X_pred16))\n",
    "print(accuracy_score(y_smote,X_pred_train16))"
   ]
  },
  {
   "cell_type": "code",
   "execution_count": 174,
   "id": "c8a7f329",
   "metadata": {},
   "outputs": [
    {
     "name": "stdout",
     "output_type": "stream",
     "text": [
      "0.9847328244274809\n",
      "0.9932975871313673\n"
     ]
    }
   ],
   "source": [
    "print(precision_score(y_test,X_pred16))\n",
    "print(precision_score(y_smote,X_pred_train16))"
   ]
  },
  {
   "cell_type": "code",
   "execution_count": 175,
   "id": "82a2d0ba",
   "metadata": {},
   "outputs": [
    {
     "name": "stdout",
     "output_type": "stream",
     "text": [
      "0.9809885931558935\n",
      "0.9973082099596231\n"
     ]
    }
   ],
   "source": [
    "print(recall_score(y_test,X_pred16))\n",
    "print(recall_score(y_smote,X_pred_train16))"
   ]
  },
  {
   "cell_type": "code",
   "execution_count": 229,
   "id": "f156262e",
   "metadata": {},
   "outputs": [],
   "source": [
    "#Creating objects of Preetytable\n",
    "x=PrettyTable()\n",
    "y=PrettyTable()"
   ]
  },
  {
   "cell_type": "code",
   "execution_count": 230,
   "id": "1f427255",
   "metadata": {},
   "outputs": [],
   "source": [
    "x.field_names = [\"Model(Test)\", \"f1_score\",\"accuracy\",\"precision\",\"recall\"]\n",
    "x.add_row([\"# Random Forest (Hyperparameter)\", \"0.98\",'0.97','0.98','0.98'])"
   ]
  },
  {
   "cell_type": "code",
   "execution_count": 231,
   "id": "b11854cb",
   "metadata": {},
   "outputs": [],
   "source": [
    "y.field_names = [\"Model(Train)\", \"f1_score\",\"accuracy\",\"precision\",\"recall\"]\n",
    "y.add_row([\"# Random Forest (Hyperparameter)\", \"0.99\",'0.99','0.99','0.99'])"
   ]
  },
  {
   "cell_type": "code",
   "execution_count": 232,
   "id": "d0104458",
   "metadata": {},
   "outputs": [
    {
     "name": "stdout",
     "output_type": "stream",
     "text": [
      "+----------------------------------+----------+----------+-----------+--------+\n",
      "|           Model(Test)            | f1_score | accuracy | precision | recall |\n",
      "+----------------------------------+----------+----------+-----------+--------+\n",
      "| # Random Forest (Hyperparameter) |   0.98   |   0.97   |    0.98   |  0.98  |\n",
      "+----------------------------------+----------+----------+-----------+--------+\n",
      "+----------------------------------+----------+----------+-----------+--------+\n",
      "|           Model(Train)           | f1_score | accuracy | precision | recall |\n",
      "+----------------------------------+----------+----------+-----------+--------+\n",
      "| # Random Forest (Hyperparameter) |   0.99   |   0.99   |    0.99   |  0.99  |\n",
      "+----------------------------------+----------+----------+-----------+--------+\n"
     ]
    }
   ],
   "source": [
    "print(x)\n",
    "print(y)"
   ]
  },
  {
   "cell_type": "markdown",
   "id": "b844f781",
   "metadata": {},
   "source": [
    "Observations-\n",
    "\n",
    "- The f1-score for test data is 0.98 and for train data is 0.99\n",
    "- The accuracy score for test data is 0.97 and for train data is 0.99\n",
    "- The precision score for test data is 0.98 and for train data is 0.99\n",
    "- The recall score for test data is 0.98 and for train data is 0.99\n",
    "- The model has high bias and low variance so it can't be considered as a generalised model."
   ]
  },
  {
   "cell_type": "markdown",
   "id": "ae05f0a4",
   "metadata": {},
   "source": [
    "# Gradient Boosting"
   ]
  },
  {
   "cell_type": "code",
   "execution_count": 181,
   "id": "9983307f",
   "metadata": {},
   "outputs": [],
   "source": [
    "from sklearn.ensemble import GradientBoostingClassifier\n",
    "clf = GradientBoostingClassifier(random_state=44)"
   ]
  },
  {
   "cell_type": "code",
   "execution_count": 182,
   "id": "911f70f3",
   "metadata": {},
   "outputs": [
    {
     "data": {
      "text/html": [
       "<style>#sk-container-id-14 {color: black;background-color: white;}#sk-container-id-14 pre{padding: 0;}#sk-container-id-14 div.sk-toggleable {background-color: white;}#sk-container-id-14 label.sk-toggleable__label {cursor: pointer;display: block;width: 100%;margin-bottom: 0;padding: 0.3em;box-sizing: border-box;text-align: center;}#sk-container-id-14 label.sk-toggleable__label-arrow:before {content: \"▸\";float: left;margin-right: 0.25em;color: #696969;}#sk-container-id-14 label.sk-toggleable__label-arrow:hover:before {color: black;}#sk-container-id-14 div.sk-estimator:hover label.sk-toggleable__label-arrow:before {color: black;}#sk-container-id-14 div.sk-toggleable__content {max-height: 0;max-width: 0;overflow: hidden;text-align: left;background-color: #f0f8ff;}#sk-container-id-14 div.sk-toggleable__content pre {margin: 0.2em;color: black;border-radius: 0.25em;background-color: #f0f8ff;}#sk-container-id-14 input.sk-toggleable__control:checked~div.sk-toggleable__content {max-height: 200px;max-width: 100%;overflow: auto;}#sk-container-id-14 input.sk-toggleable__control:checked~label.sk-toggleable__label-arrow:before {content: \"▾\";}#sk-container-id-14 div.sk-estimator input.sk-toggleable__control:checked~label.sk-toggleable__label {background-color: #d4ebff;}#sk-container-id-14 div.sk-label input.sk-toggleable__control:checked~label.sk-toggleable__label {background-color: #d4ebff;}#sk-container-id-14 input.sk-hidden--visually {border: 0;clip: rect(1px 1px 1px 1px);clip: rect(1px, 1px, 1px, 1px);height: 1px;margin: -1px;overflow: hidden;padding: 0;position: absolute;width: 1px;}#sk-container-id-14 div.sk-estimator {font-family: monospace;background-color: #f0f8ff;border: 1px dotted black;border-radius: 0.25em;box-sizing: border-box;margin-bottom: 0.5em;}#sk-container-id-14 div.sk-estimator:hover {background-color: #d4ebff;}#sk-container-id-14 div.sk-parallel-item::after {content: \"\";width: 100%;border-bottom: 1px solid gray;flex-grow: 1;}#sk-container-id-14 div.sk-label:hover label.sk-toggleable__label {background-color: #d4ebff;}#sk-container-id-14 div.sk-serial::before {content: \"\";position: absolute;border-left: 1px solid gray;box-sizing: border-box;top: 0;bottom: 0;left: 50%;z-index: 0;}#sk-container-id-14 div.sk-serial {display: flex;flex-direction: column;align-items: center;background-color: white;padding-right: 0.2em;padding-left: 0.2em;position: relative;}#sk-container-id-14 div.sk-item {position: relative;z-index: 1;}#sk-container-id-14 div.sk-parallel {display: flex;align-items: stretch;justify-content: center;background-color: white;position: relative;}#sk-container-id-14 div.sk-item::before, #sk-container-id-14 div.sk-parallel-item::before {content: \"\";position: absolute;border-left: 1px solid gray;box-sizing: border-box;top: 0;bottom: 0;left: 50%;z-index: -1;}#sk-container-id-14 div.sk-parallel-item {display: flex;flex-direction: column;z-index: 1;position: relative;background-color: white;}#sk-container-id-14 div.sk-parallel-item:first-child::after {align-self: flex-end;width: 50%;}#sk-container-id-14 div.sk-parallel-item:last-child::after {align-self: flex-start;width: 50%;}#sk-container-id-14 div.sk-parallel-item:only-child::after {width: 0;}#sk-container-id-14 div.sk-dashed-wrapped {border: 1px dashed gray;margin: 0 0.4em 0.5em 0.4em;box-sizing: border-box;padding-bottom: 0.4em;background-color: white;}#sk-container-id-14 div.sk-label label {font-family: monospace;font-weight: bold;display: inline-block;line-height: 1.2em;}#sk-container-id-14 div.sk-label-container {text-align: center;}#sk-container-id-14 div.sk-container {/* jupyter's `normalize.less` sets `[hidden] { display: none; }` but bootstrap.min.css set `[hidden] { display: none !important; }` so we also need the `!important` here to be able to override the default hidden behavior on the sphinx rendered scikit-learn.org. See: https://github.com/scikit-learn/scikit-learn/issues/21755 */display: inline-block !important;position: relative;}#sk-container-id-14 div.sk-text-repr-fallback {display: none;}</style><div id=\"sk-container-id-14\" class=\"sk-top-container\"><div class=\"sk-text-repr-fallback\"><pre>GradientBoostingClassifier(random_state=44)</pre><b>In a Jupyter environment, please rerun this cell to show the HTML representation or trust the notebook. <br />On GitHub, the HTML representation is unable to render, please try loading this page with nbviewer.org.</b></div><div class=\"sk-container\" hidden><div class=\"sk-item\"><div class=\"sk-estimator sk-toggleable\"><input class=\"sk-toggleable__control sk-hidden--visually\" id=\"sk-estimator-id-22\" type=\"checkbox\" checked><label for=\"sk-estimator-id-22\" class=\"sk-toggleable__label sk-toggleable__label-arrow\">GradientBoostingClassifier</label><div class=\"sk-toggleable__content\"><pre>GradientBoostingClassifier(random_state=44)</pre></div></div></div></div></div>"
      ],
      "text/plain": [
       "GradientBoostingClassifier(random_state=44)"
      ]
     },
     "execution_count": 182,
     "metadata": {},
     "output_type": "execute_result"
    }
   ],
   "source": [
    "clf.fit(X_smote,y_smote)#training model with best parameter"
   ]
  },
  {
   "cell_type": "code",
   "execution_count": 183,
   "id": "08c7dc6a",
   "metadata": {},
   "outputs": [],
   "source": [
    "boost1 = clf.predict(X_test)\n",
    "boost2 = clf.predict(X_smote)"
   ]
  },
  {
   "cell_type": "code",
   "execution_count": 184,
   "id": "76e26b76",
   "metadata": {},
   "outputs": [
    {
     "name": "stdout",
     "output_type": "stream",
     "text": [
      "0.9788867562380039\n",
      "0.9959514170040487\n"
     ]
    }
   ],
   "source": [
    "print(f1_score(y_test,boost1))\n",
    "print(f1_score(y_smote,boost2))"
   ]
  },
  {
   "cell_type": "code",
   "execution_count": 185,
   "id": "9cbf0452",
   "metadata": {},
   "outputs": [
    {
     "name": "stdout",
     "output_type": "stream",
     "text": [
      "0.9633333333333334\n",
      "0.9959623149394348\n"
     ]
    }
   ],
   "source": [
    "print(accuracy_score(y_test,boost1))\n",
    "print(accuracy_score(y_smote,boost2))"
   ]
  },
  {
   "cell_type": "code",
   "execution_count": 186,
   "id": "d1141243",
   "metadata": {},
   "outputs": [
    {
     "name": "stdout",
     "output_type": "stream",
     "text": [
      "0.9883720930232558\n",
      "0.9986468200270636\n"
     ]
    }
   ],
   "source": [
    "print(precision_score(y_test,boost1))\n",
    "print(precision_score(y_smote,boost2))"
   ]
  },
  {
   "cell_type": "code",
   "execution_count": 187,
   "id": "0bbf95b6",
   "metadata": {},
   "outputs": [
    {
     "name": "stdout",
     "output_type": "stream",
     "text": [
      "0.9695817490494296\n",
      "0.9932705248990579\n"
     ]
    }
   ],
   "source": [
    "print(recall_score(y_test,boost1))\n",
    "print(recall_score(y_smote,boost2))"
   ]
  },
  {
   "cell_type": "code",
   "execution_count": 233,
   "id": "af1dc053",
   "metadata": {},
   "outputs": [],
   "source": [
    "#Creating objects of Preetytable\n",
    "x=PrettyTable()\n",
    "y=PrettyTable()"
   ]
  },
  {
   "cell_type": "code",
   "execution_count": 234,
   "id": "c6a03188",
   "metadata": {},
   "outputs": [],
   "source": [
    "x.field_names = [\"Model(Test)\", \"f1_score\",\"accuracy\",\"precision\",\"recall\"]\n",
    "x.add_row([\"# Gradient Boosting\", \"0.97\",'0.96','0.98','0.96'])"
   ]
  },
  {
   "cell_type": "code",
   "execution_count": 235,
   "id": "2a12abf5",
   "metadata": {},
   "outputs": [],
   "source": [
    "y.field_names = [\"Model(Train)\", \"f1_score\",\"accuracy\",\"precision\",\"recall\"]\n",
    "y.add_row([\"# Gradient Boosting\", \"0.99\",'0.99','0.99','0.99'])"
   ]
  },
  {
   "cell_type": "code",
   "execution_count": 236,
   "id": "673c9470",
   "metadata": {},
   "outputs": [
    {
     "name": "stdout",
     "output_type": "stream",
     "text": [
      "+---------------------+----------+----------+-----------+--------+\n",
      "|     Model(Test)     | f1_score | accuracy | precision | recall |\n",
      "+---------------------+----------+----------+-----------+--------+\n",
      "| # Gradient Boosting |   0.97   |   0.96   |    0.98   |  0.96  |\n",
      "+---------------------+----------+----------+-----------+--------+\n",
      "+---------------------+----------+----------+-----------+--------+\n",
      "|     Model(Train)    | f1_score | accuracy | precision | recall |\n",
      "+---------------------+----------+----------+-----------+--------+\n",
      "| # Gradient Boosting |   0.99   |   0.99   |    0.99   |  0.99  |\n",
      "+---------------------+----------+----------+-----------+--------+\n"
     ]
    }
   ],
   "source": [
    "print(x)\n",
    "print(y)"
   ]
  },
  {
   "cell_type": "markdown",
   "id": "f1dc7c04",
   "metadata": {},
   "source": [
    "Observations-\n",
    "\n",
    "- The f1-score for test data is 0.97 and for train data is 0.99\n",
    "- The accuracy score for test data is 0.96 and for train data is 0.99\n",
    "- The precision score for test data is 0.98 and for train data is 0.99\n",
    "- The recall score for test data is 0.96 and for train data is 0.99\n",
    "- The model has low bias and low variance so it can be considered as a generalised model."
   ]
  },
  {
   "cell_type": "markdown",
   "id": "63db7a01",
   "metadata": {},
   "source": [
    "# Conclusion-"
   ]
  },
  {
   "cell_type": "markdown",
   "id": "ec9cda24",
   "metadata": {},
   "source": [
    "- In this project,nearly six machine learning models i.e logistic regression, support vector machine(classifier), K- Nearest Neighbour, Decission tree, Random forest and Gradient boosting were examined to predict the performance rating of the employees in the company.The given dataset is a multiclass classification task for the easy of performing the task, the mutliclass classification task was converted into binary classification for better prediction and analysis at the business segment level.\n",
    "- Also Ensemble techniques such as bagging and boosting were also examined.\n",
    "- The training and testing data were used to train and test the data.These records were used to extract a number of characteristics.My suggested model can estimate the performance rating of the employees in the business level.\n",
    "- In this study almost all the models are performing good such as **Logistic Regression, Support Vector Classifier, K-nearest neighbour(bagging),Decision tree(tuned),random forest(tuned) and GradientBoosting**,\n",
    "- **But the best performing model to predict the performance rating of the employees are K- Nearest Neighbour,Random Forest(tuned) and Gradient Boosting**\n",
    "- **K-nearest neighbour** is a simple machine learning algorithm also known as KNN or k-NN, it is a non-parametric, supervised learning classifier, which uses proximity to make classifications or predictions about the grouping of an individual data point.The KNN algorithm has no explicit training step and all the work happens during prediction.Hence, it is also known as Lazy algorithm.\n",
    "- **Random forest** is a machine learning algorithm.It utilizes ensemble learning, which is a technique that combines many classifiers to provide solutions to complex problems.It consists of many decision trees. The ‘forest’ generated by the random forest algorithm is trained through bagging or bootstrap aggregating. Bagging is an ensemble meta-algorithm that improves the accuracy of machine learning algorithms.It’s more accurate than the decision tree algorithm.\n",
    "- **Gradient Boosting** is a powerful boosting algorithm that combines several weak learners into strong learners.The main idea behind this algorithm is to build models sequentially and these subsequent models try to reduce the errors of the previous model.\n",
    "- The project was successfully submitted as per the guideliness."
   ]
  }
 ],
 "metadata": {
  "kernelspec": {
   "display_name": "Python 3 (ipykernel)",
   "language": "python",
   "name": "python3"
  },
  "language_info": {
   "codemirror_mode": {
    "name": "ipython",
    "version": 3
   },
   "file_extension": ".py",
   "mimetype": "text/x-python",
   "name": "python",
   "nbconvert_exporter": "python",
   "pygments_lexer": "ipython3",
   "version": "3.9.12"
  }
 },
 "nbformat": 4,
 "nbformat_minor": 5
}
